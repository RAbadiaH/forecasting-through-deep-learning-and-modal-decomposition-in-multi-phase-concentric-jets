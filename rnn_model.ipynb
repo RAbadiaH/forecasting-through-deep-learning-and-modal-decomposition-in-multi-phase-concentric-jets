{
  "nbformat": 4,
  "nbformat_minor": 0,
  "metadata": {
    "colab": {
      "provenance": [],
      "authorship_tag": "ABX9TyOvD9xvArXJ8IXB0qy5kkNb",
      "include_colab_link": true
    },
    "kernelspec": {
      "name": "python3",
      "display_name": "Python 3"
    },
    "language_info": {
      "name": "python"
    }
  },
  "cells": [
    {
      "cell_type": "markdown",
      "metadata": {
        "id": "view-in-github",
        "colab_type": "text"
      },
      "source": [
        "<a href=\"https://colab.research.google.com/github/RAbadiaH/forecasting-through-deep-learning-and-modal-decomposition-in-multi-phase-concentric-jets/blob/main/rnn_model.ipynb\" target=\"_parent\"><img src=\"https://colab.research.google.com/assets/colab-badge.svg\" alt=\"Open In Colab\"/></a>"
      ]
    },
    {
      "cell_type": "code",
      "execution_count": null,
      "metadata": {
        "id": "FLTqlEaBKb2X"
      },
      "outputs": [],
      "source": []
    },
    {
      "cell_type": "markdown",
      "source": [
        "# Clone Github repository"
      ],
      "metadata": {
        "id": "SAwpNv93-SAV"
      }
    },
    {
      "cell_type": "code",
      "source": [
        "!git clone https://github.com/RAbadiaH/forecasting-through-deep-learning-and-modal-decomposition-in-multi-phase-concentric-jets.git"
      ],
      "metadata": {
        "id": "GeeU8wZq-V10"
      },
      "execution_count": null,
      "outputs": []
    },
    {
      "cell_type": "markdown",
      "metadata": {
        "id": "1cWy7FX5c7uX"
      },
      "source": [
        "# Import Libraries"
      ]
    },
    {
      "cell_type": "code",
      "metadata": {
        "id": "blMmfoH-c7ub"
      },
      "source": [
        "import numpy as np\n",
        "import pandas as pd\n",
        "import collections\n",
        "import os\n",
        "import matplotlib\n",
        "import matplotlib.pyplot as plt\n",
        "import datetime, time\n",
        "import scipy\n",
        "import scipy.io\n",
        "import seaborn as sns\n",
        "\n",
        "\n",
        "import sklearn\n",
        "from sklearn.preprocessing import MultiLabelBinarizer\n",
        "from sklearn.preprocessing import LabelBinarizer\n",
        "from sklearn.preprocessing import LabelEncoder\n",
        "from sklearn.multiclass import OneVsRestClassifier\n",
        "from sklearn.linear_model import LogisticRegression\n",
        "from sklearn.metrics import accuracy_score, precision_score, recall_score\n",
        "from sklearn.metrics import f1_score, confusion_matrix\n",
        "from sklearn.metrics import precision_recall_fscore_support\n",
        "from sklearn.model_selection import GridSearchCV\n",
        "from sklearn import svm\n",
        "from sklearn.preprocessing import StandardScaler\n",
        "from sklearn.preprocessing import MinMaxScaler\n",
        "from sklearn.kernel_approximation import RBFSampler\n",
        "from sklearn.linear_model import SGDClassifier\n",
        "import pandas.core.algorithms as algos\n",
        "from pandas import Series\n",
        "from sklearn.preprocessing import OneHotEncoder\n",
        "from sklearn.ensemble import RandomForestClassifier\n",
        "from sklearn.ensemble import GradientBoostingClassifier\n",
        "from sklearn.ensemble import AdaBoostClassifier\n",
        "from sklearn.tree import DecisionTreeClassifier\n",
        "from sklearn.metrics import confusion_matrix\n",
        "from sklearn.svm import LinearSVC, SVC\n",
        "from sklearn.linear_model import LogisticRegression\n",
        "from sklearn.metrics import roc_auc_score, mean_squared_error, mean_absolute_error, median_absolute_error, r2_score\n",
        "from sklearn.neural_network import MLPClassifier"
      ],
      "execution_count": null,
      "outputs": []
    },
    {
      "cell_type": "code",
      "source": [
        "font = {'size'   : 18}\n",
        "\n",
        "matplotlib.rc('font', **font)"
      ],
      "metadata": {
        "id": "obCA5iwe552A"
      },
      "execution_count": null,
      "outputs": []
    },
    {
      "cell_type": "code",
      "metadata": {
        "id": "iqZk78iCm6ve"
      },
      "source": [
        "def mean_absolute_percentage_error(y_true, y_pred): \n",
        "    epsilon = 1e-10 \n",
        "    y_true, y_pred = np.array(y_true), np.array(y_pred)\n",
        "    return np.mean(np.abs((y_true - y_pred) / np.maximum(epsilon,np.abs(y_true)))) * 100"
      ],
      "execution_count": null,
      "outputs": []
    },
    {
      "cell_type": "code",
      "metadata": {
        "id": "EoCbAC1KnlJ-"
      },
      "source": [
        "def smape(A, F):\n",
        "    return ((100.0/len(A)) * np.sum(2 * np.abs(F - A) / (np.abs(A) + np.abs(F))+ np.finfo(float).eps))"
      ],
      "execution_count": null,
      "outputs": []
    },
    {
      "cell_type": "code",
      "metadata": {
        "id": "f4QVCeWlc7uo"
      },
      "source": [
        "import tensorflow as tf\n",
        "from tensorflow import keras\n",
        "from tensorflow.keras import layers\n",
        "from tensorflow.keras.layers import Embedding, dot\n",
        "\n",
        "from tensorflow.keras.models import Sequential\n",
        "from tensorflow.keras.layers import Embedding, Dense, Dropout, Reshape, BatchNormalization, TimeDistributed, \\\n",
        "                         Lambda, Activation, LSTM, Flatten, Convolution1D, GRU, MaxPooling1D, concatenate\n",
        "from tensorflow.keras.regularizers import l2\n",
        "from tensorflow.keras.callbacks import Callback, ModelCheckpoint, EarlyStopping\n",
        "from tensorflow.keras import initializers\n",
        "from tensorflow.keras import backend as K\n",
        "from tensorflow.keras.optimizers import SGD\n",
        "\n",
        "from tensorflow.keras.models import Model\n",
        "from tensorflow.keras.layers import LSTM\n",
        "from tensorflow.keras.layers import Input\n",
        "from tensorflow.keras.backend import abs\n",
        "\n",
        "from tensorflow.keras.layers import Dense, Dropout, Flatten, dot, Permute, Concatenate\n",
        "from tensorflow.keras.layers import Conv2D, MaxPooling2D, Conv3D, MaxPooling3D\n",
        "\n",
        "from tensorflow.keras.layers import add, ConvLSTM2D\n"
      ],
      "execution_count": null,
      "outputs": []
    },
    {
      "cell_type": "code",
      "metadata": {
        "id": "pLvCm1Woc7uv"
      },
      "source": [
        "pd.set_option('display.max_columns',100)\n",
        "pd.set_option('display.max_rows',100)"
      ],
      "execution_count": null,
      "outputs": []
    },
    {
      "cell_type": "code",
      "metadata": {
        "id": "WjXp7oYKc7u2"
      },
      "source": [
        "# set working directory\n",
        "import os"
      ],
      "execution_count": null,
      "outputs": []
    },
    {
      "cell_type": "markdown",
      "source": [
        "# Data Loading"
      ],
      "metadata": {
        "id": "S9fO1spWinvM"
      }
    },
    {
      "cell_type": "code",
      "metadata": {
        "id": "uNfMFNPhc7u-",
        "scrolled": false,
        "colab": {
          "base_uri": "https://localhost:8080/"
        },
        "outputId": "69bd6cf6-00da-4635-ed97-335a22ca059e"
      },
      "source": [
        "!ls"
      ],
      "execution_count": null,
      "outputs": [
        {
          "output_type": "stream",
          "name": "stdout",
          "text": [
            " A-predictive-hybrid-ROM-model-based-on-proper-orthogonal-decomposition-with-DL-architectures\n",
            " Bluff_CTS_ROM.mat\n",
            " Bluff_CTS_sim.mat\n",
            " Bluff_MONO_ROM.mat\n",
            " Bluff_MONO_sim.mat\n",
            " Bluff_STS_ROM.mat\n",
            " Bluff_STS_simulacion.mat\n",
            " colab_UPM_CNN_model.csv\n",
            " colab_UPM_CNN_model.h5\n",
            " colab_UPM_CNN_model_last_w.h5\n",
            " colab_UPM_CNN_model_results_metrics.csv\n",
            " errors_CNN_model.csv\n",
            " Figures\n",
            " GITHUB\n",
            "'Mixture Density Network'\n",
            " Model_CNN_6_snap.ipynb\n",
            " Model_CNN.ipynb\n",
            " Model_CNN_v1.ipynb\n",
            " Model_LSTM.ipynb\n",
            " Model_LSTM_v1.ipynb\n",
            " Models_Autoencoder\n",
            " Models_VariationalAutoencoder\n",
            " Normal_CTS_ROM.mat\n",
            " Normal_CTS_sim.mat\n",
            " Normal_MONO_ROM.mat\n",
            " Normal_MONO_sim.mat\n",
            " Normal_STS_ROM.mat\n",
            " Normal_STS_sim.mat\n",
            "'Plot modes'\n"
          ]
        }
      ]
    },
    {
      "cell_type": "code",
      "source": [
        "f = scipy.io.loadmat('Normal_MONO_sim.mat'); Normal_MONO_sim = f.get('Normal_MONO_sim')\n",
        "\n",
        "f = scipy.io.loadmat('Normal_STS_sim.mat'); Normal_STS_sim = f.get('Normal_STS_sim')"
      ],
      "metadata": {
        "id": "IYiDroMv9Y30"
      },
      "execution_count": null,
      "outputs": []
    },
    {
      "cell_type": "code",
      "source": [
        "Tensor_MONO = Normal_MONO_sim\n",
        "\n",
        "Tensor_orig = Normal_STS_sim - Tensor_MONO\n",
        "tensor = Tensor_orig\n",
        "\n",
        "Name = \"Normal_STS_sim\""
      ],
      "metadata": {
        "id": "LVlSUIV39bf7"
      },
      "execution_count": null,
      "outputs": []
    },
    {
      "cell_type": "markdown",
      "metadata": {
        "id": "qQSDVCF8AyAk"
      },
      "source": [
        "# Reduction of tensor dimension\n",
        "\n"
      ]
    },
    {
      "cell_type": "code",
      "metadata": {
        "id": "tefa7_O5AyNW",
        "colab": {
          "base_uri": "https://localhost:8080/"
        },
        "outputId": "19b5dbc4-a8f9-46b4-c7a9-c48e0b085977"
      },
      "source": [
        "tensor = tensor[:,:,0::2,:]\n",
        "Tensor_MONO = Tensor_MONO[:,:,0::2,:]\n",
        "print(tensor.shape)\n",
        "print(Tensor_MONO.shape)"
      ],
      "execution_count": null,
      "outputs": [
        {
          "output_type": "stream",
          "name": "stdout",
          "text": [
            "(1, 100, 100, 351)\n",
            "(1, 100, 100, 351)\n"
          ]
        }
      ]
    },
    {
      "cell_type": "code",
      "metadata": {
        "id": "r1A5ugiAc7vk",
        "colab": {
          "base_uri": "https://localhost:8080/"
        },
        "outputId": "153d948c-0f47-4215-b35e-a530b0b7d313"
      },
      "source": [
        "min_val = np.amin(tensor)\n",
        "max_val = np.amax(tensor)\n",
        "range_val = np.ptp(tensor)\n",
        "std_val =np.std(tensor)\n",
        "print(min_val, max_val)\n",
        "print(range_val) # rango de valores\n",
        "print(std_val)"
      ],
      "execution_count": null,
      "outputs": [
        {
          "output_type": "stream",
          "name": "stdout",
          "text": [
            "-0.6362509915434705 1.7545168734485117\n",
            "2.3907678649919823\n",
            "0.1874235507143572\n"
          ]
        }
      ]
    },
    {
      "cell_type": "markdown",
      "metadata": {
        "id": "Ox3FsBFWc7vq"
      },
      "source": [
        "# Data Normalization"
      ]
    },
    {
      "cell_type": "code",
      "metadata": {
        "id": "V8yq-We-c7vs",
        "colab": {
          "base_uri": "https://localhost:8080/"
        },
        "outputId": "d5be3e9c-891f-42b2-beff-5096fe464415"
      },
      "source": [
        "min_val = 0\n",
        "range_val = 1\n",
        "tensor_norm = (tensor-min_val)/range_val\n",
        "scipy.stats.describe(tensor_norm.flatten())"
      ],
      "execution_count": null,
      "outputs": [
        {
          "output_type": "execute_result",
          "data": {
            "text/plain": [
              "DescribeResult(nobs=3510000, minmax=(-0.6362509915434705, 1.7545168734485117), mean=0.06618331079426397, variance=0.03512759737023978, skewness=3.147073294251095, kurtosis=16.951266045788046)"
            ]
          },
          "metadata": {},
          "execution_count": 15
        }
      ]
    },
    {
      "cell_type": "markdown",
      "metadata": {
        "id": "nhB_G54LtaKr"
      },
      "source": [
        "## Dimensiones del dataset"
      ]
    },
    {
      "cell_type": "code",
      "metadata": {
        "id": "_8jKtapZtaiq",
        "colab": {
          "base_uri": "https://localhost:8080/"
        },
        "outputId": "5e92840d-cdbe-487a-9865-1aa64fb080a8"
      },
      "source": [
        "total_length = tensor_norm.shape[3]\n",
        "channels_n = tensor_norm.shape[0]\n",
        "dim_x = tensor_norm.shape[1]\n",
        "dim_y = tensor_norm.shape[2]\n",
        "\n",
        "print('total_length: ', total_length)\n",
        "print('channels_n: ', channels_n)\n",
        "print('dim_x: ', dim_x)\n",
        "print('dim_y: ', dim_y)"
      ],
      "execution_count": null,
      "outputs": [
        {
          "output_type": "stream",
          "name": "stdout",
          "text": [
            "total_length:  351\n",
            "channels_n:  1\n",
            "dim_x:  100\n",
            "dim_y:  100\n"
          ]
        }
      ]
    },
    {
      "cell_type": "markdown",
      "metadata": {
        "id": "f-UR6McopXmD"
      },
      "source": [
        "## Preparar data generator y datos de test (ejecutar en esta version)"
      ]
    },
    {
      "cell_type": "code",
      "metadata": {
        "id": "_Mds0od0rIN_"
      },
      "source": [
        "import math\n",
        "class DataGenerator(tf.keras.utils.Sequence): \n",
        "    'Generates data for Keras'\n",
        "    def __init__(self, data, list_IDs, batch_size=5, dim=(2,35,50), \n",
        "                 k = 624, p = 1, \n",
        "                 shuffle=True, till_end = False, only_test = False):\n",
        "        'Initialization'\n",
        "        self.data = data\n",
        "        self.dim = dim\n",
        "        self.batch_size = batch_size\n",
        "        self.list_IDs = list_IDs\n",
        "        self.shuffle = shuffle\n",
        "        self.p = p\n",
        "        self.k = k\n",
        "        self.till_end = till_end\n",
        "        self.only_test = only_test\n",
        "        self.on_epoch_end()\n",
        "\n",
        "    def __len__(self):\n",
        "        'Denotes the number of batches per epoch'\n",
        "        if self.till_end:\n",
        "          lenx = math.ceil((len(self.list_IDs) / self.batch_size))\n",
        "        else:\n",
        "          lenx = int(np.floor(len(self.list_IDs) / self.batch_size))\n",
        "        return lenx\n",
        "\n",
        "    def __getitem__(self, index):\n",
        "        'Generate one batch of data'\n",
        "        # Generate indexes of the batch\n",
        "        indexes = self.indexes[index*self.batch_size:(index+1)*self.batch_size]\n",
        "\n",
        "        # Find list of IDs\n",
        "        list_IDs_temp = [self.list_IDs[k] for k in indexes]\n",
        "\n",
        "        # Generate data\n",
        "        X, y = self.__data_generation(list_IDs_temp)\n",
        "        if self.only_test:\n",
        "          return X\n",
        "        else:\n",
        "          return X, y\n",
        "\n",
        "    def on_epoch_end(self):\n",
        "        'Updates indexes after each epoch'\n",
        "        self.indexes = np.arange(len(self.list_IDs))\n",
        "        if self.shuffle == True:\n",
        "            np.random.shuffle(self.indexes)\n",
        "\n",
        "    def __data_generation(self, list_IDs_temp):\n",
        "        'Generates data containing batch_size samples' # X : (n_samples, *dim, depth)\n",
        "        # Initialization\n",
        "        X = np.empty((self.batch_size, *self.dim, self.k))\n",
        "        y = [np.empty((self.batch_size, *self.dim))]*self.p\n",
        "\n",
        "        y_inter = np.empty((self.batch_size, *self.dim, p))\n",
        "\n",
        "        # Generate data\n",
        "        lenn = len(list_IDs_temp)\n",
        "        for i, ID in enumerate(list_IDs_temp):\n",
        "            # Store Xtrain\n",
        "            X[i,:,:,:,:] = self.data[:,:,:,ID:ID+k]\n",
        "            # Store Ytrain\n",
        "            y_inter[i,:,:,:,:] = self.data[:,:,:,ID+k:ID+k+p] \n",
        "\n",
        "        for j in range(self.p):\n",
        "          y[j] = y_inter[:,:,:,:,j]\n",
        "          y[j] = np.reshape(y[j], (lenn, -1)) \n",
        "\n",
        "        X = X.transpose((0,4,2,3,1))\n",
        "        X = np.reshape(X, (X.shape[0],X.shape[1],-1))\n",
        "\n",
        "        return X, y"
      ],
      "execution_count": null,
      "outputs": []
    },
    {
      "cell_type": "code",
      "metadata": {
        "id": "bEHakg9SpXr5",
        "colab": {
          "base_uri": "https://localhost:8080/"
        },
        "outputId": "df08d5bc-26f1-43b4-faf8-a536eb155a6c"
      },
      "source": [
        "# Prepare data generators\n",
        "\n",
        "period_transitorio = 0\n",
        "stride_train = 2\n",
        "stride_val = 1\n",
        "stride_test = 1\n",
        "test_prop = 0.35\n",
        "val_prop = 0.2\n",
        "\n",
        "batch_size=5\n",
        "dim=(channels_n, dim_x, dim_y)\n",
        "k = 10\n",
        "p = 2\n",
        "\n",
        "\n",
        "\n",
        "test_length = int(test_prop * total_length)\n",
        "val_length  = int((total_length - test_length) * val_prop)\n",
        "train_length = total_length - val_length - test_length\n",
        "    \n",
        "if int(train_length-period_transitorio-(k+p)) < 0:\n",
        "    train_n = 0\n",
        "elif int((train_length-period_transitorio-(k+p))//stride_train) == 0:\n",
        "    train_n = 1\n",
        "else: \n",
        "    train_n = int(((train_length-period_transitorio)-(k+p))//stride_train) + 1\n",
        "    \n",
        "if int(test_length-(k+p)) < 0:\n",
        "    test_n = 0\n",
        "elif int((test_length-(k+p))//stride_test) == 0:\n",
        "    test_n = 1\n",
        "else: \n",
        "    test_n = int((test_length-(k+p))//stride_test) + 1\n",
        "\n",
        "if int(val_length-(k+p)) < 0:\n",
        "    val_n = 0\n",
        "elif int((val_length-(k+p))//stride_val) == 0:\n",
        "    val_n = 1\n",
        "else: \n",
        "    val_n = int((val_length-(k+p))//stride_val) + 1\n",
        "\n",
        "# Starting index of each batch\n",
        "train_idxs = np.empty([train_n], dtype='int')\n",
        "val_idxs = np.empty([val_n], dtype='int')\n",
        "test_idxs = np.empty([test_n], dtype='int')\n",
        "\n",
        "j = period_transitorio\n",
        "for i in range(train_n):\n",
        "    train_idxs[i] = j\n",
        "    j = j+stride_train\n",
        "\n",
        "j = train_length\n",
        "for i in range(val_n):\n",
        "    val_idxs[i] = j\n",
        "    j = j+stride_val\n",
        "\n",
        "j = train_length + val_length\n",
        "for i in range(test_n):\n",
        "    test_idxs[i] = j\n",
        "    j = j+stride_test\n",
        "\n",
        "\n",
        "\n",
        "# Generators\n",
        "training_generator = DataGenerator(tensor_norm, train_idxs,  \n",
        "                                    dim = dim, \n",
        "                                    batch_size = batch_size,\n",
        "                                    k = k, p = p, till_end = False,\n",
        "                                    only_test = False,\n",
        "                                    shuffle = True)\n",
        "validation_generator = DataGenerator(tensor_norm, val_idxs, \n",
        "                                    dim = dim, \n",
        "                                    batch_size = batch_size,\n",
        "                                    k = k, p = p, till_end = False,\n",
        "                                    only_test = False,\n",
        "                                    shuffle = False)\n",
        "test_generator = DataGenerator(tensor_norm, test_idxs, \n",
        "                                    dim = dim, \n",
        "                                    batch_size = batch_size,\n",
        "                                    k = k, p = p, till_end = False,\n",
        "                                    only_test = True,\n",
        "                                    shuffle = False)\n",
        "mono_generator = DataGenerator(Tensor_MONO, test_idxs, \n",
        "                                    dim = dim, \n",
        "                                    batch_size = batch_size,\n",
        "                                    k = k, p = p, till_end = False,\n",
        "                                    only_test = True,\n",
        "                                    shuffle = False)\n",
        "\n",
        "print ('test_length: ', test_length)\n",
        "print ('val_length: ', val_length)\n",
        "print ('train_length: ', train_length)\n",
        "print()\n",
        "print ('test_n: ', test_n)\n",
        "print ('val_n: ', val_n)\n",
        "print ('train_n: ', train_n)\n",
        "print()\n",
        "print('test_generator_len: ', len(test_generator))\n",
        "print('validation_generator_len: ', len(validation_generator))\n",
        "print('training_generator_len: ', len(training_generator))"
      ],
      "execution_count": null,
      "outputs": [
        {
          "output_type": "stream",
          "name": "stdout",
          "text": [
            "test_length:  122\n",
            "val_length:  45\n",
            "train_length:  184\n",
            "\n",
            "test_n:  111\n",
            "val_n:  34\n",
            "train_n:  87\n",
            "\n",
            "test_generator_len:  22\n",
            "validation_generator_len:  6\n",
            "training_generator_len:  17\n"
          ]
        }
      ]
    },
    {
      "cell_type": "code",
      "metadata": {
        "id": "-FfHLuoxUAwP",
        "colab": {
          "base_uri": "https://localhost:8080/"
        },
        "outputId": "eb689769-3fe9-4d6d-e6c9-0e1eff3c7e83"
      },
      "source": [
        "# Prepare Ytest\n",
        "test_n_adjusted = int(test_n/batch_size)*batch_size\n",
        "Ytest = [np.empty([test_n_adjusted, channels_n, dim_x, dim_y], dtype='float64')] * p\n",
        "Ytest_fl = [np.empty([test_n_adjusted, channels_n * dim_x * dim_y ], dtype='float64')] * p\n",
        "\n",
        "Ytest_inter = np.empty([test_n_adjusted, channels_n, dim_x, dim_y, p], dtype='float64')\n",
        "\n",
        "for i in range(test_n_adjusted):\n",
        "    j = test_idxs[i]\n",
        "    Ytest_inter[i,:,:,:,:] = tensor_norm[:,:,:,j+k:j+k+p]\n",
        "\n",
        "for r in range(p):    \n",
        "  Ytest[r] = Ytest_inter[:,:,:,:,r]\n",
        "  Ytest_fl[r] = np.copy(np.reshape(Ytest[r], (test_n_adjusted, -1)) )\n",
        "\n",
        "print(len(Ytest_fl))\n",
        "print(len(Ytest))\n",
        "print(Ytest_fl[0].shape)\n",
        "print(Ytest[0].shape)"
      ],
      "execution_count": null,
      "outputs": [
        {
          "output_type": "stream",
          "name": "stdout",
          "text": [
            "2\n",
            "2\n",
            "(110, 10000)\n",
            "(110, 1, 100, 100)\n"
          ]
        }
      ]
    },
    {
      "cell_type": "code",
      "source": [
        "# Prepare Mono tensor\n",
        "test_n_adjusted = int(test_n/batch_size)*batch_size\n",
        "YMONOtest = [np.empty([test_n_adjusted, channels_n, dim_x, dim_y], dtype='float64')] * p\n",
        "YMONOtest_fl = [np.empty([test_n_adjusted, channels_n * dim_x * dim_y ], dtype='float64')] * p\n",
        "\n",
        "YMONOtest_inter = np.empty([test_n_adjusted, channels_n, dim_x, dim_y, p], dtype='float64')\n",
        "\n",
        "for i in range(test_n_adjusted):\n",
        "    j = test_idxs[i]\n",
        "    YMONOtest_inter[i,:,:,:,:] = Tensor_MONO[:,:,:,j+k:j+k+p]\n",
        "\n",
        "for r in range(p):    \n",
        "  YMONOtest[r] = YMONOtest_inter[:,:,:,:,r]\n",
        "  YMONOtest_fl[r] = np.copy(np.reshape(YMONOtest[r], (test_n_adjusted, -1)) )\n",
        "\n",
        "print(len(YMONOtest_fl))\n",
        "print(len(YMONOtest))\n",
        "print(YMONOtest_fl[0].shape)\n",
        "print(YMONOtest[0].shape)"
      ],
      "metadata": {
        "colab": {
          "base_uri": "https://localhost:8080/"
        },
        "id": "OMBPtfvNZvZP",
        "outputId": "49db4eb0-5128-4c88-cedf-7ff92c98641d"
      },
      "execution_count": null,
      "outputs": [
        {
          "output_type": "stream",
          "name": "stdout",
          "text": [
            "2\n",
            "2\n",
            "(110, 10000)\n",
            "(110, 1, 100, 100)\n"
          ]
        }
      ]
    },
    {
      "cell_type": "markdown",
      "metadata": {
        "id": "BofHsjg5c7wk"
      },
      "source": [
        "## Preparar modelo"
      ]
    },
    {
      "cell_type": "code",
      "source": [
        "tf.keras.backend.clear_session()"
      ],
      "metadata": {
        "id": "vjS1sHFO5fhJ"
      },
      "execution_count": null,
      "outputs": []
    },
    {
      "cell_type": "code",
      "metadata": {
        "id": "_cckL-8-c7wl"
      },
      "source": [
        "np.random.seed(2453115889)\n",
        "#tf.random.set_seed(322198573)"
      ],
      "execution_count": null,
      "outputs": []
    },
    {
      "cell_type": "code",
      "metadata": {
        "id": "Cuffsg2-c7ws"
      },
      "source": [
        "def create_model(in_shape,  out_dim, p = 3, shared_dim = 1000, act_fun= 'relu'):\n",
        "    x = Input(shape=in_shape)\n",
        "    Fm = Input(shape=in_shape)\n",
        "    \n",
        "    v = LSTM(400)(x)\n",
        "    v = Dense(p*100, activation= act_fun)(v)\n",
        "    v = Reshape((p,100))(v)\n",
        "\n",
        "    tt = [1]*p\n",
        "    \n",
        "    r = TimeDistributed( Dense(shared_dim, activation=act_fun))(v)\n",
        "    s = tf.split(r, tt, 1)\n",
        "    for i in range(p):\n",
        "      s[i] = Flatten()(s[i])\n",
        "\n",
        "    o = []\n",
        "    for i in range(p):\n",
        "      #o.append( Dense(out_dim, activation='sigmoid')(s[i]) )\n",
        "      o.append( Dense(out_dim, activation=None)(s[i]) )\n",
        "  \n",
        "    m = Model(inputs=x, outputs=o)\n",
        "    m.compile(loss='mse', optimizer='adam', metrics=['mse'])\n",
        "    #m.compile(loss='mae', optimizer='adam', metrics=['mae'])\n",
        "    return(m)"
      ],
      "execution_count": null,
      "outputs": []
    },
    {
      "cell_type": "code",
      "metadata": {
        "id": "d-3tveMac7wv",
        "scrolled": true,
        "colab": {
          "base_uri": "https://localhost:8080/"
        },
        "outputId": "04e20305-6ea0-4ce8-d3b6-730387a3ed1f"
      },
      "source": [
        "#crear modelo\n",
        "\n",
        "in_shape = [k, dim_x * dim_y * channels_n]\n",
        "out_dim = dim_x * dim_y * channels_n \n",
        "shared_dim = 80\n",
        "print(in_shape)\n",
        "print(out_dim)\n",
        "print(shared_dim)\n",
        "\n",
        "\n",
        "model= create_model(in_shape,out_dim,p,shared_dim) "
      ],
      "execution_count": null,
      "outputs": [
        {
          "output_type": "stream",
          "name": "stdout",
          "text": [
            "[10, 10000]\n",
            "10000\n",
            "80\n"
          ]
        }
      ]
    },
    {
      "cell_type": "code",
      "metadata": {
        "id": "JEsEcfTFc7wz",
        "scrolled": false,
        "colab": {
          "base_uri": "https://localhost:8080/"
        },
        "outputId": "e2e9f28c-1bec-4e99-9137-256c55a1f6f5"
      },
      "source": [
        "model.summary()"
      ],
      "execution_count": null,
      "outputs": [
        {
          "output_type": "stream",
          "name": "stdout",
          "text": [
            "Model: \"model\"\n",
            "__________________________________________________________________________________________________\n",
            " Layer (type)                   Output Shape         Param #     Connected to                     \n",
            "==================================================================================================\n",
            " input_1 (InputLayer)           [(None, 10, 10000)]  0           []                               \n",
            "                                                                                                  \n",
            " lstm (LSTM)                    (None, 400)          16641600    ['input_1[0][0]']                \n",
            "                                                                                                  \n",
            " dense (Dense)                  (None, 200)          80200       ['lstm[0][0]']                   \n",
            "                                                                                                  \n",
            " reshape (Reshape)              (None, 2, 100)       0           ['dense[0][0]']                  \n",
            "                                                                                                  \n",
            " time_distributed (TimeDistribu  (None, 2, 80)       8080        ['reshape[0][0]']                \n",
            " ted)                                                                                             \n",
            "                                                                                                  \n",
            " tf.split (TFOpLambda)          [(None, 1, 80),      0           ['time_distributed[0][0]']       \n",
            "                                 (None, 1, 80)]                                                   \n",
            "                                                                                                  \n",
            " flatten (Flatten)              (None, 80)           0           ['tf.split[0][0]']               \n",
            "                                                                                                  \n",
            " flatten_1 (Flatten)            (None, 80)           0           ['tf.split[0][1]']               \n",
            "                                                                                                  \n",
            " dense_2 (Dense)                (None, 10000)        810000      ['flatten[0][0]']                \n",
            "                                                                                                  \n",
            " dense_3 (Dense)                (None, 10000)        810000      ['flatten_1[0][0]']              \n",
            "                                                                                                  \n",
            "==================================================================================================\n",
            "Total params: 18,349,880\n",
            "Trainable params: 18,349,880\n",
            "Non-trainable params: 0\n",
            "__________________________________________________________________________________________________\n"
          ]
        }
      ]
    },
    {
      "cell_type": "code",
      "metadata": {
        "id": "hRBx40Rsc7xD",
        "colab": {
          "base_uri": "https://localhost:8080/"
        },
        "outputId": "ffd374ae-c708-46d6-de59-db46898f54f8"
      },
      "source": [
        "# save the best weights \n",
        "import sys\n",
        "save_string = \"colab_UPM_RNN_model\"\n",
        "\n",
        "# save the best weights \n",
        "save_best_weights = save_string + '.h5'\n",
        "save_summary_stats = save_string + '.csv'\n",
        "save_last_weights = save_string + '_last_w.h5'\n",
        "save_results_metrics = save_string + '_results_metrics.csv'\n",
        "\n",
        "print(save_string)"
      ],
      "execution_count": null,
      "outputs": [
        {
          "output_type": "stream",
          "name": "stdout",
          "text": [
            "colab_UPM_RNN_model\n"
          ]
        }
      ]
    },
    {
      "cell_type": "markdown",
      "metadata": {
        "id": "hpAZDegcc7xH"
      },
      "source": [
        "# Entrenamiento"
      ]
    },
    {
      "cell_type": "code",
      "metadata": {
        "id": "OvzoXzNoc7xI"
      },
      "source": [
        "np.random.seed(247531338)"
      ],
      "execution_count": null,
      "outputs": []
    },
    {
      "cell_type": "code",
      "metadata": {
        "id": "BSeYacJuc7xL",
        "scrolled": false,
        "colab": {
          "base_uri": "https://localhost:8080/"
        },
        "outputId": "fc622688-fd1a-4273-a18b-107a4ea43b95"
      },
      "source": [
        "\n",
        "t0 = time.time()\n",
        "\n",
        "callbacks = [ModelCheckpoint(save_best_weights, monitor='val_loss', save_best_only=True, mode='auto'),\n",
        "             EarlyStopping(monitor='val_loss', patience=10, verbose=1, mode='auto')\n",
        "            ]\n",
        "\n",
        "# epochs\n",
        "num_epochs = 140\n",
        "\n",
        "\n",
        "history = model.fit(training_generator,\n",
        "                              validation_data=validation_generator,\n",
        "                              use_multiprocessing=True,\n",
        "                              workers=6,\n",
        "                              max_queue_size=10,\n",
        "                              epochs=num_epochs,\n",
        "                              verbose=1,\n",
        "                              callbacks=callbacks)\n",
        "t1 = time.time()\n",
        "print(\"Minutes elapsed: %f\" % ((t1 - t0) / 60.))\n"
      ],
      "execution_count": null,
      "outputs": [
        {
          "output_type": "stream",
          "name": "stdout",
          "text": [
            "Epoch 1/140\n",
            "17/17 [==============================] - 23s 513ms/step - loss: 0.0477 - dense_2_loss: 0.0240 - dense_3_loss: 0.0237 - dense_2_mse: 0.0240 - dense_3_mse: 0.0237 - val_loss: 0.0147 - val_dense_2_loss: 0.0073 - val_dense_3_loss: 0.0074 - val_dense_2_mse: 0.0073 - val_dense_3_mse: 0.0074\n",
            "Epoch 2/140\n",
            "17/17 [==============================] - 8s 471ms/step - loss: 0.0167 - dense_2_loss: 0.0084 - dense_3_loss: 0.0083 - dense_2_mse: 0.0084 - dense_3_mse: 0.0083 - val_loss: 0.0090 - val_dense_2_loss: 0.0044 - val_dense_3_loss: 0.0046 - val_dense_2_mse: 0.0044 - val_dense_3_mse: 0.0046\n",
            "Epoch 3/140\n",
            "17/17 [==============================] - 8s 457ms/step - loss: 0.0138 - dense_2_loss: 0.0068 - dense_3_loss: 0.0069 - dense_2_mse: 0.0068 - dense_3_mse: 0.0069 - val_loss: 0.0077 - val_dense_2_loss: 0.0037 - val_dense_3_loss: 0.0040 - val_dense_2_mse: 0.0037 - val_dense_3_mse: 0.0040\n",
            "Epoch 4/140\n",
            "17/17 [==============================] - 8s 485ms/step - loss: 0.0119 - dense_2_loss: 0.0058 - dense_3_loss: 0.0061 - dense_2_mse: 0.0058 - dense_3_mse: 0.0061 - val_loss: 0.0065 - val_dense_2_loss: 0.0031 - val_dense_3_loss: 0.0034 - val_dense_2_mse: 0.0031 - val_dense_3_mse: 0.0034\n",
            "Epoch 5/140\n",
            "17/17 [==============================] - 10s 598ms/step - loss: 0.0089 - dense_2_loss: 0.0042 - dense_3_loss: 0.0046 - dense_2_mse: 0.0042 - dense_3_mse: 0.0046 - val_loss: 0.0052 - val_dense_2_loss: 0.0024 - val_dense_3_loss: 0.0028 - val_dense_2_mse: 0.0024 - val_dense_3_mse: 0.0028\n",
            "Epoch 6/140\n",
            "17/17 [==============================] - 8s 458ms/step - loss: 0.0068 - dense_2_loss: 0.0032 - dense_3_loss: 0.0035 - dense_2_mse: 0.0032 - dense_3_mse: 0.0035 - val_loss: 0.0048 - val_dense_2_loss: 0.0023 - val_dense_3_loss: 0.0024 - val_dense_2_mse: 0.0023 - val_dense_3_mse: 0.0024\n",
            "Epoch 7/140\n",
            "17/17 [==============================] - 7s 401ms/step - loss: 0.0063 - dense_2_loss: 0.0031 - dense_3_loss: 0.0032 - dense_2_mse: 0.0031 - dense_3_mse: 0.0032 - val_loss: 0.0053 - val_dense_2_loss: 0.0025 - val_dense_3_loss: 0.0028 - val_dense_2_mse: 0.0025 - val_dense_3_mse: 0.0028\n",
            "Epoch 8/140\n",
            "17/17 [==============================] - 7s 402ms/step - loss: 0.0057 - dense_2_loss: 0.0028 - dense_3_loss: 0.0028 - dense_2_mse: 0.0028 - dense_3_mse: 0.0028 - val_loss: 0.0048 - val_dense_2_loss: 0.0024 - val_dense_3_loss: 0.0024 - val_dense_2_mse: 0.0024 - val_dense_3_mse: 0.0024\n",
            "Epoch 9/140\n",
            "17/17 [==============================] - 10s 577ms/step - loss: 0.0049 - dense_2_loss: 0.0025 - dense_3_loss: 0.0024 - dense_2_mse: 0.0025 - dense_3_mse: 0.0024 - val_loss: 0.0041 - val_dense_2_loss: 0.0021 - val_dense_3_loss: 0.0020 - val_dense_2_mse: 0.0021 - val_dense_3_mse: 0.0020\n",
            "Epoch 10/140\n",
            "17/17 [==============================] - 8s 457ms/step - loss: 0.0042 - dense_2_loss: 0.0021 - dense_3_loss: 0.0021 - dense_2_mse: 0.0021 - dense_3_mse: 0.0021 - val_loss: 0.0037 - val_dense_2_loss: 0.0018 - val_dense_3_loss: 0.0019 - val_dense_2_mse: 0.0018 - val_dense_3_mse: 0.0019\n",
            "Epoch 11/140\n",
            "17/17 [==============================] - 7s 441ms/step - loss: 0.0036 - dense_2_loss: 0.0018 - dense_3_loss: 0.0018 - dense_2_mse: 0.0018 - dense_3_mse: 0.0018 - val_loss: 0.0035 - val_dense_2_loss: 0.0017 - val_dense_3_loss: 0.0018 - val_dense_2_mse: 0.0017 - val_dense_3_mse: 0.0018\n",
            "Epoch 12/140\n",
            "17/17 [==============================] - 8s 496ms/step - loss: 0.0035 - dense_2_loss: 0.0017 - dense_3_loss: 0.0018 - dense_2_mse: 0.0017 - dense_3_mse: 0.0018 - val_loss: 0.0033 - val_dense_2_loss: 0.0016 - val_dense_3_loss: 0.0017 - val_dense_2_mse: 0.0016 - val_dense_3_mse: 0.0017\n",
            "Epoch 13/140\n",
            "17/17 [==============================] - 8s 439ms/step - loss: 0.0031 - dense_2_loss: 0.0015 - dense_3_loss: 0.0016 - dense_2_mse: 0.0015 - dense_3_mse: 0.0016 - val_loss: 0.0033 - val_dense_2_loss: 0.0016 - val_dense_3_loss: 0.0018 - val_dense_2_mse: 0.0016 - val_dense_3_mse: 0.0018\n",
            "Epoch 14/140\n",
            "17/17 [==============================] - 10s 609ms/step - loss: 0.0032 - dense_2_loss: 0.0015 - dense_3_loss: 0.0016 - dense_2_mse: 0.0015 - dense_3_mse: 0.0016 - val_loss: 0.0031 - val_dense_2_loss: 0.0014 - val_dense_3_loss: 0.0017 - val_dense_2_mse: 0.0014 - val_dense_3_mse: 0.0017\n",
            "Epoch 15/140\n",
            "17/17 [==============================] - 9s 565ms/step - loss: 0.0030 - dense_2_loss: 0.0014 - dense_3_loss: 0.0015 - dense_2_mse: 0.0014 - dense_3_mse: 0.0015 - val_loss: 0.0029 - val_dense_2_loss: 0.0014 - val_dense_3_loss: 0.0015 - val_dense_2_mse: 0.0014 - val_dense_3_mse: 0.0015\n",
            "Epoch 16/140\n",
            "17/17 [==============================] - 7s 408ms/step - loss: 0.0027 - dense_2_loss: 0.0014 - dense_3_loss: 0.0013 - dense_2_mse: 0.0014 - dense_3_mse: 0.0013 - val_loss: 0.0030 - val_dense_2_loss: 0.0014 - val_dense_3_loss: 0.0016 - val_dense_2_mse: 0.0014 - val_dense_3_mse: 0.0016\n",
            "Epoch 17/140\n",
            "17/17 [==============================] - 9s 518ms/step - loss: 0.0025 - dense_2_loss: 0.0013 - dense_3_loss: 0.0013 - dense_2_mse: 0.0013 - dense_3_mse: 0.0013 - val_loss: 0.0027 - val_dense_2_loss: 0.0013 - val_dense_3_loss: 0.0014 - val_dense_2_mse: 0.0013 - val_dense_3_mse: 0.0014\n",
            "Epoch 18/140\n",
            "17/17 [==============================] - 9s 498ms/step - loss: 0.0024 - dense_2_loss: 0.0012 - dense_3_loss: 0.0012 - dense_2_mse: 0.0012 - dense_3_mse: 0.0012 - val_loss: 0.0026 - val_dense_2_loss: 0.0013 - val_dense_3_loss: 0.0014 - val_dense_2_mse: 0.0013 - val_dense_3_mse: 0.0014\n",
            "Epoch 19/140\n",
            "17/17 [==============================] - 7s 395ms/step - loss: 0.0023 - dense_2_loss: 0.0012 - dense_3_loss: 0.0011 - dense_2_mse: 0.0012 - dense_3_mse: 0.0011 - val_loss: 0.0026 - val_dense_2_loss: 0.0013 - val_dense_3_loss: 0.0014 - val_dense_2_mse: 0.0013 - val_dense_3_mse: 0.0014\n",
            "Epoch 20/140\n",
            "17/17 [==============================] - 10s 589ms/step - loss: 0.0022 - dense_2_loss: 0.0011 - dense_3_loss: 0.0011 - dense_2_mse: 0.0011 - dense_3_mse: 0.0011 - val_loss: 0.0026 - val_dense_2_loss: 0.0012 - val_dense_3_loss: 0.0014 - val_dense_2_mse: 0.0012 - val_dense_3_mse: 0.0014\n",
            "Epoch 21/140\n",
            "17/17 [==============================] - 8s 428ms/step - loss: 0.0022 - dense_2_loss: 0.0011 - dense_3_loss: 0.0011 - dense_2_mse: 0.0011 - dense_3_mse: 0.0011 - val_loss: 0.0026 - val_dense_2_loss: 0.0013 - val_dense_3_loss: 0.0014 - val_dense_2_mse: 0.0013 - val_dense_3_mse: 0.0014\n",
            "Epoch 22/140\n",
            "17/17 [==============================] - 9s 550ms/step - loss: 0.0020 - dense_2_loss: 0.0010 - dense_3_loss: 9.9483e-04 - dense_2_mse: 0.0010 - dense_3_mse: 9.9483e-04 - val_loss: 0.0026 - val_dense_2_loss: 0.0012 - val_dense_3_loss: 0.0014 - val_dense_2_mse: 0.0012 - val_dense_3_mse: 0.0014\n",
            "Epoch 23/140\n",
            "17/17 [==============================] - 8s 495ms/step - loss: 0.0021 - dense_2_loss: 0.0011 - dense_3_loss: 0.0010 - dense_2_mse: 0.0011 - dense_3_mse: 0.0010 - val_loss: 0.0026 - val_dense_2_loss: 0.0012 - val_dense_3_loss: 0.0014 - val_dense_2_mse: 0.0012 - val_dense_3_mse: 0.0014\n",
            "Epoch 24/140\n",
            "17/17 [==============================] - 8s 428ms/step - loss: 0.0022 - dense_2_loss: 0.0011 - dense_3_loss: 0.0011 - dense_2_mse: 0.0011 - dense_3_mse: 0.0011 - val_loss: 0.0026 - val_dense_2_loss: 0.0012 - val_dense_3_loss: 0.0014 - val_dense_2_mse: 0.0012 - val_dense_3_mse: 0.0014\n",
            "Epoch 25/140\n",
            "17/17 [==============================] - 9s 527ms/step - loss: 0.0022 - dense_2_loss: 0.0011 - dense_3_loss: 0.0011 - dense_2_mse: 0.0011 - dense_3_mse: 0.0011 - val_loss: 0.0024 - val_dense_2_loss: 0.0012 - val_dense_3_loss: 0.0012 - val_dense_2_mse: 0.0012 - val_dense_3_mse: 0.0012\n",
            "Epoch 26/140\n",
            "17/17 [==============================] - 8s 468ms/step - loss: 0.0020 - dense_2_loss: 0.0010 - dense_3_loss: 9.6534e-04 - dense_2_mse: 0.0010 - dense_3_mse: 9.6534e-04 - val_loss: 0.0023 - val_dense_2_loss: 0.0011 - val_dense_3_loss: 0.0012 - val_dense_2_mse: 0.0011 - val_dense_3_mse: 0.0012\n",
            "Epoch 27/140\n",
            "17/17 [==============================] - 11s 666ms/step - loss: 0.0019 - dense_2_loss: 9.4776e-04 - dense_3_loss: 9.1291e-04 - dense_2_mse: 9.4776e-04 - dense_3_mse: 9.1291e-04 - val_loss: 0.0022 - val_dense_2_loss: 0.0011 - val_dense_3_loss: 0.0011 - val_dense_2_mse: 0.0011 - val_dense_3_mse: 0.0011\n",
            "Epoch 28/140\n",
            "17/17 [==============================] - 7s 412ms/step - loss: 0.0017 - dense_2_loss: 8.7959e-04 - dense_3_loss: 8.4186e-04 - dense_2_mse: 8.7959e-04 - dense_3_mse: 8.4186e-04 - val_loss: 0.0022 - val_dense_2_loss: 0.0010 - val_dense_3_loss: 0.0012 - val_dense_2_mse: 0.0010 - val_dense_3_mse: 0.0012\n",
            "Epoch 29/140\n",
            "17/17 [==============================] - 10s 576ms/step - loss: 0.0016 - dense_2_loss: 8.0833e-04 - dense_3_loss: 8.1444e-04 - dense_2_mse: 8.0833e-04 - dense_3_mse: 8.1444e-04 - val_loss: 0.0022 - val_dense_2_loss: 9.9171e-04 - val_dense_3_loss: 0.0012 - val_dense_2_mse: 9.9171e-04 - val_dense_3_mse: 0.0012\n",
            "Epoch 30/140\n",
            "17/17 [==============================] - 8s 450ms/step - loss: 0.0016 - dense_2_loss: 8.3030e-04 - dense_3_loss: 8.1924e-04 - dense_2_mse: 8.3030e-04 - dense_3_mse: 8.1924e-04 - val_loss: 0.0020 - val_dense_2_loss: 9.4086e-04 - val_dense_3_loss: 0.0011 - val_dense_2_mse: 9.4086e-04 - val_dense_3_mse: 0.0011\n",
            "Epoch 31/140\n",
            "17/17 [==============================] - 7s 410ms/step - loss: 0.0016 - dense_2_loss: 8.1473e-04 - dense_3_loss: 7.8783e-04 - dense_2_mse: 8.1473e-04 - dense_3_mse: 7.8783e-04 - val_loss: 0.0021 - val_dense_2_loss: 9.6191e-04 - val_dense_3_loss: 0.0011 - val_dense_2_mse: 9.6191e-04 - val_dense_3_mse: 0.0011\n",
            "Epoch 32/140\n",
            "17/17 [==============================] - 7s 403ms/step - loss: 0.0016 - dense_2_loss: 8.0186e-04 - dense_3_loss: 8.1801e-04 - dense_2_mse: 8.0186e-04 - dense_3_mse: 8.1801e-04 - val_loss: 0.0021 - val_dense_2_loss: 9.9673e-04 - val_dense_3_loss: 0.0011 - val_dense_2_mse: 9.9673e-04 - val_dense_3_mse: 0.0011\n",
            "Epoch 33/140\n",
            "17/17 [==============================] - 9s 535ms/step - loss: 0.0016 - dense_2_loss: 8.0711e-04 - dense_3_loss: 8.1955e-04 - dense_2_mse: 8.0711e-04 - dense_3_mse: 8.1955e-04 - val_loss: 0.0020 - val_dense_2_loss: 8.9924e-04 - val_dense_3_loss: 0.0011 - val_dense_2_mse: 8.9924e-04 - val_dense_3_mse: 0.0011\n",
            "Epoch 34/140\n",
            "17/17 [==============================] - 7s 417ms/step - loss: 0.0015 - dense_2_loss: 7.7195e-04 - dense_3_loss: 7.6787e-04 - dense_2_mse: 7.7195e-04 - dense_3_mse: 7.6787e-04 - val_loss: 0.0020 - val_dense_2_loss: 9.2364e-04 - val_dense_3_loss: 0.0011 - val_dense_2_mse: 9.2364e-04 - val_dense_3_mse: 0.0011\n",
            "Epoch 35/140\n",
            "17/17 [==============================] - 7s 429ms/step - loss: 0.0015 - dense_2_loss: 7.8753e-04 - dense_3_loss: 7.4338e-04 - dense_2_mse: 7.8753e-04 - dense_3_mse: 7.4338e-04 - val_loss: 0.0020 - val_dense_2_loss: 0.0010 - val_dense_3_loss: 9.9031e-04 - val_dense_2_mse: 0.0010 - val_dense_3_mse: 9.9031e-04\n",
            "Epoch 36/140\n",
            "17/17 [==============================] - 10s 607ms/step - loss: 0.0015 - dense_2_loss: 7.8418e-04 - dense_3_loss: 7.2576e-04 - dense_2_mse: 7.8418e-04 - dense_3_mse: 7.2576e-04 - val_loss: 0.0018 - val_dense_2_loss: 8.7282e-04 - val_dense_3_loss: 9.6965e-04 - val_dense_2_mse: 8.7282e-04 - val_dense_3_mse: 9.6965e-04\n",
            "Epoch 37/140\n",
            "17/17 [==============================] - 9s 503ms/step - loss: 0.0014 - dense_2_loss: 7.1353e-04 - dense_3_loss: 6.6750e-04 - dense_2_mse: 7.1353e-04 - dense_3_mse: 6.6750e-04 - val_loss: 0.0018 - val_dense_2_loss: 8.6519e-04 - val_dense_3_loss: 9.6931e-04 - val_dense_2_mse: 8.6519e-04 - val_dense_3_mse: 9.6931e-04\n",
            "Epoch 38/140\n",
            "17/17 [==============================] - 8s 450ms/step - loss: 0.0013 - dense_2_loss: 6.8630e-04 - dense_3_loss: 6.4319e-04 - dense_2_mse: 6.8630e-04 - dense_3_mse: 6.4319e-04 - val_loss: 0.0018 - val_dense_2_loss: 8.3185e-04 - val_dense_3_loss: 9.3775e-04 - val_dense_2_mse: 8.3185e-04 - val_dense_3_mse: 9.3775e-04\n",
            "Epoch 39/140\n",
            "17/17 [==============================] - 8s 472ms/step - loss: 0.0013 - dense_2_loss: 6.7508e-04 - dense_3_loss: 6.0745e-04 - dense_2_mse: 6.7508e-04 - dense_3_mse: 6.0745e-04 - val_loss: 0.0018 - val_dense_2_loss: 8.4117e-04 - val_dense_3_loss: 9.2124e-04 - val_dense_2_mse: 8.4117e-04 - val_dense_3_mse: 9.2124e-04\n",
            "Epoch 40/140\n",
            "17/17 [==============================] - 8s 464ms/step - loss: 0.0013 - dense_2_loss: 6.6114e-04 - dense_3_loss: 5.9061e-04 - dense_2_mse: 6.6114e-04 - dense_3_mse: 5.9061e-04 - val_loss: 0.0017 - val_dense_2_loss: 8.2833e-04 - val_dense_3_loss: 8.7575e-04 - val_dense_2_mse: 8.2833e-04 - val_dense_3_mse: 8.7575e-04\n",
            "Epoch 41/140\n",
            "17/17 [==============================] - 8s 451ms/step - loss: 0.0013 - dense_2_loss: 6.6768e-04 - dense_3_loss: 6.0900e-04 - dense_2_mse: 6.6768e-04 - dense_3_mse: 6.0900e-04 - val_loss: 0.0017 - val_dense_2_loss: 8.0519e-04 - val_dense_3_loss: 8.9627e-04 - val_dense_2_mse: 8.0519e-04 - val_dense_3_mse: 8.9627e-04\n",
            "Epoch 42/140\n",
            "17/17 [==============================] - 8s 462ms/step - loss: 0.0012 - dense_2_loss: 6.2736e-04 - dense_3_loss: 5.7262e-04 - dense_2_mse: 6.2736e-04 - dense_3_mse: 5.7262e-04 - val_loss: 0.0017 - val_dense_2_loss: 7.8212e-04 - val_dense_3_loss: 8.7623e-04 - val_dense_2_mse: 7.8212e-04 - val_dense_3_mse: 8.7623e-04\n",
            "Epoch 43/140\n",
            "17/17 [==============================] - 7s 409ms/step - loss: 0.0012 - dense_2_loss: 6.2751e-04 - dense_3_loss: 5.5685e-04 - dense_2_mse: 6.2751e-04 - dense_3_mse: 5.5685e-04 - val_loss: 0.0017 - val_dense_2_loss: 8.1590e-04 - val_dense_3_loss: 8.9121e-04 - val_dense_2_mse: 8.1590e-04 - val_dense_3_mse: 8.9121e-04\n",
            "Epoch 44/140\n",
            "17/17 [==============================] - 7s 405ms/step - loss: 0.0012 - dense_2_loss: 6.1218e-04 - dense_3_loss: 5.5330e-04 - dense_2_mse: 6.1218e-04 - dense_3_mse: 5.5330e-04 - val_loss: 0.0017 - val_dense_2_loss: 8.0538e-04 - val_dense_3_loss: 8.9640e-04 - val_dense_2_mse: 8.0538e-04 - val_dense_3_mse: 8.9640e-04\n",
            "Epoch 45/140\n",
            "17/17 [==============================] - 9s 548ms/step - loss: 0.0012 - dense_2_loss: 6.1612e-04 - dense_3_loss: 5.4459e-04 - dense_2_mse: 6.1612e-04 - dense_3_mse: 5.4459e-04 - val_loss: 0.0016 - val_dense_2_loss: 7.4965e-04 - val_dense_3_loss: 8.7795e-04 - val_dense_2_mse: 7.4965e-04 - val_dense_3_mse: 8.7795e-04\n",
            "Epoch 46/140\n",
            "17/17 [==============================] - 7s 424ms/step - loss: 0.0011 - dense_2_loss: 6.1570e-04 - dense_3_loss: 5.3171e-04 - dense_2_mse: 6.1570e-04 - dense_3_mse: 5.3171e-04 - val_loss: 0.0017 - val_dense_2_loss: 8.1401e-04 - val_dense_3_loss: 8.6671e-04 - val_dense_2_mse: 8.1401e-04 - val_dense_3_mse: 8.6671e-04\n",
            "Epoch 47/140\n",
            "17/17 [==============================] - 7s 433ms/step - loss: 0.0011 - dense_2_loss: 6.1010e-04 - dense_3_loss: 5.3777e-04 - dense_2_mse: 6.1010e-04 - dense_3_mse: 5.3777e-04 - val_loss: 0.0017 - val_dense_2_loss: 7.5911e-04 - val_dense_3_loss: 9.8316e-04 - val_dense_2_mse: 7.5911e-04 - val_dense_3_mse: 9.8316e-04\n",
            "Epoch 48/140\n",
            "17/17 [==============================] - 8s 447ms/step - loss: 0.0011 - dense_2_loss: 5.8327e-04 - dense_3_loss: 5.1553e-04 - dense_2_mse: 5.8327e-04 - dense_3_mse: 5.1553e-04 - val_loss: 0.0017 - val_dense_2_loss: 7.7540e-04 - val_dense_3_loss: 8.7460e-04 - val_dense_2_mse: 7.7540e-04 - val_dense_3_mse: 8.7460e-04\n",
            "Epoch 49/140\n",
            "17/17 [==============================] - 10s 566ms/step - loss: 0.0010 - dense_2_loss: 5.6123e-04 - dense_3_loss: 4.8103e-04 - dense_2_mse: 5.6123e-04 - dense_3_mse: 4.8103e-04 - val_loss: 0.0016 - val_dense_2_loss: 7.4791e-04 - val_dense_3_loss: 8.6499e-04 - val_dense_2_mse: 7.4791e-04 - val_dense_3_mse: 8.6499e-04\n",
            "Epoch 50/140\n",
            "17/17 [==============================] - 7s 399ms/step - loss: 0.0010 - dense_2_loss: 5.4919e-04 - dense_3_loss: 4.7426e-04 - dense_2_mse: 5.4919e-04 - dense_3_mse: 4.7426e-04 - val_loss: 0.0016 - val_dense_2_loss: 7.3154e-04 - val_dense_3_loss: 9.1565e-04 - val_dense_2_mse: 7.3154e-04 - val_dense_3_mse: 9.1565e-04\n",
            "Epoch 51/140\n",
            "17/17 [==============================] - 7s 423ms/step - loss: 0.0010 - dense_2_loss: 5.2702e-04 - dense_3_loss: 4.8331e-04 - dense_2_mse: 5.2702e-04 - dense_3_mse: 4.8331e-04 - val_loss: 0.0018 - val_dense_2_loss: 7.8476e-04 - val_dense_3_loss: 9.6870e-04 - val_dense_2_mse: 7.8476e-04 - val_dense_3_mse: 9.6870e-04\n",
            "Epoch 52/140\n",
            "17/17 [==============================] - 7s 420ms/step - loss: 0.0010 - dense_2_loss: 5.5330e-04 - dense_3_loss: 4.8447e-04 - dense_2_mse: 5.5330e-04 - dense_3_mse: 4.8447e-04 - val_loss: 0.0016 - val_dense_2_loss: 7.6234e-04 - val_dense_3_loss: 8.6583e-04 - val_dense_2_mse: 7.6234e-04 - val_dense_3_mse: 8.6583e-04\n",
            "Epoch 53/140\n",
            "17/17 [==============================] - 7s 415ms/step - loss: 9.6090e-04 - dense_2_loss: 5.0933e-04 - dense_3_loss: 4.5157e-04 - dense_2_mse: 5.0933e-04 - dense_3_mse: 4.5157e-04 - val_loss: 0.0017 - val_dense_2_loss: 7.1687e-04 - val_dense_3_loss: 9.6415e-04 - val_dense_2_mse: 7.1687e-04 - val_dense_3_mse: 9.6415e-04\n",
            "Epoch 54/140\n",
            "17/17 [==============================] - 12s 696ms/step - loss: 0.0010 - dense_2_loss: 5.1446e-04 - dense_3_loss: 4.8584e-04 - dense_2_mse: 5.1446e-04 - dense_3_mse: 4.8584e-04 - val_loss: 0.0016 - val_dense_2_loss: 7.2060e-04 - val_dense_3_loss: 8.6717e-04 - val_dense_2_mse: 7.2060e-04 - val_dense_3_mse: 8.6717e-04\n",
            "Epoch 55/140\n",
            "17/17 [==============================] - 8s 476ms/step - loss: 9.7508e-04 - dense_2_loss: 5.1629e-04 - dense_3_loss: 4.5878e-04 - dense_2_mse: 5.1629e-04 - dense_3_mse: 4.5878e-04 - val_loss: 0.0015 - val_dense_2_loss: 6.8180e-04 - val_dense_3_loss: 8.5996e-04 - val_dense_2_mse: 6.8180e-04 - val_dense_3_mse: 8.5996e-04\n",
            "Epoch 56/140\n",
            "17/17 [==============================] - 7s 411ms/step - loss: 9.0773e-04 - dense_2_loss: 4.8957e-04 - dense_3_loss: 4.1817e-04 - dense_2_mse: 4.8957e-04 - dense_3_mse: 4.1817e-04 - val_loss: 0.0016 - val_dense_2_loss: 7.5055e-04 - val_dense_3_loss: 8.8708e-04 - val_dense_2_mse: 7.5055e-04 - val_dense_3_mse: 8.8708e-04\n",
            "Epoch 57/140\n",
            "17/17 [==============================] - 9s 552ms/step - loss: 8.5292e-04 - dense_2_loss: 4.5939e-04 - dense_3_loss: 3.9353e-04 - dense_2_mse: 4.5939e-04 - dense_3_mse: 3.9353e-04 - val_loss: 0.0015 - val_dense_2_loss: 6.6365e-04 - val_dense_3_loss: 8.2585e-04 - val_dense_2_mse: 6.6365e-04 - val_dense_3_mse: 8.2585e-04\n",
            "Epoch 58/140\n",
            "17/17 [==============================] - 8s 475ms/step - loss: 8.3413e-04 - dense_2_loss: 4.4393e-04 - dense_3_loss: 3.9020e-04 - dense_2_mse: 4.4393e-04 - dense_3_mse: 3.9020e-04 - val_loss: 0.0015 - val_dense_2_loss: 6.7084e-04 - val_dense_3_loss: 8.0246e-04 - val_dense_2_mse: 6.7084e-04 - val_dense_3_mse: 8.0246e-04\n",
            "Epoch 59/140\n",
            "17/17 [==============================] - 7s 400ms/step - loss: 8.1594e-04 - dense_2_loss: 4.4453e-04 - dense_3_loss: 3.7141e-04 - dense_2_mse: 4.4453e-04 - dense_3_mse: 3.7141e-04 - val_loss: 0.0015 - val_dense_2_loss: 6.5905e-04 - val_dense_3_loss: 8.1778e-04 - val_dense_2_mse: 6.5905e-04 - val_dense_3_mse: 8.1778e-04\n",
            "Epoch 60/140\n",
            "17/17 [==============================] - 7s 419ms/step - loss: 8.2408e-04 - dense_2_loss: 4.4444e-04 - dense_3_loss: 3.7965e-04 - dense_2_mse: 4.4444e-04 - dense_3_mse: 3.7965e-04 - val_loss: 0.0015 - val_dense_2_loss: 6.7461e-04 - val_dense_3_loss: 8.2310e-04 - val_dense_2_mse: 6.7461e-04 - val_dense_3_mse: 8.2310e-04\n",
            "Epoch 61/140\n",
            "17/17 [==============================] - 9s 532ms/step - loss: 7.8715e-04 - dense_2_loss: 4.2483e-04 - dense_3_loss: 3.6232e-04 - dense_2_mse: 4.2483e-04 - dense_3_mse: 3.6232e-04 - val_loss: 0.0015 - val_dense_2_loss: 6.3897e-04 - val_dense_3_loss: 8.2877e-04 - val_dense_2_mse: 6.3897e-04 - val_dense_3_mse: 8.2877e-04\n",
            "Epoch 62/140\n",
            "17/17 [==============================] - 9s 513ms/step - loss: 7.9393e-04 - dense_2_loss: 4.3081e-04 - dense_3_loss: 3.6312e-04 - dense_2_mse: 4.3081e-04 - dense_3_mse: 3.6312e-04 - val_loss: 0.0015 - val_dense_2_loss: 6.4322e-04 - val_dense_3_loss: 8.0787e-04 - val_dense_2_mse: 6.4322e-04 - val_dense_3_mse: 8.0787e-04\n",
            "Epoch 63/140\n",
            "17/17 [==============================] - 7s 405ms/step - loss: 8.0336e-04 - dense_2_loss: 4.2897e-04 - dense_3_loss: 3.7439e-04 - dense_2_mse: 4.2897e-04 - dense_3_mse: 3.7439e-04 - val_loss: 0.0015 - val_dense_2_loss: 6.8141e-04 - val_dense_3_loss: 8.2744e-04 - val_dense_2_mse: 6.8141e-04 - val_dense_3_mse: 8.2744e-04\n",
            "Epoch 64/140\n",
            "17/17 [==============================] - 9s 537ms/step - loss: 8.2560e-04 - dense_2_loss: 4.2765e-04 - dense_3_loss: 3.9795e-04 - dense_2_mse: 4.2765e-04 - dense_3_mse: 3.9795e-04 - val_loss: 0.0014 - val_dense_2_loss: 6.1833e-04 - val_dense_3_loss: 8.0167e-04 - val_dense_2_mse: 6.1833e-04 - val_dense_3_mse: 8.0167e-04\n",
            "Epoch 65/140\n",
            "17/17 [==============================] - 7s 394ms/step - loss: 8.5189e-04 - dense_2_loss: 4.3222e-04 - dense_3_loss: 4.1967e-04 - dense_2_mse: 4.3222e-04 - dense_3_mse: 4.1967e-04 - val_loss: 0.0016 - val_dense_2_loss: 6.7396e-04 - val_dense_3_loss: 9.2686e-04 - val_dense_2_mse: 6.7396e-04 - val_dense_3_mse: 9.2686e-04\n",
            "Epoch 66/140\n",
            "17/17 [==============================] - 8s 474ms/step - loss: 8.3417e-04 - dense_2_loss: 4.2978e-04 - dense_3_loss: 4.0439e-04 - dense_2_mse: 4.2978e-04 - dense_3_mse: 4.0439e-04 - val_loss: 0.0014 - val_dense_2_loss: 6.1844e-04 - val_dense_3_loss: 8.2507e-04 - val_dense_2_mse: 6.1844e-04 - val_dense_3_mse: 8.2507e-04\n",
            "Epoch 67/140\n",
            "17/17 [==============================] - 7s 415ms/step - loss: 7.7042e-04 - dense_2_loss: 4.0711e-04 - dense_3_loss: 3.6331e-04 - dense_2_mse: 4.0711e-04 - dense_3_mse: 3.6331e-04 - val_loss: 0.0014 - val_dense_2_loss: 6.3571e-04 - val_dense_3_loss: 8.0398e-04 - val_dense_2_mse: 6.3571e-04 - val_dense_3_mse: 8.0398e-04\n",
            "Epoch 68/140\n",
            "17/17 [==============================] - 7s 403ms/step - loss: 7.2537e-04 - dense_2_loss: 3.7754e-04 - dense_3_loss: 3.4783e-04 - dense_2_mse: 3.7754e-04 - dense_3_mse: 3.4783e-04 - val_loss: 0.0014 - val_dense_2_loss: 6.1429e-04 - val_dense_3_loss: 8.2844e-04 - val_dense_2_mse: 6.1429e-04 - val_dense_3_mse: 8.2844e-04\n",
            "Epoch 69/140\n",
            "17/17 [==============================] - 9s 540ms/step - loss: 7.2335e-04 - dense_2_loss: 3.8281e-04 - dense_3_loss: 3.4054e-04 - dense_2_mse: 3.8281e-04 - dense_3_mse: 3.4054e-04 - val_loss: 0.0014 - val_dense_2_loss: 6.1812e-04 - val_dense_3_loss: 7.9749e-04 - val_dense_2_mse: 6.1812e-04 - val_dense_3_mse: 7.9749e-04\n",
            "Epoch 70/140\n",
            "17/17 [==============================] - 8s 492ms/step - loss: 6.9060e-04 - dense_2_loss: 3.6294e-04 - dense_3_loss: 3.2766e-04 - dense_2_mse: 3.6294e-04 - dense_3_mse: 3.2766e-04 - val_loss: 0.0013 - val_dense_2_loss: 5.8990e-04 - val_dense_3_loss: 7.4794e-04 - val_dense_2_mse: 5.8990e-04 - val_dense_3_mse: 7.4794e-04\n",
            "Epoch 71/140\n",
            "17/17 [==============================] - 7s 408ms/step - loss: 6.7093e-04 - dense_2_loss: 3.6074e-04 - dense_3_loss: 3.1019e-04 - dense_2_mse: 3.6074e-04 - dense_3_mse: 3.1019e-04 - val_loss: 0.0014 - val_dense_2_loss: 5.7331e-04 - val_dense_3_loss: 7.8040e-04 - val_dense_2_mse: 5.7331e-04 - val_dense_3_mse: 7.8040e-04\n",
            "Epoch 72/140\n",
            "17/17 [==============================] - 7s 416ms/step - loss: 6.7257e-04 - dense_2_loss: 3.5745e-04 - dense_3_loss: 3.1512e-04 - dense_2_mse: 3.5745e-04 - dense_3_mse: 3.1512e-04 - val_loss: 0.0014 - val_dense_2_loss: 6.0145e-04 - val_dense_3_loss: 7.9736e-04 - val_dense_2_mse: 6.0145e-04 - val_dense_3_mse: 7.9736e-04\n",
            "Epoch 73/140\n",
            "17/17 [==============================] - 11s 635ms/step - loss: 6.3246e-04 - dense_2_loss: 3.3467e-04 - dense_3_loss: 2.9779e-04 - dense_2_mse: 3.3467e-04 - dense_3_mse: 2.9779e-04 - val_loss: 0.0013 - val_dense_2_loss: 5.7348e-04 - val_dense_3_loss: 7.6285e-04 - val_dense_2_mse: 5.7348e-04 - val_dense_3_mse: 7.6285e-04\n",
            "Epoch 74/140\n",
            "17/17 [==============================] - 9s 543ms/step - loss: 6.3450e-04 - dense_2_loss: 3.3528e-04 - dense_3_loss: 2.9922e-04 - dense_2_mse: 3.3528e-04 - dense_3_mse: 2.9922e-04 - val_loss: 0.0013 - val_dense_2_loss: 5.7172e-04 - val_dense_3_loss: 7.4562e-04 - val_dense_2_mse: 5.7172e-04 - val_dense_3_mse: 7.4562e-04\n",
            "Epoch 75/140\n",
            "17/17 [==============================] - 7s 409ms/step - loss: 6.4275e-04 - dense_2_loss: 3.5431e-04 - dense_3_loss: 2.8844e-04 - dense_2_mse: 3.5431e-04 - dense_3_mse: 2.8844e-04 - val_loss: 0.0014 - val_dense_2_loss: 6.1744e-04 - val_dense_3_loss: 7.5436e-04 - val_dense_2_mse: 6.1744e-04 - val_dense_3_mse: 7.5436e-04\n",
            "17/17 [==============================] - ETA: 0s - loss: 6.4275e-04 - dense_2_loss: 3.5431e-04 - dense_3_loss: 2.8844e-04 - dense_2_mse: 3.5431e-04 - dense_3_mse: 2.8844e-04Epoch 76/140\n",
            "17/17 [==============================] - 7s 425ms/step - loss: 6.1674e-04 - dense_2_loss: 3.3870e-04 - dense_3_loss: 2.7804e-04 - dense_2_mse: 3.3870e-04 - dense_3_mse: 2.7804e-04 - val_loss: 0.0013 - val_dense_2_loss: 5.6787e-04 - val_dense_3_loss: 7.7144e-04 - val_dense_2_mse: 5.6787e-04 - val_dense_3_mse: 7.7144e-04\n",
            "Epoch 77/140\n",
            "17/17 [==============================] - 9s 545ms/step - loss: 6.1477e-04 - dense_2_loss: 3.2547e-04 - dense_3_loss: 2.8929e-04 - dense_2_mse: 3.2547e-04 - dense_3_mse: 2.8929e-04 - val_loss: 0.0013 - val_dense_2_loss: 5.4427e-04 - val_dense_3_loss: 7.4196e-04 - val_dense_2_mse: 5.4427e-04 - val_dense_3_mse: 7.4196e-04\n",
            "Epoch 78/140\n",
            "17/17 [==============================] - 8s 452ms/step - loss: 6.3900e-04 - dense_2_loss: 3.3989e-04 - dense_3_loss: 2.9911e-04 - dense_2_mse: 3.3989e-04 - dense_3_mse: 2.9911e-04 - val_loss: 0.0013 - val_dense_2_loss: 5.7485e-04 - val_dense_3_loss: 7.4992e-04 - val_dense_2_mse: 5.7485e-04 - val_dense_3_mse: 7.4992e-04\n",
            "Epoch 79/140\n",
            "17/17 [==============================] - 10s 624ms/step - loss: 6.3738e-04 - dense_2_loss: 3.4716e-04 - dense_3_loss: 2.9022e-04 - dense_2_mse: 3.4716e-04 - dense_3_mse: 2.9022e-04 - val_loss: 0.0013 - val_dense_2_loss: 5.1107e-04 - val_dense_3_loss: 7.4900e-04 - val_dense_2_mse: 5.1107e-04 - val_dense_3_mse: 7.4900e-04\n",
            "Epoch 80/140\n",
            "17/17 [==============================] - 7s 414ms/step - loss: 5.8595e-04 - dense_2_loss: 3.1340e-04 - dense_3_loss: 2.7255e-04 - dense_2_mse: 3.1340e-04 - dense_3_mse: 2.7255e-04 - val_loss: 0.0013 - val_dense_2_loss: 5.3974e-04 - val_dense_3_loss: 7.3213e-04 - val_dense_2_mse: 5.3974e-04 - val_dense_3_mse: 7.3213e-04\n",
            "Epoch 81/140\n",
            "17/17 [==============================] - 7s 423ms/step - loss: 6.0890e-04 - dense_2_loss: 3.1789e-04 - dense_3_loss: 2.9101e-04 - dense_2_mse: 3.1789e-04 - dense_3_mse: 2.9101e-04 - val_loss: 0.0013 - val_dense_2_loss: 5.5063e-04 - val_dense_3_loss: 7.7985e-04 - val_dense_2_mse: 5.5063e-04 - val_dense_3_mse: 7.7985e-04\n",
            "Epoch 82/140\n",
            "17/17 [==============================] - 7s 411ms/step - loss: 6.2389e-04 - dense_2_loss: 3.2128e-04 - dense_3_loss: 3.0261e-04 - dense_2_mse: 3.2128e-04 - dense_3_mse: 3.0261e-04 - val_loss: 0.0014 - val_dense_2_loss: 5.7769e-04 - val_dense_3_loss: 8.0443e-04 - val_dense_2_mse: 5.7769e-04 - val_dense_3_mse: 8.0443e-04\n",
            "Epoch 83/140\n",
            "17/17 [==============================] - 7s 416ms/step - loss: 6.8388e-04 - dense_2_loss: 3.5274e-04 - dense_3_loss: 3.3114e-04 - dense_2_mse: 3.5274e-04 - dense_3_mse: 3.3114e-04 - val_loss: 0.0014 - val_dense_2_loss: 5.8350e-04 - val_dense_3_loss: 8.2408e-04 - val_dense_2_mse: 5.8350e-04 - val_dense_3_mse: 8.2408e-04\n",
            "Epoch 84/140\n",
            "17/17 [==============================] - 7s 418ms/step - loss: 6.6084e-04 - dense_2_loss: 3.3517e-04 - dense_3_loss: 3.2567e-04 - dense_2_mse: 3.3517e-04 - dense_3_mse: 3.2567e-04 - val_loss: 0.0015 - val_dense_2_loss: 5.6538e-04 - val_dense_3_loss: 9.5096e-04 - val_dense_2_mse: 5.6538e-04 - val_dense_3_mse: 9.5096e-04\n",
            "Epoch 85/140\n",
            "17/17 [==============================] - 8s 452ms/step - loss: 6.6225e-04 - dense_2_loss: 3.3782e-04 - dense_3_loss: 3.2442e-04 - dense_2_mse: 3.3782e-04 - dense_3_mse: 3.2442e-04 - val_loss: 0.0013 - val_dense_2_loss: 5.6426e-04 - val_dense_3_loss: 7.5725e-04 - val_dense_2_mse: 5.6426e-04 - val_dense_3_mse: 7.5725e-04\n",
            "Epoch 86/140\n",
            "17/17 [==============================] - 9s 559ms/step - loss: 5.8266e-04 - dense_2_loss: 3.0766e-04 - dense_3_loss: 2.7501e-04 - dense_2_mse: 3.0766e-04 - dense_3_mse: 2.7501e-04 - val_loss: 0.0012 - val_dense_2_loss: 5.2932e-04 - val_dense_3_loss: 7.2067e-04 - val_dense_2_mse: 5.2932e-04 - val_dense_3_mse: 7.2067e-04\n",
            "Epoch 87/140\n",
            "17/17 [==============================] - 7s 411ms/step - loss: 5.6126e-04 - dense_2_loss: 2.9963e-04 - dense_3_loss: 2.6163e-04 - dense_2_mse: 2.9963e-04 - dense_3_mse: 2.6163e-04 - val_loss: 0.0013 - val_dense_2_loss: 5.2857e-04 - val_dense_3_loss: 7.6344e-04 - val_dense_2_mse: 5.2857e-04 - val_dense_3_mse: 7.6344e-04\n",
            "Epoch 88/140\n",
            "17/17 [==============================] - 7s 412ms/step - loss: 5.5295e-04 - dense_2_loss: 2.9218e-04 - dense_3_loss: 2.6077e-04 - dense_2_mse: 2.9218e-04 - dense_3_mse: 2.6077e-04 - val_loss: 0.0013 - val_dense_2_loss: 5.3740e-04 - val_dense_3_loss: 7.3443e-04 - val_dense_2_mse: 5.3740e-04 - val_dense_3_mse: 7.3443e-04\n",
            "Epoch 89/140\n",
            "17/17 [==============================] - 8s 443ms/step - loss: 5.4630e-04 - dense_2_loss: 2.9140e-04 - dense_3_loss: 2.5490e-04 - dense_2_mse: 2.9140e-04 - dense_3_mse: 2.5490e-04 - val_loss: 0.0013 - val_dense_2_loss: 5.4391e-04 - val_dense_3_loss: 7.3285e-04 - val_dense_2_mse: 5.4391e-04 - val_dense_3_mse: 7.3285e-04\n",
            "Epoch 90/140\n",
            "17/17 [==============================] - 7s 426ms/step - loss: 5.2113e-04 - dense_2_loss: 2.8545e-04 - dense_3_loss: 2.3568e-04 - dense_2_mse: 2.8545e-04 - dense_3_mse: 2.3568e-04 - val_loss: 0.0013 - val_dense_2_loss: 5.3995e-04 - val_dense_3_loss: 8.0864e-04 - val_dense_2_mse: 5.3995e-04 - val_dense_3_mse: 8.0864e-04\n",
            "Epoch 91/140\n",
            "17/17 [==============================] - 7s 404ms/step - loss: 5.2391e-04 - dense_2_loss: 2.8151e-04 - dense_3_loss: 2.4240e-04 - dense_2_mse: 2.8151e-04 - dense_3_mse: 2.4240e-04 - val_loss: 0.0013 - val_dense_2_loss: 5.2875e-04 - val_dense_3_loss: 7.4386e-04 - val_dense_2_mse: 5.2875e-04 - val_dense_3_mse: 7.4386e-04\n",
            "Epoch 92/140\n",
            "17/17 [==============================] - 7s 414ms/step - loss: 4.9332e-04 - dense_2_loss: 2.6922e-04 - dense_3_loss: 2.2411e-04 - dense_2_mse: 2.6922e-04 - dense_3_mse: 2.2411e-04 - val_loss: 0.0013 - val_dense_2_loss: 5.4219e-04 - val_dense_3_loss: 7.3916e-04 - val_dense_2_mse: 5.4219e-04 - val_dense_3_mse: 7.3916e-04\n",
            "Epoch 93/140\n",
            "17/17 [==============================] - 7s 420ms/step - loss: 4.9796e-04 - dense_2_loss: 2.8063e-04 - dense_3_loss: 2.1734e-04 - dense_2_mse: 2.8063e-04 - dense_3_mse: 2.1734e-04 - val_loss: 0.0013 - val_dense_2_loss: 5.4616e-04 - val_dense_3_loss: 7.2770e-04 - val_dense_2_mse: 5.4616e-04 - val_dense_3_mse: 7.2770e-04\n",
            "Epoch 94/140\n",
            "17/17 [==============================] - 11s 655ms/step - loss: 4.6278e-04 - dense_2_loss: 2.5580e-04 - dense_3_loss: 2.0697e-04 - dense_2_mse: 2.5580e-04 - dense_3_mse: 2.0697e-04 - val_loss: 0.0012 - val_dense_2_loss: 5.1742e-04 - val_dense_3_loss: 7.2281e-04 - val_dense_2_mse: 5.1742e-04 - val_dense_3_mse: 7.2281e-04\n",
            "Epoch 95/140\n",
            "17/17 [==============================] - 8s 470ms/step - loss: 4.5078e-04 - dense_2_loss: 2.5092e-04 - dense_3_loss: 1.9986e-04 - dense_2_mse: 2.5092e-04 - dense_3_mse: 1.9986e-04 - val_loss: 0.0012 - val_dense_2_loss: 5.0537e-04 - val_dense_3_loss: 7.1854e-04 - val_dense_2_mse: 5.0537e-04 - val_dense_3_mse: 7.1854e-04\n",
            "Epoch 96/140\n",
            "17/17 [==============================] - 7s 423ms/step - loss: 4.5239e-04 - dense_2_loss: 2.4576e-04 - dense_3_loss: 2.0663e-04 - dense_2_mse: 2.4576e-04 - dense_3_mse: 2.0663e-04 - val_loss: 0.0013 - val_dense_2_loss: 5.2882e-04 - val_dense_3_loss: 7.4131e-04 - val_dense_2_mse: 5.2882e-04 - val_dense_3_mse: 7.4131e-04\n",
            "Epoch 97/140\n",
            "17/17 [==============================] - 7s 410ms/step - loss: 4.7293e-04 - dense_2_loss: 2.6432e-04 - dense_3_loss: 2.0861e-04 - dense_2_mse: 2.6432e-04 - dense_3_mse: 2.0861e-04 - val_loss: 0.0013 - val_dense_2_loss: 5.1011e-04 - val_dense_3_loss: 7.5627e-04 - val_dense_2_mse: 5.1011e-04 - val_dense_3_mse: 7.5627e-04\n",
            "Epoch 98/140\n",
            "17/17 [==============================] - 8s 459ms/step - loss: 4.7441e-04 - dense_2_loss: 2.6097e-04 - dense_3_loss: 2.1344e-04 - dense_2_mse: 2.6097e-04 - dense_3_mse: 2.1344e-04 - val_loss: 0.0013 - val_dense_2_loss: 5.1813e-04 - val_dense_3_loss: 7.3861e-04 - val_dense_2_mse: 5.1813e-04 - val_dense_3_mse: 7.3861e-04\n",
            "Epoch 99/140\n",
            "17/17 [==============================] - 7s 413ms/step - loss: 4.5689e-04 - dense_2_loss: 2.5405e-04 - dense_3_loss: 2.0283e-04 - dense_2_mse: 2.5405e-04 - dense_3_mse: 2.0283e-04 - val_loss: 0.0013 - val_dense_2_loss: 5.1793e-04 - val_dense_3_loss: 7.4327e-04 - val_dense_2_mse: 5.1793e-04 - val_dense_3_mse: 7.4327e-04\n",
            "Epoch 100/140\n",
            "17/17 [==============================] - 7s 411ms/step - loss: 4.8970e-04 - dense_2_loss: 2.6580e-04 - dense_3_loss: 2.2390e-04 - dense_2_mse: 2.6580e-04 - dense_3_mse: 2.2390e-04 - val_loss: 0.0013 - val_dense_2_loss: 5.2510e-04 - val_dense_3_loss: 7.4330e-04 - val_dense_2_mse: 5.2510e-04 - val_dense_3_mse: 7.4330e-04\n",
            "Epoch 101/140\n",
            "17/17 [==============================] - 8s 451ms/step - loss: 5.0312e-04 - dense_2_loss: 2.7389e-04 - dense_3_loss: 2.2922e-04 - dense_2_mse: 2.7389e-04 - dense_3_mse: 2.2922e-04 - val_loss: 0.0012 - val_dense_2_loss: 5.1306e-04 - val_dense_3_loss: 7.2243e-04 - val_dense_2_mse: 5.1306e-04 - val_dense_3_mse: 7.2243e-04\n",
            "Epoch 102/140\n",
            "17/17 [==============================] - 7s 414ms/step - loss: 5.3082e-04 - dense_2_loss: 2.8114e-04 - dense_3_loss: 2.4968e-04 - dense_2_mse: 2.8114e-04 - dense_3_mse: 2.4968e-04 - val_loss: 0.0013 - val_dense_2_loss: 5.4237e-04 - val_dense_3_loss: 7.7064e-04 - val_dense_2_mse: 5.4237e-04 - val_dense_3_mse: 7.7064e-04\n",
            "Epoch 103/140\n",
            "17/17 [==============================] - 7s 418ms/step - loss: 5.6586e-04 - dense_2_loss: 3.0153e-04 - dense_3_loss: 2.6433e-04 - dense_2_mse: 3.0153e-04 - dense_3_mse: 2.6433e-04 - val_loss: 0.0013 - val_dense_2_loss: 5.4959e-04 - val_dense_3_loss: 7.8423e-04 - val_dense_2_mse: 5.4959e-04 - val_dense_3_mse: 7.8423e-04\n",
            "Epoch 104/140\n",
            "17/17 [==============================] - 8s 450ms/step - loss: 5.5504e-04 - dense_2_loss: 3.0617e-04 - dense_3_loss: 2.4887e-04 - dense_2_mse: 3.0617e-04 - dense_3_mse: 2.4887e-04 - val_loss: 0.0014 - val_dense_2_loss: 5.8677e-04 - val_dense_3_loss: 7.9977e-04 - val_dense_2_mse: 5.8677e-04 - val_dense_3_mse: 7.9977e-04\n",
            "Epoch 105/140\n",
            "17/17 [==============================] - 7s 409ms/step - loss: 5.5754e-04 - dense_2_loss: 3.0850e-04 - dense_3_loss: 2.4905e-04 - dense_2_mse: 3.0850e-04 - dense_3_mse: 2.4905e-04 - val_loss: 0.0013 - val_dense_2_loss: 5.2429e-04 - val_dense_3_loss: 7.7559e-04 - val_dense_2_mse: 5.2429e-04 - val_dense_3_mse: 7.7559e-04\n",
            "Epoch 105: early stopping\n",
            "Minutes elapsed: 16.725434\n"
          ]
        }
      ]
    },
    {
      "cell_type": "code",
      "metadata": {
        "id": "xtSAkc4Pc7xb"
      },
      "source": [
        "# save the last weights \n",
        "model.save_weights(save_last_weights)"
      ],
      "execution_count": null,
      "outputs": []
    },
    {
      "cell_type": "code",
      "metadata": {
        "id": "DxjLnclCc7xP"
      },
      "source": [
        "# Aggregate the summary statistics\n",
        "summary_stats = pd.DataFrame({'epoch': [ i + 1 for i in history.epoch ],\n",
        "                              'train_loss': history.history['loss'],\n",
        "                              'valid_loss': history.history['val_loss']})"
      ],
      "execution_count": null,
      "outputs": []
    },
    {
      "cell_type": "code",
      "metadata": {
        "id": "SzVb0B9fc7xS"
      },
      "source": [
        "# Aggregate the summary statistics\n",
        "summary_stats = pd.DataFrame({'epoch': [ i + 1 for i in history.epoch ],\n",
        "                              'train_loss': history.history['loss'],\n",
        "                              'valid_loss': history.history['val_loss']})"
      ],
      "execution_count": null,
      "outputs": []
    },
    {
      "cell_type": "code",
      "metadata": {
        "id": "up8gwtvuc7xW"
      },
      "source": [
        "#summary_stats = pd.read_csv(save_summary_stats)\n",
        "summary_stats.to_csv(save_summary_stats)    "
      ],
      "execution_count": null,
      "outputs": []
    },
    {
      "cell_type": "code",
      "metadata": {
        "id": "7HknOGkAc7xY",
        "colab": {
          "base_uri": "https://localhost:8080/",
          "height": 495
        },
        "outputId": "df4637b1-6a97-43e7-e744-a44f2c436fb7"
      },
      "source": [
        "fig1 = plt.figure(figsize=(10,7))\n",
        "\n",
        "plt.plot(summary_stats.train_loss, 'b') # blue\n",
        "plt.plot(summary_stats.valid_loss, 'g') # green\n",
        "\n",
        "figname = \"LossComparation.eps\"\n",
        "\n",
        "plt.legend([\"Train Loss\", \"Val Loss\"])\n",
        "#plt.savefig(figname, format='eps')\n",
        "\n",
        "plt.grid(True, which='both')\n",
        "plt.show()\n",
        "\n",
        "\n",
        "# Find the min validation loss during the training\n",
        "min_loss, idx = min((loss, idx) for (idx, loss) in enumerate(history.history['val_loss']))\n",
        "print(\"\\n\")\n",
        "print('Minimum val_loss at epoch', '{:d}'.format(idx+1), '=', '{:.4f}'.format(min_loss))\n",
        "min_loss = round(min_loss, 4)"
      ],
      "execution_count": null,
      "outputs": [
        {
          "output_type": "display_data",
          "data": {
            "text/plain": [
              "<Figure size 720x504 with 1 Axes>"
            ],
            "image/png": "[encoded data removed]"
          },
          "metadata": {
            "needs_background": "light"
          }
        },
        {
          "output_type": "stream",
          "name": "stdout",
          "text": [
            "\n",
            "\n",
            "Minimum val_loss at epoch 95 = 0.0012\n"
          ]
        }
      ]
    },
    {
      "cell_type": "markdown",
      "metadata": {
        "id": "OMYUDY04c7xe"
      },
      "source": [
        "# Testing"
      ]
    },
    {
      "cell_type": "code",
      "metadata": {
        "id": "q4j3CKe7TzJT"
      },
      "source": [
        "# Relative root mean square error\n",
        "def RRMSE (real, predicted):\n",
        "  a = np.linalg.norm((real-predicted), ord='fro')\n",
        "  b = np.linalg.norm(real, ord='fro')\n",
        "  return(a/b)"
      ],
      "execution_count": null,
      "outputs": []
    },
    {
      "cell_type": "code",
      "source": [
        "def RRMSE_flat (real, predicted):  \n",
        "  a = np.linalg.norm((real-predicted).flatten(), ord=2)\n",
        "  b = np.linalg.norm(real.flatten(), ord=2)\n",
        "  return(a/b)"
      ],
      "metadata": {
        "id": "zaB9z-KpChlR"
      },
      "execution_count": null,
      "outputs": []
    },
    {
      "cell_type": "code",
      "metadata": {
        "id": "blumb9kgc7xf",
        "colab": {
          "base_uri": "https://localhost:8080/"
        },
        "outputId": "dab42d51-cd7a-4678-d5ca-bdd737b5baef"
      },
      "source": [
        "t0 = time.time()\n",
        "\n",
        "model.load_weights(save_best_weights)\n",
        "Ytest_hat_fl = model.predict(test_generator, max_queue_size=10, workers=6, use_multiprocessing=True, verbose=1)\n",
        "    \n",
        "t1 = time.time()\n",
        "print(\"Minutes elapsed: %f\" % ((t1 - t0) / 60.))"
      ],
      "execution_count": null,
      "outputs": [
        {
          "output_type": "stream",
          "name": "stdout",
          "text": [
            "22/22 [==============================] - 2s 26ms/step\n",
            "Minutes elapsed: 0.135369\n"
          ]
        }
      ]
    },
    {
      "cell_type": "code",
      "metadata": {
        "id": "RTkCzAn87j-n",
        "colab": {
          "base_uri": "https://localhost:8080/",
          "height": 286
        },
        "outputId": "baae3789-6a06-40e8-ef53-bb4447bf8626"
      },
      "source": [
        "print('Performance measures on Test data, for all time, per time-ahead lag')\n",
        "\n",
        "results_table_global = pd.DataFrame(index=['MSE','MAE','MAD','R2','SMAPE','RRMSE', 'RRMSE_FLAT'],columns=range(p))\n",
        "for i in range(p):\n",
        "    results_table_global.iloc[0,i] = mean_squared_error(Ytest_fl[i].flatten(), Ytest_hat_fl[i].flatten())\n",
        "    results_table_global.iloc[1,i] = mean_absolute_error(Ytest_fl[i].flatten(), Ytest_hat_fl[i].flatten())\n",
        "    results_table_global.iloc[2,i] = median_absolute_error(Ytest_fl[i].flatten(), Ytest_hat_fl[i].flatten())\n",
        "    results_table_global.iloc[3,i] = r2_score(Ytest_fl[i].flatten(), Ytest_hat_fl[i].flatten())\n",
        "    results_table_global.iloc[4,i] = smape(Ytest_fl[i].flatten(), Ytest_hat_fl[i].flatten())\n",
        "    results_table_global.iloc[5,i] = RRMSE( np.reshape(Ytest_fl[i].flatten(),(-1,1)), np.reshape(Ytest_hat_fl[i].flatten(),(-1,1)))\n",
        "    results_table_global.iloc[6,i] = RRMSE_flat( np.reshape(Ytest_fl[i].flatten(),(-1,1)), np.reshape(Ytest_hat_fl[i].flatten(),(-1,1)))\n",
        "\n",
        "results_table_global['mean'] = results_table_global.mean(axis=1)\n",
        "\n",
        "savename = \"Figures/\"+ Name +\"/LSTM/errors.csv\"\n",
        "\n",
        "results_table_global.to_csv(savename, index=True)\n",
        "\n",
        "results_table_global"
      ],
      "execution_count": null,
      "outputs": [
        {
          "output_type": "stream",
          "name": "stdout",
          "text": [
            "Performance measures on Test data, for all time, per time-ahead lag\n"
          ]
        },
        {
          "output_type": "execute_result",
          "data": {
            "text/plain": [
              "                    0          1       mean\n",
              "MSE          0.000951   0.001227   0.001089\n",
              "MAE          0.021696   0.024468   0.023082\n",
              "MAD          0.015248   0.017053   0.016150\n",
              "R2            0.97396   0.966511   0.970235\n",
              "SMAPE       48.657541  53.520412  51.088977\n",
              "RRMSE        0.153035   0.173629   0.163332\n",
              "RRMSE_FLAT   0.153035   0.173629   0.163332"
            ],
            "text/html": [
              "\n",
              "  <div id=\"df-3f9c2bca-d149-4f45-ba2f-52b11efb7804\">\n",
              "    <div class=\"colab-df-container\">\n",
              "      <div>\n",
              "<style scoped>\n",
              "    .dataframe tbody tr th:only-of-type {\n",
              "        vertical-align: middle;\n",
              "    }\n",
              "\n",
              "    .dataframe tbody tr th {\n",
              "        vertical-align: top;\n",
              "    }\n",
              "\n",
              "    .dataframe thead th {\n",
              "        text-align: right;\n",
              "    }\n",
              "</style>\n",
              "<table border=\"1\" class=\"dataframe\">\n",
              "  <thead>\n",
              "    <tr style=\"text-align: right;\">\n",
              "      <th></th>\n",
              "      <th>0</th>\n",
              "      <th>1</th>\n",
              "      <th>mean</th>\n",
              "    </tr>\n",
              "  </thead>\n",
              "  <tbody>\n",
              "    <tr>\n",
              "      <th>MSE</th>\n",
              "      <td>0.000951</td>\n",
              "      <td>0.001227</td>\n",
              "      <td>0.001089</td>\n",
              "    </tr>\n",
              "    <tr>\n",
              "      <th>MAE</th>\n",
              "      <td>0.021696</td>\n",
              "      <td>0.024468</td>\n",
              "      <td>0.023082</td>\n",
              "    </tr>\n",
              "    <tr>\n",
              "      <th>MAD</th>\n",
              "      <td>0.015248</td>\n",
              "      <td>0.017053</td>\n",
              "      <td>0.016150</td>\n",
              "    </tr>\n",
              "    <tr>\n",
              "      <th>R2</th>\n",
              "      <td>0.97396</td>\n",
              "      <td>0.966511</td>\n",
              "      <td>0.970235</td>\n",
              "    </tr>\n",
              "    <tr>\n",
              "      <th>SMAPE</th>\n",
              "      <td>48.657541</td>\n",
              "      <td>53.520412</td>\n",
              "      <td>51.088977</td>\n",
              "    </tr>\n",
              "    <tr>\n",
              "      <th>RRMSE</th>\n",
              "      <td>0.153035</td>\n",
              "      <td>0.173629</td>\n",
              "      <td>0.163332</td>\n",
              "    </tr>\n",
              "    <tr>\n",
              "      <th>RRMSE_FLAT</th>\n",
              "      <td>0.153035</td>\n",
              "      <td>0.173629</td>\n",
              "      <td>0.163332</td>\n",
              "    </tr>\n",
              "  </tbody>\n",
              "</table>\n",
              "</div>\n",
              "      <button class=\"colab-df-convert\" onclick=\"convertToInteractive('df-3f9c2bca-d149-4f45-ba2f-52b11efb7804')\"\n",
              "              title=\"Convert this dataframe to an interactive table.\"\n",
              "              style=\"display:none;\">\n",
              "        \n",
              "  <svg xmlns=\"http://www.w3.org/2000/svg\" height=\"24px\"viewBox=\"0 0 24 24\"\n",
              "       width=\"24px\">\n",
              "    <path d=\"M0 0h24v24H0V0z\" fill=\"none\"/>\n",
              "    <path d=\"M18.56 5.44l.94 2.06.94-2.06 2.06-.94-2.06-.94-.94-2.06-.94 2.06-2.06.94zm-11 1L8.5 8.5l.94-2.06 2.06-.94-2.06-.94L8.5 2.5l-.94 2.06-2.06.94zm10 10l.94 2.06.94-2.06 2.06-.94-2.06-.94-.94-2.06-.94 2.06-2.06.94z\"/><path d=\"M17.41 7.96l-1.37-1.37c-.4-.4-.92-.59-1.43-.59-.52 0-1.04.2-1.43.59L10.3 9.45l-7.72 7.72c-.78.78-.78 2.05 0 2.83L4 21.41c.39.39.9.59 1.41.59.51 0 1.02-.2 1.41-.59l7.78-7.78 2.81-2.81c.8-.78.8-2.07 0-2.86zM5.41 20L4 18.59l7.72-7.72 1.47 1.35L5.41 20z\"/>\n",
              "  </svg>\n",
              "      </button>\n",
              "      \n",
              "  <style>\n",
              "    .colab-df-container {\n",
              "      display:flex;\n",
              "      flex-wrap:wrap;\n",
              "      gap: 12px;\n",
              "    }\n",
              "\n",
              "    .colab-df-convert {\n",
              "      background-color: #E8F0FE;\n",
              "      border: none;\n",
              "      border-radius: 50%;\n",
              "      cursor: pointer;\n",
              "      display: none;\n",
              "      fill: #1967D2;\n",
              "      height: 32px;\n",
              "      padding: 0 0 0 0;\n",
              "      width: 32px;\n",
              "    }\n",
              "\n",
              "    .colab-df-convert:hover {\n",
              "      background-color: #E2EBFA;\n",
              "      box-shadow: 0px 1px 2px rgba(60, 64, 67, 0.3), 0px 1px 3px 1px rgba(60, 64, 67, 0.15);\n",
              "      fill: #174EA6;\n",
              "    }\n",
              "\n",
              "    [theme=dark] .colab-df-convert {\n",
              "      background-color: #3B4455;\n",
              "      fill: #D2E3FC;\n",
              "    }\n",
              "\n",
              "    [theme=dark] .colab-df-convert:hover {\n",
              "      background-color: #434B5C;\n",
              "      box-shadow: 0px 1px 3px 1px rgba(0, 0, 0, 0.15);\n",
              "      filter: drop-shadow(0px 1px 2px rgba(0, 0, 0, 0.3));\n",
              "      fill: #FFFFFF;\n",
              "    }\n",
              "  </style>\n",
              "\n",
              "      <script>\n",
              "        const buttonEl =\n",
              "          document.querySelector('#df-3f9c2bca-d149-4f45-ba2f-52b11efb7804 button.colab-df-convert');\n",
              "        buttonEl.style.display =\n",
              "          google.colab.kernel.accessAllowed ? 'block' : 'none';\n",
              "\n",
              "        async function convertToInteractive(key) {\n",
              "          const element = document.querySelector('#df-3f9c2bca-d149-4f45-ba2f-52b11efb7804');\n",
              "          const dataTable =\n",
              "            await google.colab.kernel.invokeFunction('convertToInteractive',\n",
              "                                                     [key], {});\n",
              "          if (!dataTable) return;\n",
              "\n",
              "          const docLinkHtml = 'Like what you see? Visit the ' +\n",
              "            '<a target=\"_blank\" href=https://colab.research.google.com/notebooks/data_table.ipynb>data table notebook</a>'\n",
              "            + ' to learn more about interactive tables.';\n",
              "          element.innerHTML = '';\n",
              "          dataTable['output_type'] = 'display_data';\n",
              "          await google.colab.output.renderOutput(dataTable, element);\n",
              "          const docLink = document.createElement('div');\n",
              "          docLink.innerHTML = docLinkHtml;\n",
              "          element.appendChild(docLink);\n",
              "        }\n",
              "      </script>\n",
              "    </div>\n",
              "  </div>\n",
              "  "
            ]
          },
          "metadata": {},
          "execution_count": 43
        }
      ]
    },
    {
      "cell_type": "code",
      "source": [
        "custom_palette = sns.color_palette(\"coolwarm\", 26)"
      ],
      "metadata": {
        "id": "S8OaZV55qV-5"
      },
      "execution_count": null,
      "outputs": []
    },
    {
      "cell_type": "code",
      "metadata": {
        "id": "sh1A9px3mM1W",
        "colab": {
          "base_uri": "https://localhost:8080/",
          "height": 350
        },
        "outputId": "d65db404-5a5a-409c-9573-38aeb2b874d3"
      },
      "source": [
        "i = 70\n",
        "lag = 0\n",
        "\n",
        "Ytest_hat_lag = np.reshape(Ytest_hat_fl[lag], (Ytest[lag].shape[0],Ytest[lag].shape[1],Ytest[lag].shape[2],Ytest[lag].shape[3]))\n",
        "Ytest_lag = np.reshape(Ytest_fl[lag], (Ytest[lag].shape[0],Ytest[lag].shape[1],Ytest[lag].shape[2],Ytest[lag].shape[3]))\n",
        "\n",
        "YMONOtest_lag = np.reshape(YMONOtest_fl[lag], (YMONOtest[lag].shape[0],YMONOtest[lag].shape[1],YMONOtest[lag].shape[2],YMONOtest[lag].shape[3]))\n",
        "\n",
        "plt.figure(figsize=(15,5))\n",
        "plt.subplot(1,2, 1)\n",
        "plt.contourf((Ytest_lag*range_val + min_val)[i,0,:,:]+YMONOtest_lag[i,0,:,:], 25, colors = custom_palette)\n",
        "plt.title('Ground Truth')\n",
        "plt.subplot(1,2, 2)\n",
        "plt.contourf((Ytest_hat_lag*range_val + min_val)[i,0,:,:]+YMONOtest_lag[i,0,:,:], 25, colors = custom_palette)\n",
        "plt.title('Prediction from RNN')\n",
        "plt.show()"
      ],
      "execution_count": null,
      "outputs": [
        {
          "output_type": "display_data",
          "data": {
            "text/plain": [
              "<Figure size 1080x360 with 2 Axes>"
            ],
            "image/png": "[encoded data removed]"
          },
          "metadata": {
            "needs_background": "light"
          }
        }
      ]
    },
    {
      "cell_type": "code",
      "metadata": {
        "id": "niQwROsVeKy8",
        "colab": {
          "base_uri": "https://localhost:8080/",
          "height": 350
        },
        "outputId": "818c9522-b165-49cc-92fe-b1201aeabb9e"
      },
      "source": [
        "i = 70\n",
        "lag = 1\n",
        "\n",
        "Ytest_hat_lag = np.reshape(Ytest_hat_fl[lag], (Ytest[lag].shape[0],Ytest[lag].shape[1],Ytest[lag].shape[2],Ytest[lag].shape[3]))\n",
        "Ytest_lag = np.reshape(Ytest_fl[lag], (Ytest[lag].shape[0],Ytest[lag].shape[1],Ytest[lag].shape[2],Ytest[lag].shape[3]))\n",
        "\n",
        "YMONOtest_lag = np.reshape(YMONOtest_fl[lag], (YMONOtest[lag].shape[0],YMONOtest[lag].shape[1],YMONOtest[lag].shape[2],YMONOtest[lag].shape[3]))\n",
        "\n",
        "plt.figure(figsize=(15,5))\n",
        "plt.subplot(1,2, 1)\n",
        "plt.contourf((Ytest_lag*range_val + min_val)[i,0,:,:]+YMONOtest_lag[i,0,:,:], 25, colors = custom_palette)\n",
        "plt.title('Ground Truth')\n",
        "plt.subplot(1,2, 2)\n",
        "plt.contourf((Ytest_hat_lag*range_val + min_val)[i,0,:,:]+YMONOtest_lag[i,0,:,:], 25, colors = custom_palette)\n",
        "plt.title('Prediction from RNN')\n",
        "plt.show()"
      ],
      "execution_count": null,
      "outputs": [
        {
          "output_type": "display_data",
          "data": {
            "text/plain": [
              "<Figure size 1080x360 with 2 Axes>"
            ],
            "image/png": "[encoded data removed]"
          },
          "metadata": {
            "needs_background": "light"
          }
        }
      ]
    }
  ]
}