{
  "nbformat": 4,
  "nbformat_minor": 0,
  "metadata": {
    "colab": {
      "provenance": [],
      "authorship_tag": "ABX9TyMTs8weWK+QDdSW4Qo3X7GO",
      "include_colab_link": true
    },
    "kernelspec": {
      "name": "python3",
      "display_name": "Python 3"
    },
    "language_info": {
      "name": "python"
    },
    "accelerator": "GPU",
    "gpuClass": "standard"
  },
  "cells": [
    {
      "cell_type": "markdown",
      "metadata": {
        "id": "view-in-github",
        "colab_type": "text"
      },
      "source": [
        "<a href=\"https://colab.research.google.com/github/RAbadiaH/forecasting-through-deep-learning-and-modal-decomposition-in-multi-phase-concentric-jets/blob/main/rnn_model.ipynb\" target=\"_parent\"><img src=\"https://colab.research.google.com/assets/colab-badge.svg\" alt=\"Open In Colab\"/></a>"
      ]
    },
    {
      "cell_type": "markdown",
      "source": [
        "################################################################################\n",
        "\n",
        "**This notebook uses the GPU accelerator. To configure this go to \"Edit -> Notebook settings\"**\n",
        "\n",
        "**To run all cells at once go to \"Runtime -> Run All\"**\n",
        "\n",
        "################################################################################"
      ],
      "metadata": {
        "id": "mbigYxE-OBnB"
      }
    },
    {
      "cell_type": "markdown",
      "source": [
        "# Clone Github repository"
      ],
      "metadata": {
        "id": "SAwpNv93-SAV"
      }
    },
    {
      "cell_type": "code",
      "source": [
        "!git clone https://github.com/RAbadiaH/forecasting-through-deep-learning-and-modal-decomposition-in-multi-phase-concentric-jets.git"
      ],
      "metadata": {
        "id": "GeeU8wZq-V10",
        "outputId": "abf202a7-7a5c-40ca-bef7-1a624efa2e39",
        "colab": {
          "base_uri": "https://localhost:8080/"
        }
      },
      "execution_count": 1,
      "outputs": [
        {
          "output_type": "stream",
          "name": "stdout",
          "text": [
            "Cloning into 'forecasting-through-deep-learning-and-modal-decomposition-in-multi-phase-concentric-jets'...\n",
            "remote: Enumerating objects: 20, done.\u001b[K\n",
            "remote: Counting objects: 100% (16/16), done.\u001b[K\n",
            "remote: Compressing objects: 100% (14/14), done.\u001b[K\n",
            "remote: Total 20 (delta 6), reused 5 (delta 1), pack-reused 4\u001b[K\n",
            "Unpacking objects: 100% (20/20), 101.82 MiB | 7.07 MiB/s, done.\n"
          ]
        }
      ]
    },
    {
      "cell_type": "markdown",
      "metadata": {
        "id": "1cWy7FX5c7uX"
      },
      "source": [
        "# Import Libraries"
      ]
    },
    {
      "cell_type": "code",
      "metadata": {
        "id": "blMmfoH-c7ub"
      },
      "source": [
        "import numpy as np\n",
        "import pandas as pd\n",
        "import collections\n",
        "import os\n",
        "import matplotlib\n",
        "import matplotlib.pyplot as plt\n",
        "import datetime, time\n",
        "import scipy\n",
        "import scipy.io\n",
        "import seaborn as sns\n",
        "\n",
        "\n",
        "import sklearn\n",
        "from sklearn.preprocessing import MultiLabelBinarizer\n",
        "from sklearn.preprocessing import LabelBinarizer\n",
        "from sklearn.preprocessing import LabelEncoder\n",
        "from sklearn.multiclass import OneVsRestClassifier\n",
        "from sklearn.linear_model import LogisticRegression\n",
        "from sklearn.metrics import accuracy_score, precision_score, recall_score\n",
        "from sklearn.metrics import f1_score, confusion_matrix\n",
        "from sklearn.metrics import precision_recall_fscore_support\n",
        "from sklearn.model_selection import GridSearchCV\n",
        "from sklearn import svm\n",
        "from sklearn.preprocessing import StandardScaler\n",
        "from sklearn.preprocessing import MinMaxScaler\n",
        "from sklearn.kernel_approximation import RBFSampler\n",
        "from sklearn.linear_model import SGDClassifier\n",
        "import pandas.core.algorithms as algos\n",
        "from pandas import Series\n",
        "from sklearn.preprocessing import OneHotEncoder\n",
        "from sklearn.ensemble import RandomForestClassifier\n",
        "from sklearn.ensemble import GradientBoostingClassifier\n",
        "from sklearn.ensemble import AdaBoostClassifier\n",
        "from sklearn.tree import DecisionTreeClassifier\n",
        "from sklearn.metrics import confusion_matrix\n",
        "from sklearn.svm import LinearSVC, SVC\n",
        "from sklearn.linear_model import LogisticRegression\n",
        "from sklearn.metrics import roc_auc_score, mean_squared_error, mean_absolute_error, median_absolute_error, r2_score\n",
        "from sklearn.neural_network import MLPClassifier"
      ],
      "execution_count": 2,
      "outputs": []
    },
    {
      "cell_type": "code",
      "source": [
        "font = {'size'   : 18}\n",
        "\n",
        "matplotlib.rc('font', **font)"
      ],
      "metadata": {
        "id": "obCA5iwe552A"
      },
      "execution_count": 3,
      "outputs": []
    },
    {
      "cell_type": "code",
      "metadata": {
        "id": "iqZk78iCm6ve"
      },
      "source": [
        "def mean_absolute_percentage_error(y_true, y_pred): \n",
        "    epsilon = 1e-10 \n",
        "    y_true, y_pred = np.array(y_true), np.array(y_pred)\n",
        "    return np.mean(np.abs((y_true - y_pred) / np.maximum(epsilon,np.abs(y_true)))) * 100"
      ],
      "execution_count": 4,
      "outputs": []
    },
    {
      "cell_type": "code",
      "metadata": {
        "id": "EoCbAC1KnlJ-"
      },
      "source": [
        "def smape(A, F):\n",
        "    return ((100.0/len(A)) * np.sum(2 * np.abs(F - A) / (np.abs(A) + np.abs(F))+ np.finfo(float).eps))"
      ],
      "execution_count": 5,
      "outputs": []
    },
    {
      "cell_type": "code",
      "metadata": {
        "id": "f4QVCeWlc7uo"
      },
      "source": [
        "import tensorflow as tf\n",
        "from tensorflow import keras\n",
        "from tensorflow.keras import layers\n",
        "from tensorflow.keras.layers import Embedding, dot\n",
        "\n",
        "from tensorflow.keras.models import Sequential\n",
        "from tensorflow.keras.layers import Embedding, Dense, Dropout, Reshape, BatchNormalization, TimeDistributed, \\\n",
        "                         Lambda, Activation, LSTM, Flatten, Convolution1D, GRU, MaxPooling1D, concatenate\n",
        "from tensorflow.keras.regularizers import l2\n",
        "from tensorflow.keras.callbacks import Callback, ModelCheckpoint, EarlyStopping\n",
        "from tensorflow.keras import initializers\n",
        "from tensorflow.keras import backend as K\n",
        "from tensorflow.keras.optimizers import SGD\n",
        "\n",
        "from tensorflow.keras.models import Model\n",
        "from tensorflow.keras.layers import LSTM\n",
        "from tensorflow.keras.layers import Input\n",
        "from tensorflow.keras.backend import abs\n",
        "\n",
        "from tensorflow.keras.layers import Dense, Dropout, Flatten, dot, Permute, Concatenate\n",
        "from tensorflow.keras.layers import Conv2D, MaxPooling2D, Conv3D, MaxPooling3D\n",
        "\n",
        "from tensorflow.keras.layers import add, ConvLSTM2D\n"
      ],
      "execution_count": 6,
      "outputs": []
    },
    {
      "cell_type": "code",
      "metadata": {
        "id": "pLvCm1Woc7uv"
      },
      "source": [
        "pd.set_option('display.max_columns',100)\n",
        "pd.set_option('display.max_rows',100)"
      ],
      "execution_count": 7,
      "outputs": []
    },
    {
      "cell_type": "code",
      "metadata": {
        "id": "WjXp7oYKc7u2"
      },
      "source": [
        "# set working directory\n",
        "import os"
      ],
      "execution_count": 8,
      "outputs": []
    },
    {
      "cell_type": "markdown",
      "source": [
        "# Data Loading"
      ],
      "metadata": {
        "id": "S9fO1spWinvM"
      }
    },
    {
      "cell_type": "code",
      "metadata": {
        "id": "uNfMFNPhc7u-",
        "scrolled": false,
        "colab": {
          "base_uri": "https://localhost:8080/"
        },
        "outputId": "242ef8f4-daa0-42fe-b8df-43756e1f125f"
      },
      "source": [
        "!ls"
      ],
      "execution_count": 9,
      "outputs": [
        {
          "output_type": "stream",
          "name": "stdout",
          "text": [
            "forecasting-through-deep-learning-and-modal-decomposition-in-multi-phase-concentric-jets\n",
            "sample_data\n"
          ]
        }
      ]
    },
    {
      "cell_type": "code",
      "source": [
        "!ls forecasting-through-deep-learning-and-modal-decomposition-in-multi-phase-concentric-jets"
      ],
      "metadata": {
        "id": "tc2CRXmHNgYR",
        "outputId": "1377f663-ba71-4739-cc60-2abe43c98e21",
        "colab": {
          "base_uri": "https://localhost:8080/"
        }
      },
      "execution_count": 10,
      "outputs": [
        {
          "output_type": "stream",
          "name": "stdout",
          "text": [
            "Normal_MONO_sim.mat  Normal_STS_sim.mat  README.md  rnn_model.ipynb\n"
          ]
        }
      ]
    },
    {
      "cell_type": "code",
      "source": [
        "dic_name = 'forecasting-through-deep-learning-and-modal-decomposition-in-multi-phase-concentric-jets/'\n",
        "\n",
        "f = scipy.io.loadmat(dic_name + 'Normal_MONO_sim.mat'); Normal_MONO_sim = f.get('Normal_MONO_sim')\n",
        "\n",
        "f = scipy.io.loadmat(dic_name + 'Normal_STS_sim.mat'); Normal_STS_sim = f.get('Normal_STS_sim')"
      ],
      "metadata": {
        "id": "IYiDroMv9Y30"
      },
      "execution_count": 11,
      "outputs": []
    },
    {
      "cell_type": "code",
      "source": [
        "Tensor_MONO = Normal_MONO_sim\n",
        "\n",
        "Tensor_orig = Normal_STS_sim - Tensor_MONO\n",
        "tensor = Tensor_orig\n",
        "\n",
        "Name = \"Normal_STS_sim\""
      ],
      "metadata": {
        "id": "LVlSUIV39bf7"
      },
      "execution_count": 12,
      "outputs": []
    },
    {
      "cell_type": "markdown",
      "metadata": {
        "id": "qQSDVCF8AyAk"
      },
      "source": [
        "# Reduction of tensor dimension\n",
        "\n"
      ]
    },
    {
      "cell_type": "code",
      "metadata": {
        "id": "tefa7_O5AyNW",
        "colab": {
          "base_uri": "https://localhost:8080/"
        },
        "outputId": "ee5ac6c4-b7a9-47e3-977c-1aa336c00ddb"
      },
      "source": [
        "tensor = tensor[:,:,0::2,:]\n",
        "Tensor_MONO = Tensor_MONO[:,:,0::2,:]\n",
        "print(tensor.shape)\n",
        "print(Tensor_MONO.shape)"
      ],
      "execution_count": 13,
      "outputs": [
        {
          "output_type": "stream",
          "name": "stdout",
          "text": [
            "(1, 100, 100, 351)\n",
            "(1, 100, 100, 351)\n"
          ]
        }
      ]
    },
    {
      "cell_type": "code",
      "metadata": {
        "id": "r1A5ugiAc7vk",
        "colab": {
          "base_uri": "https://localhost:8080/"
        },
        "outputId": "2fec134e-4c84-4116-ef7a-6f02de79e825"
      },
      "source": [
        "min_val = np.amin(tensor)\n",
        "max_val = np.amax(tensor)\n",
        "range_val = np.ptp(tensor)\n",
        "std_val =np.std(tensor)\n",
        "print(min_val, max_val)\n",
        "print(range_val) # rango de valores\n",
        "print(std_val)"
      ],
      "execution_count": 14,
      "outputs": [
        {
          "output_type": "stream",
          "name": "stdout",
          "text": [
            "-0.6362509915434705 1.7545168734485117\n",
            "2.3907678649919823\n",
            "0.1874235507143572\n"
          ]
        }
      ]
    },
    {
      "cell_type": "markdown",
      "metadata": {
        "id": "Ox3FsBFWc7vq"
      },
      "source": [
        "# Data Normalization"
      ]
    },
    {
      "cell_type": "code",
      "metadata": {
        "id": "V8yq-We-c7vs",
        "colab": {
          "base_uri": "https://localhost:8080/"
        },
        "outputId": "219931bf-f3b9-4c1d-97f1-05442d75e175"
      },
      "source": [
        "# We do not normalize the data in this model\n",
        "min_val = 0\n",
        "range_val = 1\n",
        "tensor_norm = (tensor-min_val)/range_val\n",
        "scipy.stats.describe(tensor_norm.flatten())"
      ],
      "execution_count": 15,
      "outputs": [
        {
          "output_type": "execute_result",
          "data": {
            "text/plain": [
              "DescribeResult(nobs=3510000, minmax=(-0.6362509915434705, 1.7545168734485117), mean=0.06618331079426397, variance=0.03512759737023978, skewness=3.147073294251095, kurtosis=16.951266045788046)"
            ]
          },
          "metadata": {},
          "execution_count": 15
        }
      ]
    },
    {
      "cell_type": "markdown",
      "metadata": {
        "id": "nhB_G54LtaKr"
      },
      "source": [
        "## Dimensiones del dataset"
      ]
    },
    {
      "cell_type": "code",
      "metadata": {
        "id": "_8jKtapZtaiq",
        "colab": {
          "base_uri": "https://localhost:8080/"
        },
        "outputId": "b609d8e2-b5e9-4d46-95f6-26b565d4c88d"
      },
      "source": [
        "total_length = tensor_norm.shape[3]\n",
        "channels_n = tensor_norm.shape[0]\n",
        "dim_x = tensor_norm.shape[1]\n",
        "dim_y = tensor_norm.shape[2]\n",
        "\n",
        "print('total_length: ', total_length)\n",
        "print('channels_n: ', channels_n)\n",
        "print('dim_x: ', dim_x)\n",
        "print('dim_y: ', dim_y)"
      ],
      "execution_count": 16,
      "outputs": [
        {
          "output_type": "stream",
          "name": "stdout",
          "text": [
            "total_length:  351\n",
            "channels_n:  1\n",
            "dim_x:  100\n",
            "dim_y:  100\n"
          ]
        }
      ]
    },
    {
      "cell_type": "markdown",
      "metadata": {
        "id": "f-UR6McopXmD"
      },
      "source": [
        "## Preparar data generator y datos de test (ejecutar en esta version)"
      ]
    },
    {
      "cell_type": "code",
      "metadata": {
        "id": "_Mds0od0rIN_"
      },
      "source": [
        "import math\n",
        "class DataGenerator(tf.keras.utils.Sequence): \n",
        "    'Generates data for Keras'\n",
        "    def __init__(self, data, list_IDs, batch_size=5, dim=(2,35,50), \n",
        "                 k = 624, p = 1, \n",
        "                 shuffle=True, till_end = False, only_test = False):\n",
        "        'Initialization'\n",
        "        self.data = data\n",
        "        self.dim = dim\n",
        "        self.batch_size = batch_size\n",
        "        self.list_IDs = list_IDs\n",
        "        self.shuffle = shuffle\n",
        "        self.p = p\n",
        "        self.k = k\n",
        "        self.till_end = till_end\n",
        "        self.only_test = only_test\n",
        "        self.on_epoch_end()\n",
        "\n",
        "    def __len__(self):\n",
        "        'Denotes the number of batches per epoch'\n",
        "        if self.till_end:\n",
        "          lenx = math.ceil((len(self.list_IDs) / self.batch_size))\n",
        "        else:\n",
        "          lenx = int(np.floor(len(self.list_IDs) / self.batch_size))\n",
        "        return lenx\n",
        "\n",
        "    def __getitem__(self, index):\n",
        "        'Generate one batch of data'\n",
        "        # Generate indexes of the batch\n",
        "        indexes = self.indexes[index*self.batch_size:(index+1)*self.batch_size]\n",
        "\n",
        "        # Find list of IDs\n",
        "        list_IDs_temp = [self.list_IDs[k] for k in indexes]\n",
        "\n",
        "        # Generate data\n",
        "        X, y = self.__data_generation(list_IDs_temp)\n",
        "        if self.only_test:\n",
        "          return X\n",
        "        else:\n",
        "          return X, y\n",
        "\n",
        "    def on_epoch_end(self):\n",
        "        'Updates indexes after each epoch'\n",
        "        self.indexes = np.arange(len(self.list_IDs))\n",
        "        if self.shuffle == True:\n",
        "            np.random.shuffle(self.indexes)\n",
        "\n",
        "    def __data_generation(self, list_IDs_temp):\n",
        "        'Generates data containing batch_size samples' # X : (n_samples, *dim, depth)\n",
        "        # Initialization\n",
        "        X = np.empty((self.batch_size, *self.dim, self.k))\n",
        "        y = [np.empty((self.batch_size, *self.dim))]*self.p\n",
        "\n",
        "        y_inter = np.empty((self.batch_size, *self.dim, p))\n",
        "\n",
        "        # Generate data\n",
        "        lenn = len(list_IDs_temp)\n",
        "        for i, ID in enumerate(list_IDs_temp):\n",
        "            # Store Xtrain\n",
        "            X[i,:,:,:,:] = self.data[:,:,:,ID:ID+k]\n",
        "            # Store Ytrain\n",
        "            y_inter[i,:,:,:,:] = self.data[:,:,:,ID+k:ID+k+p] \n",
        "\n",
        "        for j in range(self.p):\n",
        "          y[j] = y_inter[:,:,:,:,j]\n",
        "          y[j] = np.reshape(y[j], (lenn, -1)) \n",
        "\n",
        "        X = X.transpose((0,4,2,3,1))\n",
        "        X = np.reshape(X, (X.shape[0],X.shape[1],-1))\n",
        "\n",
        "        return X, y"
      ],
      "execution_count": 17,
      "outputs": []
    },
    {
      "cell_type": "code",
      "metadata": {
        "id": "bEHakg9SpXr5",
        "colab": {
          "base_uri": "https://localhost:8080/"
        },
        "outputId": "16d27814-b3de-438e-f9ba-d6bc057b0132"
      },
      "source": [
        "# Prepare data generators\n",
        "\n",
        "period_transitorio = 0\n",
        "stride_train = 2\n",
        "stride_val = 1\n",
        "stride_test = 1\n",
        "test_prop = 0.35\n",
        "val_prop = 0.2\n",
        "\n",
        "batch_size=5\n",
        "dim=(channels_n, dim_x, dim_y)\n",
        "k = 10\n",
        "p = 2\n",
        "\n",
        "\n",
        "\n",
        "test_length = int(test_prop * total_length)\n",
        "val_length  = int((total_length - test_length) * val_prop)\n",
        "train_length = total_length - val_length - test_length\n",
        "    \n",
        "if int(train_length-period_transitorio-(k+p)) < 0:\n",
        "    train_n = 0\n",
        "elif int((train_length-period_transitorio-(k+p))//stride_train) == 0:\n",
        "    train_n = 1\n",
        "else: \n",
        "    train_n = int(((train_length-period_transitorio)-(k+p))//stride_train) + 1\n",
        "    \n",
        "if int(test_length-(k+p)) < 0:\n",
        "    test_n = 0\n",
        "elif int((test_length-(k+p))//stride_test) == 0:\n",
        "    test_n = 1\n",
        "else: \n",
        "    test_n = int((test_length-(k+p))//stride_test) + 1\n",
        "\n",
        "if int(val_length-(k+p)) < 0:\n",
        "    val_n = 0\n",
        "elif int((val_length-(k+p))//stride_val) == 0:\n",
        "    val_n = 1\n",
        "else: \n",
        "    val_n = int((val_length-(k+p))//stride_val) + 1\n",
        "\n",
        "# Starting index of each batch\n",
        "train_idxs = np.empty([train_n], dtype='int')\n",
        "val_idxs = np.empty([val_n], dtype='int')\n",
        "test_idxs = np.empty([test_n], dtype='int')\n",
        "\n",
        "j = period_transitorio\n",
        "for i in range(train_n):\n",
        "    train_idxs[i] = j\n",
        "    j = j+stride_train\n",
        "\n",
        "j = train_length\n",
        "for i in range(val_n):\n",
        "    val_idxs[i] = j\n",
        "    j = j+stride_val\n",
        "\n",
        "j = train_length + val_length\n",
        "for i in range(test_n):\n",
        "    test_idxs[i] = j\n",
        "    j = j+stride_test\n",
        "\n",
        "\n",
        "\n",
        "# Generators\n",
        "training_generator = DataGenerator(tensor_norm, train_idxs,  \n",
        "                                    dim = dim, \n",
        "                                    batch_size = batch_size,\n",
        "                                    k = k, p = p, till_end = False,\n",
        "                                    only_test = False,\n",
        "                                    shuffle = True)\n",
        "validation_generator = DataGenerator(tensor_norm, val_idxs, \n",
        "                                    dim = dim, \n",
        "                                    batch_size = batch_size,\n",
        "                                    k = k, p = p, till_end = False,\n",
        "                                    only_test = False,\n",
        "                                    shuffle = False)\n",
        "test_generator = DataGenerator(tensor_norm, test_idxs, \n",
        "                                    dim = dim, \n",
        "                                    batch_size = batch_size,\n",
        "                                    k = k, p = p, till_end = False,\n",
        "                                    only_test = True,\n",
        "                                    shuffle = False)\n",
        "mono_generator = DataGenerator(Tensor_MONO, test_idxs, \n",
        "                                    dim = dim, \n",
        "                                    batch_size = batch_size,\n",
        "                                    k = k, p = p, till_end = False,\n",
        "                                    only_test = True,\n",
        "                                    shuffle = False)\n",
        "\n",
        "print ('test_length: ', test_length)\n",
        "print ('val_length: ', val_length)\n",
        "print ('train_length: ', train_length)\n",
        "print()\n",
        "print ('test_n: ', test_n)\n",
        "print ('val_n: ', val_n)\n",
        "print ('train_n: ', train_n)\n",
        "print()\n",
        "print('test_generator_len: ', len(test_generator))\n",
        "print('validation_generator_len: ', len(validation_generator))\n",
        "print('training_generator_len: ', len(training_generator))"
      ],
      "execution_count": 18,
      "outputs": [
        {
          "output_type": "stream",
          "name": "stdout",
          "text": [
            "test_length:  122\n",
            "val_length:  45\n",
            "train_length:  184\n",
            "\n",
            "test_n:  111\n",
            "val_n:  34\n",
            "train_n:  87\n",
            "\n",
            "test_generator_len:  22\n",
            "validation_generator_len:  6\n",
            "training_generator_len:  17\n"
          ]
        }
      ]
    },
    {
      "cell_type": "code",
      "metadata": {
        "id": "-FfHLuoxUAwP",
        "colab": {
          "base_uri": "https://localhost:8080/"
        },
        "outputId": "e687bb7d-0bc9-4994-e14e-f4ca1b92fa2a"
      },
      "source": [
        "# Prepare Ytest\n",
        "test_n_adjusted = int(test_n/batch_size)*batch_size\n",
        "Ytest = [np.empty([test_n_adjusted, channels_n, dim_x, dim_y], dtype='float64')] * p\n",
        "Ytest_fl = [np.empty([test_n_adjusted, channels_n * dim_x * dim_y ], dtype='float64')] * p\n",
        "\n",
        "Ytest_inter = np.empty([test_n_adjusted, channels_n, dim_x, dim_y, p], dtype='float64')\n",
        "\n",
        "for i in range(test_n_adjusted):\n",
        "    j = test_idxs[i]\n",
        "    Ytest_inter[i,:,:,:,:] = tensor_norm[:,:,:,j+k:j+k+p]\n",
        "\n",
        "for r in range(p):    \n",
        "  Ytest[r] = Ytest_inter[:,:,:,:,r]\n",
        "  Ytest_fl[r] = np.copy(np.reshape(Ytest[r], (test_n_adjusted, -1)) )\n",
        "\n",
        "print(len(Ytest_fl))\n",
        "print(len(Ytest))\n",
        "print(Ytest_fl[0].shape)\n",
        "print(Ytest[0].shape)"
      ],
      "execution_count": 19,
      "outputs": [
        {
          "output_type": "stream",
          "name": "stdout",
          "text": [
            "2\n",
            "2\n",
            "(110, 10000)\n",
            "(110, 1, 100, 100)\n"
          ]
        }
      ]
    },
    {
      "cell_type": "code",
      "source": [
        "# Prepare Mono tensor\n",
        "test_n_adjusted = int(test_n/batch_size)*batch_size\n",
        "YMONOtest = [np.empty([test_n_adjusted, channels_n, dim_x, dim_y], dtype='float64')] * p\n",
        "YMONOtest_fl = [np.empty([test_n_adjusted, channels_n * dim_x * dim_y ], dtype='float64')] * p\n",
        "\n",
        "YMONOtest_inter = np.empty([test_n_adjusted, channels_n, dim_x, dim_y, p], dtype='float64')\n",
        "\n",
        "for i in range(test_n_adjusted):\n",
        "    j = test_idxs[i]\n",
        "    YMONOtest_inter[i,:,:,:,:] = Tensor_MONO[:,:,:,j+k:j+k+p]\n",
        "\n",
        "for r in range(p):    \n",
        "  YMONOtest[r] = YMONOtest_inter[:,:,:,:,r]\n",
        "  YMONOtest_fl[r] = np.copy(np.reshape(YMONOtest[r], (test_n_adjusted, -1)) )\n",
        "\n",
        "print(len(YMONOtest_fl))\n",
        "print(len(YMONOtest))\n",
        "print(YMONOtest_fl[0].shape)\n",
        "print(YMONOtest[0].shape)"
      ],
      "metadata": {
        "colab": {
          "base_uri": "https://localhost:8080/"
        },
        "id": "OMBPtfvNZvZP",
        "outputId": "773ae04b-9d8a-4439-b382-9abc442b042e"
      },
      "execution_count": 20,
      "outputs": [
        {
          "output_type": "stream",
          "name": "stdout",
          "text": [
            "2\n",
            "2\n",
            "(110, 10000)\n",
            "(110, 1, 100, 100)\n"
          ]
        }
      ]
    },
    {
      "cell_type": "markdown",
      "metadata": {
        "id": "BofHsjg5c7wk"
      },
      "source": [
        "## Preparar modelo"
      ]
    },
    {
      "cell_type": "code",
      "source": [
        "tf.keras.backend.clear_session()"
      ],
      "metadata": {
        "id": "vjS1sHFO5fhJ"
      },
      "execution_count": 21,
      "outputs": []
    },
    {
      "cell_type": "code",
      "metadata": {
        "id": "_cckL-8-c7wl"
      },
      "source": [
        "np.random.seed(2453115889)\n",
        "#tf.random.set_seed(322198573)"
      ],
      "execution_count": 22,
      "outputs": []
    },
    {
      "cell_type": "code",
      "metadata": {
        "id": "Cuffsg2-c7ws"
      },
      "source": [
        "def create_model(in_shape,  out_dim, p = 3, shared_dim = 1000, act_fun= 'relu'):\n",
        "    x = Input(shape=in_shape)\n",
        "    Fm = Input(shape=in_shape)\n",
        "    \n",
        "    v = LSTM(400)(x)\n",
        "    v = Dense(p*100, activation= act_fun)(v)\n",
        "    v = Reshape((p,100))(v)\n",
        "\n",
        "    tt = [1]*p\n",
        "    \n",
        "    r = TimeDistributed( Dense(shared_dim, activation=act_fun))(v)\n",
        "    s = tf.split(r, tt, 1)\n",
        "    for i in range(p):\n",
        "      s[i] = Flatten()(s[i])\n",
        "\n",
        "    o = []\n",
        "    for i in range(p):\n",
        "      #o.append( Dense(out_dim, activation='sigmoid')(s[i]) )\n",
        "      o.append( Dense(out_dim, activation=None)(s[i]) )\n",
        "  \n",
        "    m = Model(inputs=x, outputs=o)\n",
        "    m.compile(loss='mse', optimizer='adam', metrics=['mse'])\n",
        "    #m.compile(loss='mae', optimizer='adam', metrics=['mae'])\n",
        "    return(m)"
      ],
      "execution_count": 23,
      "outputs": []
    },
    {
      "cell_type": "code",
      "metadata": {
        "id": "d-3tveMac7wv",
        "scrolled": true,
        "colab": {
          "base_uri": "https://localhost:8080/"
        },
        "outputId": "794c1d0b-dc8f-45de-a88c-45f8346a1caf"
      },
      "source": [
        "#crear modelo\n",
        "\n",
        "in_shape = [k, dim_x * dim_y * channels_n]\n",
        "out_dim = dim_x * dim_y * channels_n \n",
        "shared_dim = 80\n",
        "print(in_shape)\n",
        "print(out_dim)\n",
        "print(shared_dim)\n",
        "\n",
        "\n",
        "model= create_model(in_shape,out_dim,p,shared_dim) "
      ],
      "execution_count": 24,
      "outputs": [
        {
          "output_type": "stream",
          "name": "stdout",
          "text": [
            "[10, 10000]\n",
            "10000\n",
            "80\n"
          ]
        }
      ]
    },
    {
      "cell_type": "code",
      "metadata": {
        "id": "JEsEcfTFc7wz",
        "scrolled": false,
        "colab": {
          "base_uri": "https://localhost:8080/"
        },
        "outputId": "40e705c4-050f-459c-a3e6-d583611c1f9d"
      },
      "source": [
        "model.summary()"
      ],
      "execution_count": 25,
      "outputs": [
        {
          "output_type": "stream",
          "name": "stdout",
          "text": [
            "Model: \"model\"\n",
            "__________________________________________________________________________________________________\n",
            " Layer (type)                   Output Shape         Param #     Connected to                     \n",
            "==================================================================================================\n",
            " input_1 (InputLayer)           [(None, 10, 10000)]  0           []                               \n",
            "                                                                                                  \n",
            " lstm (LSTM)                    (None, 400)          16641600    ['input_1[0][0]']                \n",
            "                                                                                                  \n",
            " dense (Dense)                  (None, 200)          80200       ['lstm[0][0]']                   \n",
            "                                                                                                  \n",
            " reshape (Reshape)              (None, 2, 100)       0           ['dense[0][0]']                  \n",
            "                                                                                                  \n",
            " time_distributed (TimeDistribu  (None, 2, 80)       8080        ['reshape[0][0]']                \n",
            " ted)                                                                                             \n",
            "                                                                                                  \n",
            " tf.split (TFOpLambda)          [(None, 1, 80),      0           ['time_distributed[0][0]']       \n",
            "                                 (None, 1, 80)]                                                   \n",
            "                                                                                                  \n",
            " flatten (Flatten)              (None, 80)           0           ['tf.split[0][0]']               \n",
            "                                                                                                  \n",
            " flatten_1 (Flatten)            (None, 80)           0           ['tf.split[0][1]']               \n",
            "                                                                                                  \n",
            " dense_2 (Dense)                (None, 10000)        810000      ['flatten[0][0]']                \n",
            "                                                                                                  \n",
            " dense_3 (Dense)                (None, 10000)        810000      ['flatten_1[0][0]']              \n",
            "                                                                                                  \n",
            "==================================================================================================\n",
            "Total params: 18,349,880\n",
            "Trainable params: 18,349,880\n",
            "Non-trainable params: 0\n",
            "__________________________________________________________________________________________________\n"
          ]
        }
      ]
    },
    {
      "cell_type": "code",
      "metadata": {
        "id": "hRBx40Rsc7xD",
        "colab": {
          "base_uri": "https://localhost:8080/"
        },
        "outputId": "a9cbab86-4655-44a7-c04c-096e1cd91205"
      },
      "source": [
        "# save the best weights \n",
        "import sys\n",
        "save_string = \"colab_UPM_RNN_model\"\n",
        "\n",
        "# save the best weights \n",
        "save_best_weights = save_string + '.h5'\n",
        "save_summary_stats = save_string + '.csv'\n",
        "save_last_weights = save_string + '_last_w.h5'\n",
        "save_results_metrics = save_string + '_results_metrics.csv'\n",
        "\n",
        "print(save_string)"
      ],
      "execution_count": 26,
      "outputs": [
        {
          "output_type": "stream",
          "name": "stdout",
          "text": [
            "colab_UPM_RNN_model\n"
          ]
        }
      ]
    },
    {
      "cell_type": "markdown",
      "metadata": {
        "id": "hpAZDegcc7xH"
      },
      "source": [
        "# Entrenamiento"
      ]
    },
    {
      "cell_type": "code",
      "metadata": {
        "id": "OvzoXzNoc7xI"
      },
      "source": [
        "np.random.seed(247531338)"
      ],
      "execution_count": 27,
      "outputs": []
    },
    {
      "cell_type": "code",
      "metadata": {
        "id": "BSeYacJuc7xL",
        "scrolled": false,
        "colab": {
          "base_uri": "https://localhost:8080/"
        },
        "outputId": "b2041903-831b-436b-81cf-4476b9fc6f67"
      },
      "source": [
        "t0 = time.time()\n",
        "\n",
        "callbacks = [ModelCheckpoint(save_best_weights, monitor='val_loss', save_best_only=True, mode='auto'),\n",
        "             EarlyStopping(monitor='val_loss', patience=10, verbose=1, mode='auto')\n",
        "            ]\n",
        "\n",
        "# epochs\n",
        "num_epochs = 140\n",
        "\n",
        "\n",
        "history = model.fit(training_generator,\n",
        "                              validation_data=validation_generator,\n",
        "                              use_multiprocessing=True,\n",
        "                              workers=6,\n",
        "                              max_queue_size=10,\n",
        "                              epochs=num_epochs,\n",
        "                              verbose=1,\n",
        "                              callbacks=callbacks)\n",
        "t1 = time.time()\n",
        "print(\"Minutes elapsed: %f\" % ((t1 - t0) / 60.))\n"
      ],
      "execution_count": 28,
      "outputs": [
        {
          "output_type": "stream",
          "name": "stdout",
          "text": [
            "Epoch 1/140\n",
            "17/17 [==============================] - 17s 508ms/step - loss: 0.0491 - dense_2_loss: 0.0249 - dense_3_loss: 0.0242 - dense_2_mse: 0.0249 - dense_3_mse: 0.0242 - val_loss: 0.0156 - val_dense_2_loss: 0.0080 - val_dense_3_loss: 0.0076 - val_dense_2_mse: 0.0080 - val_dense_3_mse: 0.0076\n",
            "Epoch 2/140\n",
            "17/17 [==============================] - 9s 512ms/step - loss: 0.0172 - dense_2_loss: 0.0087 - dense_3_loss: 0.0085 - dense_2_mse: 0.0087 - dense_3_mse: 0.0085 - val_loss: 0.0090 - val_dense_2_loss: 0.0044 - val_dense_3_loss: 0.0046 - val_dense_2_mse: 0.0044 - val_dense_3_mse: 0.0046\n",
            "Epoch 3/140\n",
            "17/17 [==============================] - 7s 437ms/step - loss: 0.0140 - dense_2_loss: 0.0070 - dense_3_loss: 0.0070 - dense_2_mse: 0.0070 - dense_3_mse: 0.0070 - val_loss: 0.0081 - val_dense_2_loss: 0.0039 - val_dense_3_loss: 0.0042 - val_dense_2_mse: 0.0039 - val_dense_3_mse: 0.0042\n",
            "Epoch 4/140\n",
            "17/17 [==============================] - 7s 432ms/step - loss: 0.0125 - dense_2_loss: 0.0061 - dense_3_loss: 0.0064 - dense_2_mse: 0.0061 - dense_3_mse: 0.0064 - val_loss: 0.0068 - val_dense_2_loss: 0.0032 - val_dense_3_loss: 0.0036 - val_dense_2_mse: 0.0032 - val_dense_3_mse: 0.0036\n",
            "Epoch 5/140\n",
            "17/17 [==============================] - 7s 444ms/step - loss: 0.0090 - dense_2_loss: 0.0041 - dense_3_loss: 0.0049 - dense_2_mse: 0.0041 - dense_3_mse: 0.0049 - val_loss: 0.0054 - val_dense_2_loss: 0.0025 - val_dense_3_loss: 0.0030 - val_dense_2_mse: 0.0025 - val_dense_3_mse: 0.0030\n",
            "Epoch 6/140\n",
            "17/17 [==============================] - 8s 459ms/step - loss: 0.0068 - dense_2_loss: 0.0033 - dense_3_loss: 0.0035 - dense_2_mse: 0.0033 - dense_3_mse: 0.0035 - val_loss: 0.0051 - val_dense_2_loss: 0.0026 - val_dense_3_loss: 0.0025 - val_dense_2_mse: 0.0026 - val_dense_3_mse: 0.0025\n",
            "Epoch 7/140\n",
            "17/17 [==============================] - 8s 465ms/step - loss: 0.0062 - dense_2_loss: 0.0030 - dense_3_loss: 0.0032 - dense_2_mse: 0.0030 - dense_3_mse: 0.0032 - val_loss: 0.0046 - val_dense_2_loss: 0.0022 - val_dense_3_loss: 0.0024 - val_dense_2_mse: 0.0022 - val_dense_3_mse: 0.0024\n",
            "Epoch 8/140\n",
            "17/17 [==============================] - 8s 457ms/step - loss: 0.0057 - dense_2_loss: 0.0027 - dense_3_loss: 0.0030 - dense_2_mse: 0.0027 - dense_3_mse: 0.0030 - val_loss: 0.0046 - val_dense_2_loss: 0.0023 - val_dense_3_loss: 0.0023 - val_dense_2_mse: 0.0023 - val_dense_3_mse: 0.0023\n",
            "Epoch 9/140\n",
            "17/17 [==============================] - 8s 449ms/step - loss: 0.0053 - dense_2_loss: 0.0025 - dense_3_loss: 0.0028 - dense_2_mse: 0.0025 - dense_3_mse: 0.0028 - val_loss: 0.0043 - val_dense_2_loss: 0.0020 - val_dense_3_loss: 0.0023 - val_dense_2_mse: 0.0020 - val_dense_3_mse: 0.0023\n",
            "Epoch 10/140\n",
            "17/17 [==============================] - 7s 440ms/step - loss: 0.0049 - dense_2_loss: 0.0024 - dense_3_loss: 0.0025 - dense_2_mse: 0.0024 - dense_3_mse: 0.0025 - val_loss: 0.0040 - val_dense_2_loss: 0.0019 - val_dense_3_loss: 0.0021 - val_dense_2_mse: 0.0019 - val_dense_3_mse: 0.0021\n",
            "Epoch 11/140\n",
            "17/17 [==============================] - 8s 480ms/step - loss: 0.0042 - dense_2_loss: 0.0021 - dense_3_loss: 0.0021 - dense_2_mse: 0.0021 - dense_3_mse: 0.0021 - val_loss: 0.0037 - val_dense_2_loss: 0.0018 - val_dense_3_loss: 0.0019 - val_dense_2_mse: 0.0018 - val_dense_3_mse: 0.0019\n",
            "Epoch 12/140\n",
            "17/17 [==============================] - 7s 447ms/step - loss: 0.0037 - dense_2_loss: 0.0019 - dense_3_loss: 0.0018 - dense_2_mse: 0.0019 - dense_3_mse: 0.0018 - val_loss: 0.0034 - val_dense_2_loss: 0.0016 - val_dense_3_loss: 0.0018 - val_dense_2_mse: 0.0016 - val_dense_3_mse: 0.0018\n",
            "Epoch 13/140\n",
            "17/17 [==============================] - 8s 449ms/step - loss: 0.0033 - dense_2_loss: 0.0016 - dense_3_loss: 0.0017 - dense_2_mse: 0.0016 - dense_3_mse: 0.0017 - val_loss: 0.0034 - val_dense_2_loss: 0.0016 - val_dense_3_loss: 0.0018 - val_dense_2_mse: 0.0016 - val_dense_3_mse: 0.0018\n",
            "Epoch 14/140\n",
            "17/17 [==============================] - 7s 411ms/step - loss: 0.0032 - dense_2_loss: 0.0015 - dense_3_loss: 0.0016 - dense_2_mse: 0.0015 - dense_3_mse: 0.0016 - val_loss: 0.0034 - val_dense_2_loss: 0.0016 - val_dense_3_loss: 0.0018 - val_dense_2_mse: 0.0016 - val_dense_3_mse: 0.0018\n",
            "Epoch 15/140\n",
            "17/17 [==============================] - 8s 449ms/step - loss: 0.0030 - dense_2_loss: 0.0014 - dense_3_loss: 0.0016 - dense_2_mse: 0.0014 - dense_3_mse: 0.0016 - val_loss: 0.0029 - val_dense_2_loss: 0.0014 - val_dense_3_loss: 0.0016 - val_dense_2_mse: 0.0014 - val_dense_3_mse: 0.0016\n",
            "Epoch 16/140\n",
            "17/17 [==============================] - 8s 454ms/step - loss: 0.0028 - dense_2_loss: 0.0013 - dense_3_loss: 0.0015 - dense_2_mse: 0.0013 - dense_3_mse: 0.0015 - val_loss: 0.0029 - val_dense_2_loss: 0.0014 - val_dense_3_loss: 0.0016 - val_dense_2_mse: 0.0014 - val_dense_3_mse: 0.0016\n",
            "Epoch 17/140\n",
            "17/17 [==============================] - 8s 450ms/step - loss: 0.0026 - dense_2_loss: 0.0012 - dense_3_loss: 0.0014 - dense_2_mse: 0.0012 - dense_3_mse: 0.0014 - val_loss: 0.0029 - val_dense_2_loss: 0.0013 - val_dense_3_loss: 0.0016 - val_dense_2_mse: 0.0013 - val_dense_3_mse: 0.0016\n",
            "Epoch 18/140\n",
            "17/17 [==============================] - 8s 460ms/step - loss: 0.0025 - dense_2_loss: 0.0011 - dense_3_loss: 0.0013 - dense_2_mse: 0.0011 - dense_3_mse: 0.0013 - val_loss: 0.0025 - val_dense_2_loss: 0.0011 - val_dense_3_loss: 0.0013 - val_dense_2_mse: 0.0011 - val_dense_3_mse: 0.0013\n",
            "Epoch 19/140\n",
            "17/17 [==============================] - 7s 418ms/step - loss: 0.0023 - dense_2_loss: 0.0011 - dense_3_loss: 0.0012 - dense_2_mse: 0.0011 - dense_3_mse: 0.0012 - val_loss: 0.0026 - val_dense_2_loss: 0.0012 - val_dense_3_loss: 0.0014 - val_dense_2_mse: 0.0012 - val_dense_3_mse: 0.0014\n",
            "Epoch 20/140\n",
            "17/17 [==============================] - 8s 457ms/step - loss: 0.0022 - dense_2_loss: 0.0010 - dense_3_loss: 0.0011 - dense_2_mse: 0.0010 - dense_3_mse: 0.0011 - val_loss: 0.0024 - val_dense_2_loss: 0.0012 - val_dense_3_loss: 0.0013 - val_dense_2_mse: 0.0012 - val_dense_3_mse: 0.0013\n",
            "Epoch 21/140\n",
            "17/17 [==============================] - 8s 455ms/step - loss: 0.0021 - dense_2_loss: 0.0010 - dense_3_loss: 0.0011 - dense_2_mse: 0.0010 - dense_3_mse: 0.0011 - val_loss: 0.0024 - val_dense_2_loss: 0.0011 - val_dense_3_loss: 0.0013 - val_dense_2_mse: 0.0011 - val_dense_3_mse: 0.0013\n",
            "Epoch 22/140\n",
            "17/17 [==============================] - 8s 450ms/step - loss: 0.0020 - dense_2_loss: 9.9291e-04 - dense_3_loss: 0.0010 - dense_2_mse: 9.9291e-04 - dense_3_mse: 0.0010 - val_loss: 0.0025 - val_dense_2_loss: 0.0012 - val_dense_3_loss: 0.0013 - val_dense_2_mse: 0.0012 - val_dense_3_mse: 0.0013\n",
            "Epoch 23/140\n",
            "17/17 [==============================] - 7s 408ms/step - loss: 0.0021 - dense_2_loss: 0.0010 - dense_3_loss: 0.0011 - dense_2_mse: 0.0010 - dense_3_mse: 0.0011 - val_loss: 0.0026 - val_dense_2_loss: 0.0013 - val_dense_3_loss: 0.0014 - val_dense_2_mse: 0.0013 - val_dense_3_mse: 0.0014\n",
            "Epoch 24/140\n",
            "17/17 [==============================] - 7s 406ms/step - loss: 0.0020 - dense_2_loss: 0.0010 - dense_3_loss: 0.0010 - dense_2_mse: 0.0010 - dense_3_mse: 0.0010 - val_loss: 0.0025 - val_dense_2_loss: 0.0012 - val_dense_3_loss: 0.0013 - val_dense_2_mse: 0.0012 - val_dense_3_mse: 0.0013\n",
            "Epoch 25/140\n",
            "17/17 [==============================] - 8s 471ms/step - loss: 0.0020 - dense_2_loss: 9.7102e-04 - dense_3_loss: 9.8942e-04 - dense_2_mse: 9.7102e-04 - dense_3_mse: 9.8942e-04 - val_loss: 0.0024 - val_dense_2_loss: 0.0011 - val_dense_3_loss: 0.0013 - val_dense_2_mse: 0.0011 - val_dense_3_mse: 0.0013\n",
            "Epoch 26/140\n",
            "17/17 [==============================] - 8s 453ms/step - loss: 0.0019 - dense_2_loss: 9.3018e-04 - dense_3_loss: 9.3488e-04 - dense_2_mse: 9.3018e-04 - dense_3_mse: 9.3488e-04 - val_loss: 0.0022 - val_dense_2_loss: 0.0011 - val_dense_3_loss: 0.0011 - val_dense_2_mse: 0.0011 - val_dense_3_mse: 0.0011\n",
            "Epoch 27/140\n",
            "17/17 [==============================] - 7s 420ms/step - loss: 0.0019 - dense_2_loss: 8.9129e-04 - dense_3_loss: 9.6650e-04 - dense_2_mse: 8.9129e-04 - dense_3_mse: 9.6650e-04 - val_loss: 0.0023 - val_dense_2_loss: 0.0010 - val_dense_3_loss: 0.0012 - val_dense_2_mse: 0.0010 - val_dense_3_mse: 0.0012\n",
            "Epoch 28/140\n",
            "17/17 [==============================] - 8s 450ms/step - loss: 0.0017 - dense_2_loss: 8.5760e-04 - dense_3_loss: 8.5729e-04 - dense_2_mse: 8.5760e-04 - dense_3_mse: 8.5729e-04 - val_loss: 0.0022 - val_dense_2_loss: 0.0011 - val_dense_3_loss: 0.0011 - val_dense_2_mse: 0.0011 - val_dense_3_mse: 0.0011\n",
            "Epoch 29/140\n",
            "17/17 [==============================] - 8s 448ms/step - loss: 0.0017 - dense_2_loss: 8.8566e-04 - dense_3_loss: 7.9656e-04 - dense_2_mse: 8.8566e-04 - dense_3_mse: 7.9656e-04 - val_loss: 0.0021 - val_dense_2_loss: 0.0011 - val_dense_3_loss: 0.0011 - val_dense_2_mse: 0.0011 - val_dense_3_mse: 0.0011\n",
            "Epoch 30/140\n",
            "17/17 [==============================] - 8s 456ms/step - loss: 0.0016 - dense_2_loss: 8.2111e-04 - dense_3_loss: 7.8910e-04 - dense_2_mse: 8.2111e-04 - dense_3_mse: 7.8910e-04 - val_loss: 0.0020 - val_dense_2_loss: 9.8875e-04 - val_dense_3_loss: 0.0010 - val_dense_2_mse: 9.8875e-04 - val_dense_3_mse: 0.0010\n",
            "Epoch 31/140\n",
            "17/17 [==============================] - 7s 404ms/step - loss: 0.0015 - dense_2_loss: 7.5761e-04 - dense_3_loss: 7.5365e-04 - dense_2_mse: 7.5761e-04 - dense_3_mse: 7.5365e-04 - val_loss: 0.0020 - val_dense_2_loss: 9.9080e-04 - val_dense_3_loss: 0.0010 - val_dense_2_mse: 9.9080e-04 - val_dense_3_mse: 0.0010\n",
            "Epoch 32/140\n",
            "17/17 [==============================] - 8s 452ms/step - loss: 0.0015 - dense_2_loss: 7.4796e-04 - dense_3_loss: 7.5912e-04 - dense_2_mse: 7.4796e-04 - dense_3_mse: 7.5912e-04 - val_loss: 0.0020 - val_dense_2_loss: 9.3269e-04 - val_dense_3_loss: 0.0011 - val_dense_2_mse: 9.3269e-04 - val_dense_3_mse: 0.0011\n",
            "Epoch 33/140\n",
            "17/17 [==============================] - 7s 442ms/step - loss: 0.0014 - dense_2_loss: 6.8481e-04 - dense_3_loss: 7.4087e-04 - dense_2_mse: 6.8481e-04 - dense_3_mse: 7.4087e-04 - val_loss: 0.0019 - val_dense_2_loss: 8.9593e-04 - val_dense_3_loss: 9.8528e-04 - val_dense_2_mse: 8.9593e-04 - val_dense_3_mse: 9.8528e-04\n",
            "Epoch 34/140\n",
            "17/17 [==============================] - 7s 399ms/step - loss: 0.0015 - dense_2_loss: 7.0661e-04 - dense_3_loss: 7.5347e-04 - dense_2_mse: 7.0661e-04 - dense_3_mse: 7.5347e-04 - val_loss: 0.0019 - val_dense_2_loss: 8.8028e-04 - val_dense_3_loss: 0.0011 - val_dense_2_mse: 8.8028e-04 - val_dense_3_mse: 0.0011\n",
            "Epoch 35/140\n",
            "17/17 [==============================] - 7s 440ms/step - loss: 0.0013 - dense_2_loss: 6.5842e-04 - dense_3_loss: 6.8891e-04 - dense_2_mse: 6.5842e-04 - dense_3_mse: 6.8891e-04 - val_loss: 0.0018 - val_dense_2_loss: 8.5120e-04 - val_dense_3_loss: 9.5700e-04 - val_dense_2_mse: 8.5120e-04 - val_dense_3_mse: 9.5700e-04\n",
            "Epoch 36/140\n",
            "17/17 [==============================] - 8s 468ms/step - loss: 0.0013 - dense_2_loss: 6.3572e-04 - dense_3_loss: 6.6492e-04 - dense_2_mse: 6.3572e-04 - dense_3_mse: 6.6492e-04 - val_loss: 0.0018 - val_dense_2_loss: 8.4464e-04 - val_dense_3_loss: 9.3798e-04 - val_dense_2_mse: 8.4464e-04 - val_dense_3_mse: 9.3798e-04\n",
            "Epoch 37/140\n",
            "17/17 [==============================] - 7s 405ms/step - loss: 0.0012 - dense_2_loss: 5.9968e-04 - dense_3_loss: 6.4704e-04 - dense_2_mse: 5.9968e-04 - dense_3_mse: 6.4704e-04 - val_loss: 0.0018 - val_dense_2_loss: 8.1134e-04 - val_dense_3_loss: 9.9895e-04 - val_dense_2_mse: 8.1134e-04 - val_dense_3_mse: 9.9895e-04\n",
            "Epoch 38/140\n",
            "17/17 [==============================] - 8s 467ms/step - loss: 0.0012 - dense_2_loss: 5.9701e-04 - dense_3_loss: 6.2172e-04 - dense_2_mse: 5.9701e-04 - dense_3_mse: 6.2172e-04 - val_loss: 0.0017 - val_dense_2_loss: 7.6518e-04 - val_dense_3_loss: 9.2386e-04 - val_dense_2_mse: 7.6518e-04 - val_dense_3_mse: 9.2386e-04\n",
            "Epoch 39/140\n",
            "17/17 [==============================] - 7s 439ms/step - loss: 0.0012 - dense_2_loss: 5.8211e-04 - dense_3_loss: 6.1209e-04 - dense_2_mse: 5.8211e-04 - dense_3_mse: 6.1209e-04 - val_loss: 0.0017 - val_dense_2_loss: 7.7315e-04 - val_dense_3_loss: 9.2171e-04 - val_dense_2_mse: 7.7315e-04 - val_dense_3_mse: 9.2171e-04\n",
            "Epoch 40/140\n",
            "17/17 [==============================] - 7s 397ms/step - loss: 0.0012 - dense_2_loss: 5.7694e-04 - dense_3_loss: 6.1056e-04 - dense_2_mse: 5.7694e-04 - dense_3_mse: 6.1056e-04 - val_loss: 0.0017 - val_dense_2_loss: 7.8328e-04 - val_dense_3_loss: 9.4874e-04 - val_dense_2_mse: 7.8328e-04 - val_dense_3_mse: 9.4874e-04\n",
            "Epoch 41/140\n",
            "17/17 [==============================] - 7s 402ms/step - loss: 0.0012 - dense_2_loss: 5.7654e-04 - dense_3_loss: 6.1015e-04 - dense_2_mse: 5.7654e-04 - dense_3_mse: 6.1015e-04 - val_loss: 0.0017 - val_dense_2_loss: 7.6839e-04 - val_dense_3_loss: 9.3798e-04 - val_dense_2_mse: 7.6839e-04 - val_dense_3_mse: 9.3798e-04\n",
            "Epoch 42/140\n",
            "17/17 [==============================] - 8s 458ms/step - loss: 0.0011 - dense_2_loss: 5.3825e-04 - dense_3_loss: 5.6790e-04 - dense_2_mse: 5.3825e-04 - dense_3_mse: 5.6790e-04 - val_loss: 0.0017 - val_dense_2_loss: 7.4110e-04 - val_dense_3_loss: 9.1013e-04 - val_dense_2_mse: 7.4110e-04 - val_dense_3_mse: 9.1013e-04\n",
            "Epoch 43/140\n",
            "17/17 [==============================] - 7s 411ms/step - loss: 0.0011 - dense_2_loss: 5.5629e-04 - dense_3_loss: 5.7894e-04 - dense_2_mse: 5.5629e-04 - dense_3_mse: 5.7894e-04 - val_loss: 0.0017 - val_dense_2_loss: 7.6475e-04 - val_dense_3_loss: 9.0585e-04 - val_dense_2_mse: 7.6475e-04 - val_dense_3_mse: 9.0585e-04\n",
            "Epoch 44/140\n",
            "17/17 [==============================] - 2s 125ms/step - loss: 0.0011 - dense_2_loss: 5.3971e-04 - dense_3_loss: 5.7986e-04 - dense_2_mse: 5.3971e-04 - dense_3_mse: 5.7986e-04 - val_loss: 0.0017 - val_dense_2_loss: 7.4686e-04 - val_dense_3_loss: 9.3014e-04 - val_dense_2_mse: 7.4686e-04 - val_dense_3_mse: 9.3014e-04\n",
            "Epoch 45/140\n",
            "17/17 [==============================] - 7s 401ms/step - loss: 0.0011 - dense_2_loss: 5.4130e-04 - dense_3_loss: 5.7106e-04 - dense_2_mse: 5.4130e-04 - dense_3_mse: 5.7106e-04 - val_loss: 0.0017 - val_dense_2_loss: 7.4283e-04 - val_dense_3_loss: 9.2198e-04 - val_dense_2_mse: 7.4283e-04 - val_dense_3_mse: 9.2198e-04\n",
            "Epoch 46/140\n",
            "17/17 [==============================] - 7s 406ms/step - loss: 0.0012 - dense_2_loss: 5.5816e-04 - dense_3_loss: 6.0427e-04 - dense_2_mse: 5.5816e-04 - dense_3_mse: 6.0427e-04 - val_loss: 0.0017 - val_dense_2_loss: 8.0917e-04 - val_dense_3_loss: 9.2566e-04 - val_dense_2_mse: 8.0917e-04 - val_dense_3_mse: 9.2566e-04\n",
            "Epoch 47/140\n",
            "17/17 [==============================] - 8s 472ms/step - loss: 0.0011 - dense_2_loss: 5.2769e-04 - dense_3_loss: 5.7447e-04 - dense_2_mse: 5.2769e-04 - dense_3_mse: 5.7447e-04 - val_loss: 0.0016 - val_dense_2_loss: 7.4283e-04 - val_dense_3_loss: 8.9568e-04 - val_dense_2_mse: 7.4283e-04 - val_dense_3_mse: 8.9568e-04\n",
            "Epoch 48/140\n",
            "17/17 [==============================] - 7s 409ms/step - loss: 0.0011 - dense_2_loss: 5.2806e-04 - dense_3_loss: 5.9577e-04 - dense_2_mse: 5.2806e-04 - dense_3_mse: 5.9577e-04 - val_loss: 0.0017 - val_dense_2_loss: 7.4744e-04 - val_dense_3_loss: 9.2033e-04 - val_dense_2_mse: 7.4744e-04 - val_dense_3_mse: 9.2033e-04\n",
            "Epoch 49/140\n",
            "17/17 [==============================] - 7s 409ms/step - loss: 0.0011 - dense_2_loss: 5.2567e-04 - dense_3_loss: 5.6291e-04 - dense_2_mse: 5.2567e-04 - dense_3_mse: 5.6291e-04 - val_loss: 0.0017 - val_dense_2_loss: 8.0312e-04 - val_dense_3_loss: 9.3704e-04 - val_dense_2_mse: 8.0312e-04 - val_dense_3_mse: 9.3704e-04\n",
            "Epoch 50/140\n",
            "17/17 [==============================] - 7s 411ms/step - loss: 0.0011 - dense_2_loss: 5.3761e-04 - dense_3_loss: 5.4733e-04 - dense_2_mse: 5.3761e-04 - dense_3_mse: 5.4733e-04 - val_loss: 0.0017 - val_dense_2_loss: 7.5590e-04 - val_dense_3_loss: 9.2057e-04 - val_dense_2_mse: 7.5590e-04 - val_dense_3_mse: 9.2057e-04\n",
            "Epoch 51/140\n",
            "17/17 [==============================] - 7s 403ms/step - loss: 0.0011 - dense_2_loss: 5.4239e-04 - dense_3_loss: 5.9580e-04 - dense_2_mse: 5.4239e-04 - dense_3_mse: 5.9580e-04 - val_loss: 0.0017 - val_dense_2_loss: 7.6599e-04 - val_dense_3_loss: 9.7135e-04 - val_dense_2_mse: 7.6599e-04 - val_dense_3_mse: 9.7135e-04\n",
            "Epoch 52/140\n",
            "17/17 [==============================] - 8s 454ms/step - loss: 0.0011 - dense_2_loss: 5.1709e-04 - dense_3_loss: 5.5021e-04 - dense_2_mse: 5.1709e-04 - dense_3_mse: 5.5021e-04 - val_loss: 0.0015 - val_dense_2_loss: 6.9592e-04 - val_dense_3_loss: 8.3459e-04 - val_dense_2_mse: 6.9592e-04 - val_dense_3_mse: 8.3459e-04\n",
            "Epoch 53/140\n",
            "17/17 [==============================] - 7s 425ms/step - loss: 9.7170e-04 - dense_2_loss: 4.7704e-04 - dense_3_loss: 4.9466e-04 - dense_2_mse: 4.7704e-04 - dense_3_mse: 4.9466e-04 - val_loss: 0.0016 - val_dense_2_loss: 7.1799e-04 - val_dense_3_loss: 8.8122e-04 - val_dense_2_mse: 7.1799e-04 - val_dense_3_mse: 8.8122e-04\n",
            "Epoch 54/140\n",
            "17/17 [==============================] - 7s 406ms/step - loss: 9.6729e-04 - dense_2_loss: 4.7238e-04 - dense_3_loss: 4.9492e-04 - dense_2_mse: 4.7238e-04 - dense_3_mse: 4.9492e-04 - val_loss: 0.0016 - val_dense_2_loss: 7.0740e-04 - val_dense_3_loss: 9.0195e-04 - val_dense_2_mse: 7.0740e-04 - val_dense_3_mse: 9.0195e-04\n",
            "Epoch 55/140\n",
            "17/17 [==============================] - 8s 464ms/step - loss: 9.3191e-04 - dense_2_loss: 4.4685e-04 - dense_3_loss: 4.8506e-04 - dense_2_mse: 4.4685e-04 - dense_3_mse: 4.8506e-04 - val_loss: 0.0015 - val_dense_2_loss: 6.8264e-04 - val_dense_3_loss: 8.1663e-04 - val_dense_2_mse: 6.8264e-04 - val_dense_3_mse: 8.1663e-04\n",
            "Epoch 56/140\n",
            "17/17 [==============================] - 7s 397ms/step - loss: 9.2356e-04 - dense_2_loss: 4.4220e-04 - dense_3_loss: 4.8136e-04 - dense_2_mse: 4.4220e-04 - dense_3_mse: 4.8136e-04 - val_loss: 0.0015 - val_dense_2_loss: 6.9769e-04 - val_dense_3_loss: 8.2877e-04 - val_dense_2_mse: 6.9769e-04 - val_dense_3_mse: 8.2877e-04\n",
            "Epoch 57/140\n",
            "17/17 [==============================] - 7s 410ms/step - loss: 8.7947e-04 - dense_2_loss: 4.2059e-04 - dense_3_loss: 4.5888e-04 - dense_2_mse: 4.2059e-04 - dense_3_mse: 4.5888e-04 - val_loss: 0.0015 - val_dense_2_loss: 6.9813e-04 - val_dense_3_loss: 8.3207e-04 - val_dense_2_mse: 6.9813e-04 - val_dense_3_mse: 8.3207e-04\n",
            "Epoch 58/140\n",
            "17/17 [==============================] - 7s 410ms/step - loss: 8.7631e-04 - dense_2_loss: 4.2899e-04 - dense_3_loss: 4.4733e-04 - dense_2_mse: 4.2899e-04 - dense_3_mse: 4.4733e-04 - val_loss: 0.0015 - val_dense_2_loss: 6.7891e-04 - val_dense_3_loss: 8.3900e-04 - val_dense_2_mse: 6.7891e-04 - val_dense_3_mse: 8.3900e-04\n",
            "Epoch 59/140\n",
            "17/17 [==============================] - 8s 472ms/step - loss: 8.2599e-04 - dense_2_loss: 4.0404e-04 - dense_3_loss: 4.2194e-04 - dense_2_mse: 4.0404e-04 - dense_3_mse: 4.2194e-04 - val_loss: 0.0015 - val_dense_2_loss: 6.6696e-04 - val_dense_3_loss: 7.9694e-04 - val_dense_2_mse: 6.6696e-04 - val_dense_3_mse: 7.9694e-04\n",
            "Epoch 60/140\n",
            "17/17 [==============================] - 8s 458ms/step - loss: 8.2293e-04 - dense_2_loss: 4.0196e-04 - dense_3_loss: 4.2097e-04 - dense_2_mse: 4.0196e-04 - dense_3_mse: 4.2097e-04 - val_loss: 0.0014 - val_dense_2_loss: 6.1639e-04 - val_dense_3_loss: 7.8355e-04 - val_dense_2_mse: 6.1639e-04 - val_dense_3_mse: 7.8355e-04\n",
            "Epoch 61/140\n",
            "17/17 [==============================] - 8s 454ms/step - loss: 7.8873e-04 - dense_2_loss: 3.8443e-04 - dense_3_loss: 4.0430e-04 - dense_2_mse: 3.8443e-04 - dense_3_mse: 4.0430e-04 - val_loss: 0.0014 - val_dense_2_loss: 6.1915e-04 - val_dense_3_loss: 7.7251e-04 - val_dense_2_mse: 6.1915e-04 - val_dense_3_mse: 7.7251e-04\n",
            "Epoch 62/140\n",
            "17/17 [==============================] - 7s 404ms/step - loss: 7.8287e-04 - dense_2_loss: 3.8659e-04 - dense_3_loss: 3.9628e-04 - dense_2_mse: 3.8659e-04 - dense_3_mse: 3.9628e-04 - val_loss: 0.0015 - val_dense_2_loss: 6.5605e-04 - val_dense_3_loss: 8.0572e-04 - val_dense_2_mse: 6.5605e-04 - val_dense_3_mse: 8.0572e-04\n",
            "Epoch 63/140\n",
            "17/17 [==============================] - 7s 408ms/step - loss: 7.7564e-04 - dense_2_loss: 3.7325e-04 - dense_3_loss: 4.0239e-04 - dense_2_mse: 3.7325e-04 - dense_3_mse: 4.0239e-04 - val_loss: 0.0015 - val_dense_2_loss: 6.4766e-04 - val_dense_3_loss: 8.2414e-04 - val_dense_2_mse: 6.4766e-04 - val_dense_3_mse: 8.2414e-04\n",
            "Epoch 64/140\n",
            "17/17 [==============================] - 7s 420ms/step - loss: 7.9395e-04 - dense_2_loss: 3.8613e-04 - dense_3_loss: 4.0781e-04 - dense_2_mse: 3.8613e-04 - dense_3_mse: 4.0781e-04 - val_loss: 0.0015 - val_dense_2_loss: 6.7218e-04 - val_dense_3_loss: 8.2680e-04 - val_dense_2_mse: 6.7218e-04 - val_dense_3_mse: 8.2680e-04\n",
            "Epoch 65/140\n",
            "17/17 [==============================] - 7s 404ms/step - loss: 7.8906e-04 - dense_2_loss: 3.8701e-04 - dense_3_loss: 4.0205e-04 - dense_2_mse: 3.8701e-04 - dense_3_mse: 4.0205e-04 - val_loss: 0.0014 - val_dense_2_loss: 6.4763e-04 - val_dense_3_loss: 7.9530e-04 - val_dense_2_mse: 6.4763e-04 - val_dense_3_mse: 7.9530e-04\n",
            "Epoch 66/140\n",
            "17/17 [==============================] - 7s 404ms/step - loss: 7.5489e-04 - dense_2_loss: 3.7178e-04 - dense_3_loss: 3.8311e-04 - dense_2_mse: 3.7178e-04 - dense_3_mse: 3.8311e-04 - val_loss: 0.0015 - val_dense_2_loss: 6.4263e-04 - val_dense_3_loss: 8.3622e-04 - val_dense_2_mse: 6.4263e-04 - val_dense_3_mse: 8.3622e-04\n",
            "Epoch 67/140\n",
            "17/17 [==============================] - 7s 408ms/step - loss: 7.4680e-04 - dense_2_loss: 3.7131e-04 - dense_3_loss: 3.7549e-04 - dense_2_mse: 3.7131e-04 - dense_3_mse: 3.7549e-04 - val_loss: 0.0014 - val_dense_2_loss: 6.4067e-04 - val_dense_3_loss: 7.8775e-04 - val_dense_2_mse: 6.4067e-04 - val_dense_3_mse: 7.8775e-04\n",
            "Epoch 68/140\n",
            "17/17 [==============================] - 7s 405ms/step - loss: 8.0724e-04 - dense_2_loss: 4.1010e-04 - dense_3_loss: 3.9714e-04 - dense_2_mse: 4.1010e-04 - dense_3_mse: 3.9714e-04 - val_loss: 0.0016 - val_dense_2_loss: 7.0593e-04 - val_dense_3_loss: 8.5063e-04 - val_dense_2_mse: 7.0593e-04 - val_dense_3_mse: 8.5063e-04\n",
            "Epoch 69/140\n",
            "17/17 [==============================] - 8s 455ms/step - loss: 8.9880e-04 - dense_2_loss: 4.5370e-04 - dense_3_loss: 4.4510e-04 - dense_2_mse: 4.5370e-04 - dense_3_mse: 4.4510e-04 - val_loss: 0.0015 - val_dense_2_loss: 7.0743e-04 - val_dense_3_loss: 7.7853e-04 - val_dense_2_mse: 7.0743e-04 - val_dense_3_mse: 7.7853e-04\n",
            "Epoch 70/140\n",
            "17/17 [==============================] - 7s 401ms/step - loss: 8.7919e-04 - dense_2_loss: 4.2891e-04 - dense_3_loss: 4.5028e-04 - dense_2_mse: 4.2891e-04 - dense_3_mse: 4.5028e-04 - val_loss: 0.0015 - val_dense_2_loss: 6.3398e-04 - val_dense_3_loss: 8.7497e-04 - val_dense_2_mse: 6.3398e-04 - val_dense_3_mse: 8.7497e-04\n",
            "Epoch 71/140\n",
            "17/17 [==============================] - 7s 416ms/step - loss: 7.7169e-04 - dense_2_loss: 3.6795e-04 - dense_3_loss: 4.0374e-04 - dense_2_mse: 3.6795e-04 - dense_3_mse: 4.0374e-04 - val_loss: 0.0015 - val_dense_2_loss: 6.5035e-04 - val_dense_3_loss: 8.4045e-04 - val_dense_2_mse: 6.5035e-04 - val_dense_3_mse: 8.4045e-04\n",
            "Epoch 71: early stopping\n",
            "Minutes elapsed: 10.893815\n"
          ]
        }
      ]
    },
    {
      "cell_type": "code",
      "metadata": {
        "id": "xtSAkc4Pc7xb"
      },
      "source": [
        "# save the last weights \n",
        "model.save_weights(save_last_weights)"
      ],
      "execution_count": 41,
      "outputs": []
    },
    {
      "cell_type": "code",
      "metadata": {
        "id": "DxjLnclCc7xP"
      },
      "source": [
        "# Aggregate the summary statistics\n",
        "summary_stats = pd.DataFrame({'epoch': [ i + 1 for i in history.epoch ],\n",
        "                              'train_loss': history.history['loss'],\n",
        "                              'valid_loss': history.history['val_loss']})"
      ],
      "execution_count": 42,
      "outputs": []
    },
    {
      "cell_type": "code",
      "metadata": {
        "id": "SzVb0B9fc7xS"
      },
      "source": [
        "# Aggregate the summary statistics\n",
        "summary_stats = pd.DataFrame({'epoch': [ i + 1 for i in history.epoch ],\n",
        "                              'train_loss': history.history['loss'],\n",
        "                              'valid_loss': history.history['val_loss']})"
      ],
      "execution_count": 43,
      "outputs": []
    },
    {
      "cell_type": "code",
      "metadata": {
        "id": "up8gwtvuc7xW"
      },
      "source": [
        "#summary_stats = pd.read_csv(save_summary_stats)\n",
        "summary_stats.to_csv(save_summary_stats)    "
      ],
      "execution_count": 32,
      "outputs": []
    },
    {
      "cell_type": "code",
      "metadata": {
        "id": "7HknOGkAc7xY",
        "colab": {
          "base_uri": "https://localhost:8080/",
          "height": 488
        },
        "outputId": "d7d93832-b832-41cd-941c-03c824946393"
      },
      "source": [
        "fig1 = plt.figure(figsize=(10,7))\n",
        "\n",
        "plt.plot(summary_stats.train_loss, 'b') # blue\n",
        "plt.plot(summary_stats.valid_loss, 'g') # green\n",
        "\n",
        "figname = \"LossComparation.eps\"\n",
        "\n",
        "plt.legend([\"Train Loss\", \"Val Loss\"])\n",
        "#plt.savefig(figname, format='eps')\n",
        "\n",
        "plt.grid(True, which='both')\n",
        "plt.show()\n",
        "\n",
        "\n",
        "# Find the min validation loss during the training\n",
        "min_loss, idx = min((loss, idx) for (idx, loss) in enumerate(history.history['val_loss']))\n",
        "print(\"\\n\")\n",
        "print('Minimum val_loss at epoch', '{:d}'.format(idx+1), '=', '{:.4f}'.format(min_loss))\n",
        "min_loss = round(min_loss, 4)"
      ],
      "execution_count": 33,
      "outputs": [
        {
          "output_type": "display_data",
          "data": {
            "text/plain": [
              "<Figure size 720x504 with 1 Axes>"
            ],
            "image/png": "[encoded data removed]"
          },
          "metadata": {
            "needs_background": "light"
          }
        },
        {
          "output_type": "stream",
          "name": "stdout",
          "text": [
            "\n",
            "\n",
            "Minimum val_loss at epoch 61 = 0.0014\n"
          ]
        }
      ]
    },
    {
      "cell_type": "markdown",
      "metadata": {
        "id": "OMYUDY04c7xe"
      },
      "source": [
        "# Testing"
      ]
    },
    {
      "cell_type": "code",
      "metadata": {
        "id": "q4j3CKe7TzJT"
      },
      "source": [
        "# Relative root mean square error\n",
        "def RRMSE (real, predicted):\n",
        "  a = np.linalg.norm((real-predicted), ord='fro')\n",
        "  b = np.linalg.norm(real, ord='fro')\n",
        "  return(a/b)"
      ],
      "execution_count": 34,
      "outputs": []
    },
    {
      "cell_type": "code",
      "source": [
        "def RRMSE_flat (real, predicted):  \n",
        "  a = np.linalg.norm((real-predicted).flatten(), ord=2)\n",
        "  b = np.linalg.norm(real.flatten(), ord=2)\n",
        "  return(a/b)"
      ],
      "metadata": {
        "id": "zaB9z-KpChlR"
      },
      "execution_count": 35,
      "outputs": []
    },
    {
      "cell_type": "code",
      "metadata": {
        "id": "blumb9kgc7xf",
        "colab": {
          "base_uri": "https://localhost:8080/"
        },
        "outputId": "d024526f-7233-47c8-da34-4cf8979ae8b6"
      },
      "source": [
        "t0 = time.time()\n",
        "\n",
        "model.load_weights(save_best_weights)\n",
        "Ytest_hat_fl = model.predict(test_generator, max_queue_size=10, workers=6, use_multiprocessing=True, verbose=1)\n",
        "    \n",
        "t1 = time.time()\n",
        "print(\"Minutes elapsed: %f\" % ((t1 - t0) / 60.))"
      ],
      "execution_count": 36,
      "outputs": [
        {
          "output_type": "stream",
          "name": "stdout",
          "text": [
            "22/22 [==============================] - 1s 24ms/step\n",
            "Minutes elapsed: 0.105104\n"
          ]
        }
      ]
    },
    {
      "cell_type": "code",
      "metadata": {
        "id": "RTkCzAn87j-n",
        "colab": {
          "base_uri": "https://localhost:8080/",
          "height": 286
        },
        "outputId": "f92f0536-b3a8-4598-e431-80e3f979d984"
      },
      "source": [
        "print('Performance measures on Test data, for all time, per time-ahead lag')\n",
        "\n",
        "results_table_global = pd.DataFrame(index=['MSE','MAE','MAD','R2','SMAPE','RRMSE', 'RRMSE_FLAT'],columns=range(p))\n",
        "for i in range(p):\n",
        "    results_table_global.iloc[0,i] = mean_squared_error(Ytest_fl[i].flatten(), Ytest_hat_fl[i].flatten())\n",
        "    results_table_global.iloc[1,i] = mean_absolute_error(Ytest_fl[i].flatten(), Ytest_hat_fl[i].flatten())\n",
        "    results_table_global.iloc[2,i] = median_absolute_error(Ytest_fl[i].flatten(), Ytest_hat_fl[i].flatten())\n",
        "    results_table_global.iloc[3,i] = r2_score(Ytest_fl[i].flatten(), Ytest_hat_fl[i].flatten())\n",
        "    results_table_global.iloc[4,i] = smape(Ytest_fl[i].flatten(), Ytest_hat_fl[i].flatten())\n",
        "    results_table_global.iloc[5,i] = RRMSE( np.reshape(Ytest_fl[i].flatten(),(-1,1)), np.reshape(Ytest_hat_fl[i].flatten(),(-1,1)))\n",
        "    results_table_global.iloc[6,i] = RRMSE_flat( np.reshape(Ytest_fl[i].flatten(),(-1,1)), np.reshape(Ytest_hat_fl[i].flatten(),(-1,1)))\n",
        "\n",
        "results_table_global['mean'] = results_table_global.mean(axis=1)\n",
        "\n",
        "savename = \"Figures/\"+ Name +\"/LSTM/errors.csv\"\n",
        "\n",
        "#results_table_global.to_csv(savename, index=True)\n",
        "\n",
        "results_table_global"
      ],
      "execution_count": 37,
      "outputs": [
        {
          "output_type": "stream",
          "name": "stdout",
          "text": [
            "Performance measures on Test data, for all time, per time-ahead lag\n"
          ]
        },
        {
          "output_type": "execute_result",
          "data": {
            "text/plain": [
              "                    0          1       mean\n",
              "MSE          0.001117   0.001295   0.001206\n",
              "MAE          0.023727   0.025478   0.024602\n",
              "MAD          0.016972   0.018118   0.017545\n",
              "R2           0.969436   0.964646   0.967041\n",
              "SMAPE       52.606313  55.358473  53.982393\n",
              "RRMSE        0.165799   0.178397   0.172098\n",
              "RRMSE_FLAT   0.165799   0.178397   0.172098"
            ],
            "text/html": [
              "\n",
              "  <div id=\"df-2cabae7c-6900-4d29-b08d-88fe146e10a0\">\n",
              "    <div class=\"colab-df-container\">\n",
              "      <div>\n",
              "<style scoped>\n",
              "    .dataframe tbody tr th:only-of-type {\n",
              "        vertical-align: middle;\n",
              "    }\n",
              "\n",
              "    .dataframe tbody tr th {\n",
              "        vertical-align: top;\n",
              "    }\n",
              "\n",
              "    .dataframe thead th {\n",
              "        text-align: right;\n",
              "    }\n",
              "</style>\n",
              "<table border=\"1\" class=\"dataframe\">\n",
              "  <thead>\n",
              "    <tr style=\"text-align: right;\">\n",
              "      <th></th>\n",
              "      <th>0</th>\n",
              "      <th>1</th>\n",
              "      <th>mean</th>\n",
              "    </tr>\n",
              "  </thead>\n",
              "  <tbody>\n",
              "    <tr>\n",
              "      <th>MSE</th>\n",
              "      <td>0.001117</td>\n",
              "      <td>0.001295</td>\n",
              "      <td>0.001206</td>\n",
              "    </tr>\n",
              "    <tr>\n",
              "      <th>MAE</th>\n",
              "      <td>0.023727</td>\n",
              "      <td>0.025478</td>\n",
              "      <td>0.024602</td>\n",
              "    </tr>\n",
              "    <tr>\n",
              "      <th>MAD</th>\n",
              "      <td>0.016972</td>\n",
              "      <td>0.018118</td>\n",
              "      <td>0.017545</td>\n",
              "    </tr>\n",
              "    <tr>\n",
              "      <th>R2</th>\n",
              "      <td>0.969436</td>\n",
              "      <td>0.964646</td>\n",
              "      <td>0.967041</td>\n",
              "    </tr>\n",
              "    <tr>\n",
              "      <th>SMAPE</th>\n",
              "      <td>52.606313</td>\n",
              "      <td>55.358473</td>\n",
              "      <td>53.982393</td>\n",
              "    </tr>\n",
              "    <tr>\n",
              "      <th>RRMSE</th>\n",
              "      <td>0.165799</td>\n",
              "      <td>0.178397</td>\n",
              "      <td>0.172098</td>\n",
              "    </tr>\n",
              "    <tr>\n",
              "      <th>RRMSE_FLAT</th>\n",
              "      <td>0.165799</td>\n",
              "      <td>0.178397</td>\n",
              "      <td>0.172098</td>\n",
              "    </tr>\n",
              "  </tbody>\n",
              "</table>\n",
              "</div>\n",
              "      <button class=\"colab-df-convert\" onclick=\"convertToInteractive('df-2cabae7c-6900-4d29-b08d-88fe146e10a0')\"\n",
              "              title=\"Convert this dataframe to an interactive table.\"\n",
              "              style=\"display:none;\">\n",
              "        \n",
              "  <svg xmlns=\"http://www.w3.org/2000/svg\" height=\"24px\"viewBox=\"0 0 24 24\"\n",
              "       width=\"24px\">\n",
              "    <path d=\"M0 0h24v24H0V0z\" fill=\"none\"/>\n",
              "    <path d=\"M18.56 5.44l.94 2.06.94-2.06 2.06-.94-2.06-.94-.94-2.06-.94 2.06-2.06.94zm-11 1L8.5 8.5l.94-2.06 2.06-.94-2.06-.94L8.5 2.5l-.94 2.06-2.06.94zm10 10l.94 2.06.94-2.06 2.06-.94-2.06-.94-.94-2.06-.94 2.06-2.06.94z\"/><path d=\"M17.41 7.96l-1.37-1.37c-.4-.4-.92-.59-1.43-.59-.52 0-1.04.2-1.43.59L10.3 9.45l-7.72 7.72c-.78.78-.78 2.05 0 2.83L4 21.41c.39.39.9.59 1.41.59.51 0 1.02-.2 1.41-.59l7.78-7.78 2.81-2.81c.8-.78.8-2.07 0-2.86zM5.41 20L4 18.59l7.72-7.72 1.47 1.35L5.41 20z\"/>\n",
              "  </svg>\n",
              "      </button>\n",
              "      \n",
              "  <style>\n",
              "    .colab-df-container {\n",
              "      display:flex;\n",
              "      flex-wrap:wrap;\n",
              "      gap: 12px;\n",
              "    }\n",
              "\n",
              "    .colab-df-convert {\n",
              "      background-color: #E8F0FE;\n",
              "      border: none;\n",
              "      border-radius: 50%;\n",
              "      cursor: pointer;\n",
              "      display: none;\n",
              "      fill: #1967D2;\n",
              "      height: 32px;\n",
              "      padding: 0 0 0 0;\n",
              "      width: 32px;\n",
              "    }\n",
              "\n",
              "    .colab-df-convert:hover {\n",
              "      background-color: #E2EBFA;\n",
              "      box-shadow: 0px 1px 2px rgba(60, 64, 67, 0.3), 0px 1px 3px 1px rgba(60, 64, 67, 0.15);\n",
              "      fill: #174EA6;\n",
              "    }\n",
              "\n",
              "    [theme=dark] .colab-df-convert {\n",
              "      background-color: #3B4455;\n",
              "      fill: #D2E3FC;\n",
              "    }\n",
              "\n",
              "    [theme=dark] .colab-df-convert:hover {\n",
              "      background-color: #434B5C;\n",
              "      box-shadow: 0px 1px 3px 1px rgba(0, 0, 0, 0.15);\n",
              "      filter: drop-shadow(0px 1px 2px rgba(0, 0, 0, 0.3));\n",
              "      fill: #FFFFFF;\n",
              "    }\n",
              "  </style>\n",
              "\n",
              "      <script>\n",
              "        const buttonEl =\n",
              "          document.querySelector('#df-2cabae7c-6900-4d29-b08d-88fe146e10a0 button.colab-df-convert');\n",
              "        buttonEl.style.display =\n",
              "          google.colab.kernel.accessAllowed ? 'block' : 'none';\n",
              "\n",
              "        async function convertToInteractive(key) {\n",
              "          const element = document.querySelector('#df-2cabae7c-6900-4d29-b08d-88fe146e10a0');\n",
              "          const dataTable =\n",
              "            await google.colab.kernel.invokeFunction('convertToInteractive',\n",
              "                                                     [key], {});\n",
              "          if (!dataTable) return;\n",
              "\n",
              "          const docLinkHtml = 'Like what you see? Visit the ' +\n",
              "            '<a target=\"_blank\" href=https://colab.research.google.com/notebooks/data_table.ipynb>data table notebook</a>'\n",
              "            + ' to learn more about interactive tables.';\n",
              "          element.innerHTML = '';\n",
              "          dataTable['output_type'] = 'display_data';\n",
              "          await google.colab.output.renderOutput(dataTable, element);\n",
              "          const docLink = document.createElement('div');\n",
              "          docLink.innerHTML = docLinkHtml;\n",
              "          element.appendChild(docLink);\n",
              "        }\n",
              "      </script>\n",
              "    </div>\n",
              "  </div>\n",
              "  "
            ]
          },
          "metadata": {},
          "execution_count": 37
        }
      ]
    },
    {
      "cell_type": "code",
      "source": [
        "custom_palette = sns.color_palette(\"coolwarm\", 26)"
      ],
      "metadata": {
        "id": "S8OaZV55qV-5"
      },
      "execution_count": 38,
      "outputs": []
    },
    {
      "cell_type": "markdown",
      "source": [
        "# Plot predictions and ground truth snapshots\n",
        "Play with different values for the parameter i (by default i=70). Do not modify the values for the parameter lag, where lag = 0 and lag = 1 are the two future predictions returned by the model."
      ],
      "metadata": {
        "id": "tgnlKPJHSSzL"
      }
    },
    {
      "cell_type": "code",
      "metadata": {
        "id": "sh1A9px3mM1W",
        "colab": {
          "base_uri": "https://localhost:8080/",
          "height": 350
        },
        "outputId": "add4f8df-288f-417d-b446-760c7e7b31b6"
      },
      "source": [
        "i = 70\n",
        "lag = 0\n",
        "\n",
        "Ytest_hat_lag = np.reshape(Ytest_hat_fl[lag], (Ytest[lag].shape[0],Ytest[lag].shape[1],Ytest[lag].shape[2],Ytest[lag].shape[3]))\n",
        "Ytest_lag = np.reshape(Ytest_fl[lag], (Ytest[lag].shape[0],Ytest[lag].shape[1],Ytest[lag].shape[2],Ytest[lag].shape[3]))\n",
        "\n",
        "YMONOtest_lag = np.reshape(YMONOtest_fl[lag], (YMONOtest[lag].shape[0],YMONOtest[lag].shape[1],YMONOtest[lag].shape[2],YMONOtest[lag].shape[3]))\n",
        "\n",
        "plt.figure(figsize=(15,5))\n",
        "plt.subplot(1,2, 1)\n",
        "plt.contourf((Ytest_lag*range_val + min_val)[i,0,:,:]+YMONOtest_lag[i,0,:,:], 25, colors = custom_palette)\n",
        "plt.title('Ground Truth')\n",
        "plt.subplot(1,2, 2)\n",
        "plt.contourf((Ytest_hat_lag*range_val + min_val)[i,0,:,:]+YMONOtest_lag[i,0,:,:], 25, colors = custom_palette)\n",
        "plt.title('Prediction from RNN')\n",
        "plt.show()"
      ],
      "execution_count": 39,
      "outputs": [
        {
          "output_type": "display_data",
          "data": {
            "text/plain": [
              "<Figure size 1080x360 with 2 Axes>"
            ],
            "image/png": "[encoded data removed]"
          },
          "metadata": {
            "needs_background": "light"
          }
        }
      ]
    },
    {
      "cell_type": "code",
      "metadata": {
        "id": "niQwROsVeKy8",
        "colab": {
          "base_uri": "https://localhost:8080/",
          "height": 350
        },
        "outputId": "4366b4b2-0c29-4e6d-cc67-25be226991f7"
      },
      "source": [
        "i = 70\n",
        "lag = 1\n",
        "\n",
        "Ytest_hat_lag = np.reshape(Ytest_hat_fl[lag], (Ytest[lag].shape[0],Ytest[lag].shape[1],Ytest[lag].shape[2],Ytest[lag].shape[3]))\n",
        "Ytest_lag = np.reshape(Ytest_fl[lag], (Ytest[lag].shape[0],Ytest[lag].shape[1],Ytest[lag].shape[2],Ytest[lag].shape[3]))\n",
        "\n",
        "YMONOtest_lag = np.reshape(YMONOtest_fl[lag], (YMONOtest[lag].shape[0],YMONOtest[lag].shape[1],YMONOtest[lag].shape[2],YMONOtest[lag].shape[3]))\n",
        "\n",
        "plt.figure(figsize=(15,5))\n",
        "plt.subplot(1,2, 1)\n",
        "plt.contourf((Ytest_lag*range_val + min_val)[i,0,:,:]+YMONOtest_lag[i,0,:,:], 25, colors = custom_palette)\n",
        "plt.title('Ground Truth')\n",
        "plt.subplot(1,2, 2)\n",
        "plt.contourf((Ytest_hat_lag*range_val + min_val)[i,0,:,:]+YMONOtest_lag[i,0,:,:], 25, colors = custom_palette)\n",
        "plt.title('Prediction from RNN')\n",
        "plt.show()"
      ],
      "execution_count": 40,
      "outputs": [
        {
          "output_type": "display_data",
          "data": {
            "text/plain": [
              "<Figure size 1080x360 with 2 Axes>"
            ],
            "image/png": "[encoded data removed]"
          },
          "metadata": {
            "needs_background": "light"
          }
        }
      ]
    }
  ]
}