{
  "nbformat": 4,
  "nbformat_minor": 0,
  "metadata": {
    "colab": {
      "provenance": [],
      "authorship_tag": "ABX9TyNb2IMkwW0Wxh8VfnwmitUv",
      "include_colab_link": true
    },
    "kernelspec": {
      "name": "python3",
      "display_name": "Python 3"
    },
    "language_info": {
      "name": "python"
    },
    "accelerator": "GPU",
    "gpuClass": "standard"
  },
  "cells": [
    {
      "cell_type": "markdown",
      "metadata": {
        "id": "view-in-github",
        "colab_type": "text"
      },
      "source": [
        "<a href=\"https://colab.research.google.com/github/RAbadiaH/forecasting-through-deep-learning-and-modal-decomposition-in-multi-phase-concentric-jets/blob/main/rnn_model.ipynb\" target=\"_parent\"><img src=\"https://colab.research.google.com/assets/colab-badge.svg\" alt=\"Open In Colab\"/></a>"
      ]
    },
    {
      "cell_type": "markdown",
      "source": [
        "################################################################################\n",
        "\n",
        "**This notebook uses the GPU accelerator. To configure this go to \"Edit -> Notebook settings\"**\n",
        "\n",
        "**To run all cells at once go to \"Runtime -> Run All\"**\n",
        "\n",
        "################################################################################"
      ],
      "metadata": {
        "id": "mbigYxE-OBnB"
      }
    },
    {
      "cell_type": "markdown",
      "source": [
        "# Clone Github repository"
      ],
      "metadata": {
        "id": "SAwpNv93-SAV"
      }
    },
    {
      "cell_type": "code",
      "source": [
        "!git clone https://github.com/RAbadiaH/forecasting-through-deep-learning-and-modal-decomposition-in-multi-phase-concentric-jets.git"
      ],
      "metadata": {
        "id": "GeeU8wZq-V10",
        "outputId": "91a935aa-fb9a-4b81-f8fd-022a84abce7f",
        "colab": {
          "base_uri": "https://localhost:8080/"
        }
      },
      "execution_count": 27,
      "outputs": [
        {
          "output_type": "stream",
          "name": "stdout",
          "text": [
            "fatal: destination path 'forecasting-through-deep-learning-and-modal-decomposition-in-multi-phase-concentric-jets' already exists and is not an empty directory.\n"
          ]
        }
      ]
    },
    {
      "cell_type": "markdown",
      "metadata": {
        "id": "1cWy7FX5c7uX"
      },
      "source": [
        "# Import Libraries"
      ]
    },
    {
      "cell_type": "code",
      "metadata": {
        "id": "blMmfoH-c7ub"
      },
      "source": [
        "import numpy as np\n",
        "import pandas as pd\n",
        "import collections\n",
        "import os\n",
        "import matplotlib\n",
        "import matplotlib.pyplot as plt\n",
        "import datetime, time\n",
        "import scipy\n",
        "import scipy.io\n",
        "import seaborn as sns\n",
        "\n",
        "\n",
        "import sklearn\n",
        "from sklearn.preprocessing import MultiLabelBinarizer\n",
        "from sklearn.preprocessing import LabelBinarizer\n",
        "from sklearn.preprocessing import LabelEncoder\n",
        "from sklearn.multiclass import OneVsRestClassifier\n",
        "from sklearn.linear_model import LogisticRegression\n",
        "from sklearn.metrics import accuracy_score, precision_score, recall_score\n",
        "from sklearn.metrics import f1_score, confusion_matrix\n",
        "from sklearn.metrics import precision_recall_fscore_support\n",
        "from sklearn.model_selection import GridSearchCV\n",
        "from sklearn import svm\n",
        "from sklearn.preprocessing import StandardScaler\n",
        "from sklearn.preprocessing import MinMaxScaler\n",
        "from sklearn.kernel_approximation import RBFSampler\n",
        "from sklearn.linear_model import SGDClassifier\n",
        "import pandas.core.algorithms as algos\n",
        "from pandas import Series\n",
        "from sklearn.preprocessing import OneHotEncoder\n",
        "from sklearn.ensemble import RandomForestClassifier\n",
        "from sklearn.ensemble import GradientBoostingClassifier\n",
        "from sklearn.ensemble import AdaBoostClassifier\n",
        "from sklearn.tree import DecisionTreeClassifier\n",
        "from sklearn.metrics import confusion_matrix\n",
        "from sklearn.svm import LinearSVC, SVC\n",
        "from sklearn.linear_model import LogisticRegression\n",
        "from sklearn.metrics import roc_auc_score, mean_squared_error, mean_absolute_error, median_absolute_error, r2_score\n",
        "from sklearn.neural_network import MLPClassifier"
      ],
      "execution_count": 28,
      "outputs": []
    },
    {
      "cell_type": "code",
      "source": [
        "font = {'size'   : 18}\n",
        "\n",
        "matplotlib.rc('font', **font)"
      ],
      "metadata": {
        "id": "obCA5iwe552A"
      },
      "execution_count": 29,
      "outputs": []
    },
    {
      "cell_type": "code",
      "metadata": {
        "id": "iqZk78iCm6ve"
      },
      "source": [
        "def mean_absolute_percentage_error(y_true, y_pred): \n",
        "    epsilon = 1e-10 \n",
        "    y_true, y_pred = np.array(y_true), np.array(y_pred)\n",
        "    return np.mean(np.abs((y_true - y_pred) / np.maximum(epsilon,np.abs(y_true)))) * 100"
      ],
      "execution_count": 30,
      "outputs": []
    },
    {
      "cell_type": "code",
      "metadata": {
        "id": "EoCbAC1KnlJ-"
      },
      "source": [
        "def smape(A, F):\n",
        "    return ((100.0/len(A)) * np.sum(2 * np.abs(F - A) / (np.abs(A) + np.abs(F))+ np.finfo(float).eps))"
      ],
      "execution_count": 31,
      "outputs": []
    },
    {
      "cell_type": "code",
      "metadata": {
        "id": "f4QVCeWlc7uo"
      },
      "source": [
        "import tensorflow as tf\n",
        "from tensorflow import keras\n",
        "from tensorflow.keras import layers\n",
        "from tensorflow.keras.layers import Embedding, dot\n",
        "\n",
        "from tensorflow.keras.models import Sequential\n",
        "from tensorflow.keras.layers import Embedding, Dense, Dropout, Reshape, BatchNormalization, TimeDistributed, \\\n",
        "                         Lambda, Activation, LSTM, Flatten, Convolution1D, GRU, MaxPooling1D, concatenate\n",
        "from tensorflow.keras.regularizers import l2\n",
        "from tensorflow.keras.callbacks import Callback, ModelCheckpoint, EarlyStopping\n",
        "from tensorflow.keras import initializers\n",
        "from tensorflow.keras import backend as K\n",
        "from tensorflow.keras.optimizers import SGD\n",
        "\n",
        "from tensorflow.keras.models import Model\n",
        "from tensorflow.keras.layers import LSTM\n",
        "from tensorflow.keras.layers import Input\n",
        "from tensorflow.keras.backend import abs\n",
        "\n",
        "from tensorflow.keras.layers import Dense, Dropout, Flatten, dot, Permute, Concatenate\n",
        "from tensorflow.keras.layers import Conv2D, MaxPooling2D, Conv3D, MaxPooling3D\n",
        "\n",
        "from tensorflow.keras.layers import add, ConvLSTM2D\n"
      ],
      "execution_count": 32,
      "outputs": []
    },
    {
      "cell_type": "code",
      "metadata": {
        "id": "pLvCm1Woc7uv"
      },
      "source": [
        "pd.set_option('display.max_columns',100)\n",
        "pd.set_option('display.max_rows',100)"
      ],
      "execution_count": 33,
      "outputs": []
    },
    {
      "cell_type": "code",
      "metadata": {
        "id": "WjXp7oYKc7u2"
      },
      "source": [
        "# set working directory\n",
        "import os"
      ],
      "execution_count": 34,
      "outputs": []
    },
    {
      "cell_type": "markdown",
      "source": [
        "# Data Loading"
      ],
      "metadata": {
        "id": "S9fO1spWinvM"
      }
    },
    {
      "cell_type": "code",
      "metadata": {
        "id": "uNfMFNPhc7u-",
        "scrolled": false,
        "colab": {
          "base_uri": "https://localhost:8080/"
        },
        "outputId": "7a75d830-cb1c-4b49-e3d9-791ba42e335d"
      },
      "source": [
        "!ls"
      ],
      "execution_count": 35,
      "outputs": [
        {
          "output_type": "stream",
          "name": "stdout",
          "text": [
            "forecasting-through-deep-learning-and-modal-decomposition-in-multi-phase-concentric-jets\n",
            "sample_data\n"
          ]
        }
      ]
    },
    {
      "cell_type": "code",
      "source": [
        "!ls forecasting-through-deep-learning-and-modal-decomposition-in-multi-phase-concentric-jets"
      ],
      "metadata": {
        "id": "tc2CRXmHNgYR",
        "outputId": "fab62187-c832-49ba-d991-80e9d6b7770f",
        "colab": {
          "base_uri": "https://localhost:8080/"
        }
      },
      "execution_count": 36,
      "outputs": [
        {
          "output_type": "stream",
          "name": "stdout",
          "text": [
            "Normal_MONO_sim.mat  Normal_STS_sim.mat  README.md  rnn_model.ipynb\n"
          ]
        }
      ]
    },
    {
      "cell_type": "code",
      "source": [
        "dic_name = 'forecasting-through-deep-learning-and-modal-decomposition-in-multi-phase-concentric-jets/'\n",
        "\n",
        "f = scipy.io.loadmat(dic_name + 'Normal_MONO_sim.mat'); Normal_MONO_sim = f.get('Normal_MONO_sim_1')\n",
        "\n",
        "f = scipy.io.loadmat(dic_name + 'Normal_STS_sim.mat'); Normal_STS_sim = f.get('Normal_STS_sim_1')"
      ],
      "metadata": {
        "id": "IYiDroMv9Y30"
      },
      "execution_count": 37,
      "outputs": []
    },
    {
      "cell_type": "code",
      "source": [
        "Tensor_MONO = Normal_MONO_sim\n",
        "\n",
        "Tensor_orig = Normal_STS_sim - Tensor_MONO\n",
        "tensor = Tensor_orig"
      ],
      "metadata": {
        "id": "LVlSUIV39bf7"
      },
      "execution_count": 38,
      "outputs": []
    },
    {
      "cell_type": "markdown",
      "metadata": {
        "id": "qQSDVCF8AyAk"
      },
      "source": [
        "# Reduction of tensor dimension\n",
        "\n"
      ]
    },
    {
      "cell_type": "code",
      "metadata": {
        "id": "tefa7_O5AyNW",
        "colab": {
          "base_uri": "https://localhost:8080/"
        },
        "outputId": "2d94a6b6-d26a-4d24-a692-135590df5288"
      },
      "source": [
        "tensor = tensor[:,:,0::2,:]\n",
        "Tensor_MONO = Tensor_MONO[:,:,0::2,:]\n",
        "print(tensor.shape)\n",
        "print(Tensor_MONO.shape)"
      ],
      "execution_count": 39,
      "outputs": [
        {
          "output_type": "stream",
          "name": "stdout",
          "text": [
            "(1, 100, 100, 176)\n",
            "(1, 100, 100, 176)\n"
          ]
        }
      ]
    },
    {
      "cell_type": "code",
      "metadata": {
        "id": "r1A5ugiAc7vk",
        "colab": {
          "base_uri": "https://localhost:8080/"
        },
        "outputId": "cae1942e-0aa2-4045-a174-17f850a48b45"
      },
      "source": [
        "min_val = np.amin(tensor)\n",
        "max_val = np.amax(tensor)\n",
        "range_val = np.ptp(tensor)\n",
        "std_val =np.std(tensor)\n",
        "print(min_val, max_val)\n",
        "print(range_val) # rango de valores\n",
        "print(std_val)"
      ],
      "execution_count": 40,
      "outputs": [
        {
          "output_type": "stream",
          "name": "stdout",
          "text": [
            "-0.6362509915434705 1.7545168734485117\n",
            "2.3907678649919823\n",
            "0.18602177054457586\n"
          ]
        }
      ]
    },
    {
      "cell_type": "markdown",
      "metadata": {
        "id": "Ox3FsBFWc7vq"
      },
      "source": [
        "# Data Normalization"
      ]
    },
    {
      "cell_type": "code",
      "metadata": {
        "id": "V8yq-We-c7vs",
        "colab": {
          "base_uri": "https://localhost:8080/"
        },
        "outputId": "02945a80-b446-478a-b7bf-3949dbbe1d7d"
      },
      "source": [
        "# We do not normalize the data in this model\n",
        "min_val = 0\n",
        "range_val = 1\n",
        "tensor_norm = (tensor-min_val)/range_val\n",
        "scipy.stats.describe(tensor_norm.flatten())"
      ],
      "execution_count": 41,
      "outputs": [
        {
          "output_type": "execute_result",
          "data": {
            "text/plain": [
              "DescribeResult(nobs=1760000, minmax=(-0.6362509915434705, 1.7545168734485117), mean=0.06932880636714858, variance=0.034604118777969956, skewness=3.193343557775814, kurtosis=17.296781984073206)"
            ]
          },
          "metadata": {},
          "execution_count": 41
        }
      ]
    },
    {
      "cell_type": "markdown",
      "metadata": {
        "id": "nhB_G54LtaKr"
      },
      "source": [
        "# Dataset size"
      ]
    },
    {
      "cell_type": "code",
      "metadata": {
        "id": "_8jKtapZtaiq",
        "colab": {
          "base_uri": "https://localhost:8080/"
        },
        "outputId": "055f6b61-17a3-475c-a1c0-1b2d552f71ce"
      },
      "source": [
        "total_length = tensor_norm.shape[3]\n",
        "channels_n = tensor_norm.shape[0]\n",
        "dim_x = tensor_norm.shape[1]\n",
        "dim_y = tensor_norm.shape[2]\n",
        "\n",
        "print('total_length: ', total_length)\n",
        "print('channels_n: ', channels_n)\n",
        "print('dim_x: ', dim_x)\n",
        "print('dim_y: ', dim_y)"
      ],
      "execution_count": 42,
      "outputs": [
        {
          "output_type": "stream",
          "name": "stdout",
          "text": [
            "total_length:  176\n",
            "channels_n:  1\n",
            "dim_x:  100\n",
            "dim_y:  100\n"
          ]
        }
      ]
    },
    {
      "cell_type": "markdown",
      "metadata": {
        "id": "f-UR6McopXmD"
      },
      "source": [
        "# Rolling Window"
      ]
    },
    {
      "cell_type": "code",
      "metadata": {
        "id": "_Mds0od0rIN_"
      },
      "source": [
        "import math\n",
        "class DataGenerator(tf.keras.utils.Sequence): \n",
        "    'Generates data for Keras'\n",
        "    def __init__(self, data, list_IDs, batch_size=5, dim=(2,35,50), \n",
        "                 k = 624, p = 1, \n",
        "                 shuffle=True, till_end = False, only_test = False):\n",
        "        'Initialization'\n",
        "        self.data = data\n",
        "        self.dim = dim\n",
        "        self.batch_size = batch_size\n",
        "        self.list_IDs = list_IDs\n",
        "        self.shuffle = shuffle\n",
        "        self.p = p\n",
        "        self.k = k\n",
        "        self.till_end = till_end\n",
        "        self.only_test = only_test\n",
        "        self.on_epoch_end()\n",
        "\n",
        "    def __len__(self):\n",
        "        'Denotes the number of batches per epoch'\n",
        "        if self.till_end:\n",
        "          lenx = math.ceil((len(self.list_IDs) / self.batch_size))\n",
        "        else:\n",
        "          lenx = int(np.floor(len(self.list_IDs) / self.batch_size))\n",
        "        return lenx\n",
        "\n",
        "    def __getitem__(self, index):\n",
        "        'Generate one batch of data'\n",
        "        # Generate indexes of the batch\n",
        "        indexes = self.indexes[index*self.batch_size:(index+1)*self.batch_size]\n",
        "\n",
        "        # Find list of IDs\n",
        "        list_IDs_temp = [self.list_IDs[k] for k in indexes]\n",
        "\n",
        "        # Generate data\n",
        "        X, y = self.__data_generation(list_IDs_temp)\n",
        "        if self.only_test:\n",
        "          return X\n",
        "        else:\n",
        "          return X, y\n",
        "\n",
        "    def on_epoch_end(self):\n",
        "        'Updates indexes after each epoch'\n",
        "        self.indexes = np.arange(len(self.list_IDs))\n",
        "        if self.shuffle == True:\n",
        "            np.random.shuffle(self.indexes)\n",
        "\n",
        "    def __data_generation(self, list_IDs_temp):\n",
        "        'Generates data containing batch_size samples' # X : (n_samples, *dim, depth)\n",
        "        # Initialization\n",
        "        X = np.empty((self.batch_size, *self.dim, self.k))\n",
        "        y = [np.empty((self.batch_size, *self.dim))]*self.p\n",
        "\n",
        "        y_inter = np.empty((self.batch_size, *self.dim, p))\n",
        "\n",
        "        # Generate data\n",
        "        lenn = len(list_IDs_temp)\n",
        "        for i, ID in enumerate(list_IDs_temp):\n",
        "            # Store Xtrain\n",
        "            X[i,:,:,:,:] = self.data[:,:,:,ID:ID+k]\n",
        "            # Store Ytrain\n",
        "            y_inter[i,:,:,:,:] = self.data[:,:,:,ID+k:ID+k+p] \n",
        "\n",
        "        for j in range(self.p):\n",
        "          y[j] = y_inter[:,:,:,:,j]\n",
        "          y[j] = np.reshape(y[j], (lenn, -1)) \n",
        "\n",
        "        X = X.transpose((0,4,2,3,1))\n",
        "        X = np.reshape(X, (X.shape[0],X.shape[1],-1))\n",
        "\n",
        "        return X, y"
      ],
      "execution_count": 43,
      "outputs": []
    },
    {
      "cell_type": "code",
      "metadata": {
        "id": "bEHakg9SpXr5",
        "colab": {
          "base_uri": "https://localhost:8080/"
        },
        "outputId": "c2f9f4fc-8714-4323-d44e-05be8d61f8e9"
      },
      "source": [
        "# Prepare data generators\n",
        "\n",
        "period_transitorio = 0\n",
        "stride_train = 2\n",
        "stride_val = 1\n",
        "stride_test = 1\n",
        "test_prop = 0.35\n",
        "val_prop = 0.2\n",
        "\n",
        "batch_size=5\n",
        "dim=(channels_n, dim_x, dim_y)\n",
        "k = 10\n",
        "p = 2\n",
        "\n",
        "\n",
        "\n",
        "test_length = int(test_prop * total_length)\n",
        "val_length  = int((total_length - test_length) * val_prop)\n",
        "train_length = total_length - val_length - test_length\n",
        "    \n",
        "if int(train_length-period_transitorio-(k+p)) < 0:\n",
        "    train_n = 0\n",
        "elif int((train_length-period_transitorio-(k+p))//stride_train) == 0:\n",
        "    train_n = 1\n",
        "else: \n",
        "    train_n = int(((train_length-period_transitorio)-(k+p))//stride_train) + 1\n",
        "    \n",
        "if int(test_length-(k+p)) < 0:\n",
        "    test_n = 0\n",
        "elif int((test_length-(k+p))//stride_test) == 0:\n",
        "    test_n = 1\n",
        "else: \n",
        "    test_n = int((test_length-(k+p))//stride_test) + 1\n",
        "\n",
        "if int(val_length-(k+p)) < 0:\n",
        "    val_n = 0\n",
        "elif int((val_length-(k+p))//stride_val) == 0:\n",
        "    val_n = 1\n",
        "else: \n",
        "    val_n = int((val_length-(k+p))//stride_val) + 1\n",
        "\n",
        "# Starting index of each batch\n",
        "train_idxs = np.empty([train_n], dtype='int')\n",
        "val_idxs = np.empty([val_n], dtype='int')\n",
        "test_idxs = np.empty([test_n], dtype='int')\n",
        "\n",
        "j = period_transitorio\n",
        "for i in range(train_n):\n",
        "    train_idxs[i] = j\n",
        "    j = j+stride_train\n",
        "\n",
        "j = train_length\n",
        "for i in range(val_n):\n",
        "    val_idxs[i] = j\n",
        "    j = j+stride_val\n",
        "\n",
        "j = train_length + val_length\n",
        "for i in range(test_n):\n",
        "    test_idxs[i] = j\n",
        "    j = j+stride_test\n",
        "\n",
        "\n",
        "\n",
        "# Generators\n",
        "training_generator = DataGenerator(tensor_norm, train_idxs,  \n",
        "                                    dim = dim, \n",
        "                                    batch_size = batch_size,\n",
        "                                    k = k, p = p, till_end = False,\n",
        "                                    only_test = False,\n",
        "                                    shuffle = True)\n",
        "validation_generator = DataGenerator(tensor_norm, val_idxs, \n",
        "                                    dim = dim, \n",
        "                                    batch_size = batch_size,\n",
        "                                    k = k, p = p, till_end = False,\n",
        "                                    only_test = False,\n",
        "                                    shuffle = False)\n",
        "test_generator = DataGenerator(tensor_norm, test_idxs, \n",
        "                                    dim = dim, \n",
        "                                    batch_size = batch_size,\n",
        "                                    k = k, p = p, till_end = False,\n",
        "                                    only_test = True,\n",
        "                                    shuffle = False)\n",
        "mono_generator = DataGenerator(Tensor_MONO, test_idxs, \n",
        "                                    dim = dim, \n",
        "                                    batch_size = batch_size,\n",
        "                                    k = k, p = p, till_end = False,\n",
        "                                    only_test = True,\n",
        "                                    shuffle = False)\n",
        "\n",
        "print ('test_length: ', test_length)\n",
        "print ('val_length: ', val_length)\n",
        "print ('train_length: ', train_length)\n",
        "print()\n",
        "print ('test_n: ', test_n)\n",
        "print ('val_n: ', val_n)\n",
        "print ('train_n: ', train_n)\n",
        "print()\n",
        "print('test_generator_len: ', len(test_generator))\n",
        "print('validation_generator_len: ', len(validation_generator))\n",
        "print('training_generator_len: ', len(training_generator))"
      ],
      "execution_count": 44,
      "outputs": [
        {
          "output_type": "stream",
          "name": "stdout",
          "text": [
            "test_length:  61\n",
            "val_length:  23\n",
            "train_length:  92\n",
            "\n",
            "test_n:  50\n",
            "val_n:  12\n",
            "train_n:  41\n",
            "\n",
            "test_generator_len:  10\n",
            "validation_generator_len:  2\n",
            "training_generator_len:  8\n"
          ]
        }
      ]
    },
    {
      "cell_type": "code",
      "metadata": {
        "id": "-FfHLuoxUAwP",
        "colab": {
          "base_uri": "https://localhost:8080/"
        },
        "outputId": "2d6a0746-9cd4-4a32-e49a-9875225a270c"
      },
      "source": [
        "# Prepare Ytest\n",
        "test_n_adjusted = int(test_n/batch_size)*batch_size\n",
        "Ytest = [np.empty([test_n_adjusted, channels_n, dim_x, dim_y], dtype='float64')] * p\n",
        "Ytest_fl = [np.empty([test_n_adjusted, channels_n * dim_x * dim_y ], dtype='float64')] * p\n",
        "\n",
        "Ytest_inter = np.empty([test_n_adjusted, channels_n, dim_x, dim_y, p], dtype='float64')\n",
        "\n",
        "for i in range(test_n_adjusted):\n",
        "    j = test_idxs[i]\n",
        "    Ytest_inter[i,:,:,:,:] = tensor_norm[:,:,:,j+k:j+k+p]\n",
        "\n",
        "for r in range(p):    \n",
        "  Ytest[r] = Ytest_inter[:,:,:,:,r]\n",
        "  Ytest_fl[r] = np.copy(np.reshape(Ytest[r], (test_n_adjusted, -1)) )\n",
        "\n",
        "print(len(Ytest_fl))\n",
        "print(len(Ytest))\n",
        "print(Ytest_fl[0].shape)\n",
        "print(Ytest[0].shape)"
      ],
      "execution_count": 45,
      "outputs": [
        {
          "output_type": "stream",
          "name": "stdout",
          "text": [
            "2\n",
            "2\n",
            "(50, 10000)\n",
            "(50, 1, 100, 100)\n"
          ]
        }
      ]
    },
    {
      "cell_type": "code",
      "source": [
        "# Prepare Mono tensor\n",
        "test_n_adjusted = int(test_n/batch_size)*batch_size\n",
        "YMONOtest = [np.empty([test_n_adjusted, channels_n, dim_x, dim_y], dtype='float64')] * p\n",
        "YMONOtest_fl = [np.empty([test_n_adjusted, channels_n * dim_x * dim_y ], dtype='float64')] * p\n",
        "\n",
        "YMONOtest_inter = np.empty([test_n_adjusted, channels_n, dim_x, dim_y, p], dtype='float64')\n",
        "\n",
        "for i in range(test_n_adjusted):\n",
        "    j = test_idxs[i]\n",
        "    YMONOtest_inter[i,:,:,:,:] = Tensor_MONO[:,:,:,j+k:j+k+p]\n",
        "\n",
        "for r in range(p):    \n",
        "  YMONOtest[r] = YMONOtest_inter[:,:,:,:,r]\n",
        "  YMONOtest_fl[r] = np.copy(np.reshape(YMONOtest[r], (test_n_adjusted, -1)) )\n",
        "\n",
        "print(len(YMONOtest_fl))\n",
        "print(len(YMONOtest))\n",
        "print(YMONOtest_fl[0].shape)\n",
        "print(YMONOtest[0].shape)"
      ],
      "metadata": {
        "colab": {
          "base_uri": "https://localhost:8080/"
        },
        "id": "OMBPtfvNZvZP",
        "outputId": "213dcbf6-7d4c-4287-b028-55a13cb5b42c"
      },
      "execution_count": 46,
      "outputs": [
        {
          "output_type": "stream",
          "name": "stdout",
          "text": [
            "2\n",
            "2\n",
            "(50, 10000)\n",
            "(50, 1, 100, 100)\n"
          ]
        }
      ]
    },
    {
      "cell_type": "markdown",
      "metadata": {
        "id": "BofHsjg5c7wk"
      },
      "source": [
        "# RNN Model"
      ]
    },
    {
      "cell_type": "code",
      "source": [
        "tf.keras.backend.clear_session()"
      ],
      "metadata": {
        "id": "vjS1sHFO5fhJ"
      },
      "execution_count": 47,
      "outputs": []
    },
    {
      "cell_type": "code",
      "metadata": {
        "id": "_cckL-8-c7wl"
      },
      "source": [
        "np.random.seed(2453115889)\n",
        "#tf.random.set_seed(322198573)"
      ],
      "execution_count": 48,
      "outputs": []
    },
    {
      "cell_type": "code",
      "metadata": {
        "id": "Cuffsg2-c7ws"
      },
      "source": [
        "def create_model(in_shape,  out_dim, p = 3, shared_dim = 1000, act_fun= 'relu'):\n",
        "    x = Input(shape=in_shape)\n",
        "    Fm = Input(shape=in_shape)\n",
        "    \n",
        "    v = LSTM(400)(x)\n",
        "    v = Dense(p*100, activation= act_fun)(v)\n",
        "    v = Reshape((p,100))(v)\n",
        "\n",
        "    tt = [1]*p\n",
        "    \n",
        "    r = TimeDistributed( Dense(shared_dim, activation=act_fun))(v)\n",
        "    s = tf.split(r, tt, 1)\n",
        "    for i in range(p):\n",
        "      s[i] = Flatten()(s[i])\n",
        "\n",
        "    o = []\n",
        "    for i in range(p):\n",
        "      #o.append( Dense(out_dim, activation='sigmoid')(s[i]) )\n",
        "      o.append( Dense(out_dim, activation=None)(s[i]) )\n",
        "  \n",
        "    m = Model(inputs=x, outputs=o)\n",
        "    m.compile(loss='mse', optimizer='adam', metrics=['mse'])\n",
        "    #m.compile(loss='mae', optimizer='adam', metrics=['mae'])\n",
        "    return(m)"
      ],
      "execution_count": 49,
      "outputs": []
    },
    {
      "cell_type": "code",
      "metadata": {
        "id": "d-3tveMac7wv",
        "scrolled": true,
        "colab": {
          "base_uri": "https://localhost:8080/"
        },
        "outputId": "b14a6fab-6e8d-473f-ae56-df88f312a57f"
      },
      "source": [
        "#crear modelo\n",
        "\n",
        "in_shape = [k, dim_x * dim_y * channels_n]\n",
        "out_dim = dim_x * dim_y * channels_n \n",
        "shared_dim = 80\n",
        "print(in_shape)\n",
        "print(out_dim)\n",
        "print(shared_dim)\n",
        "\n",
        "\n",
        "model= create_model(in_shape,out_dim,p,shared_dim) "
      ],
      "execution_count": 50,
      "outputs": [
        {
          "output_type": "stream",
          "name": "stdout",
          "text": [
            "[10, 10000]\n",
            "10000\n",
            "80\n"
          ]
        }
      ]
    },
    {
      "cell_type": "code",
      "metadata": {
        "id": "JEsEcfTFc7wz",
        "scrolled": false,
        "colab": {
          "base_uri": "https://localhost:8080/"
        },
        "outputId": "95616f48-735e-4477-c345-7d6e374ca127"
      },
      "source": [
        "model.summary()"
      ],
      "execution_count": 51,
      "outputs": [
        {
          "output_type": "stream",
          "name": "stdout",
          "text": [
            "Model: \"model\"\n",
            "__________________________________________________________________________________________________\n",
            " Layer (type)                   Output Shape         Param #     Connected to                     \n",
            "==================================================================================================\n",
            " input_1 (InputLayer)           [(None, 10, 10000)]  0           []                               \n",
            "                                                                                                  \n",
            " lstm (LSTM)                    (None, 400)          16641600    ['input_1[0][0]']                \n",
            "                                                                                                  \n",
            " dense (Dense)                  (None, 200)          80200       ['lstm[0][0]']                   \n",
            "                                                                                                  \n",
            " reshape (Reshape)              (None, 2, 100)       0           ['dense[0][0]']                  \n",
            "                                                                                                  \n",
            " time_distributed (TimeDistribu  (None, 2, 80)       8080        ['reshape[0][0]']                \n",
            " ted)                                                                                             \n",
            "                                                                                                  \n",
            " tf.split (TFOpLambda)          [(None, 1, 80),      0           ['time_distributed[0][0]']       \n",
            "                                 (None, 1, 80)]                                                   \n",
            "                                                                                                  \n",
            " flatten (Flatten)              (None, 80)           0           ['tf.split[0][0]']               \n",
            "                                                                                                  \n",
            " flatten_1 (Flatten)            (None, 80)           0           ['tf.split[0][1]']               \n",
            "                                                                                                  \n",
            " dense_2 (Dense)                (None, 10000)        810000      ['flatten[0][0]']                \n",
            "                                                                                                  \n",
            " dense_3 (Dense)                (None, 10000)        810000      ['flatten_1[0][0]']              \n",
            "                                                                                                  \n",
            "==================================================================================================\n",
            "Total params: 18,349,880\n",
            "Trainable params: 18,349,880\n",
            "Non-trainable params: 0\n",
            "__________________________________________________________________________________________________\n"
          ]
        }
      ]
    },
    {
      "cell_type": "code",
      "metadata": {
        "id": "hRBx40Rsc7xD",
        "colab": {
          "base_uri": "https://localhost:8080/"
        },
        "outputId": "3daa2b71-1590-4bdc-d268-78b30a9ccbf6"
      },
      "source": [
        "# save the best weights \n",
        "import sys\n",
        "save_string = \"colab_UPM_RNN_model\"\n",
        "\n",
        "# save the best weights \n",
        "save_best_weights = save_string + '.h5'\n",
        "save_summary_stats = save_string + '.csv'\n",
        "save_last_weights = save_string + '_last_w.h5'\n",
        "save_results_metrics = save_string + '_results_metrics.csv'\n",
        "\n",
        "print(save_string)"
      ],
      "execution_count": 52,
      "outputs": [
        {
          "output_type": "stream",
          "name": "stdout",
          "text": [
            "colab_UPM_RNN_model\n"
          ]
        }
      ]
    },
    {
      "cell_type": "markdown",
      "metadata": {
        "id": "hpAZDegcc7xH"
      },
      "source": [
        "# Training"
      ]
    },
    {
      "cell_type": "code",
      "metadata": {
        "id": "OvzoXzNoc7xI"
      },
      "source": [
        "np.random.seed(247531338)"
      ],
      "execution_count": 53,
      "outputs": []
    },
    {
      "cell_type": "code",
      "metadata": {
        "id": "BSeYacJuc7xL",
        "scrolled": false,
        "colab": {
          "base_uri": "https://localhost:8080/"
        },
        "outputId": "585d5e10-744d-4fd8-e75b-64ae9fad65b3"
      },
      "source": [
        "t0 = time.time()\n",
        "\n",
        "callbacks = [ModelCheckpoint(save_best_weights, monitor='val_loss', save_best_only=True, mode='auto'),\n",
        "             EarlyStopping(monitor='val_loss', patience=10, verbose=1, mode='auto')\n",
        "            ]\n",
        "\n",
        "# epochs\n",
        "num_epochs = 140\n",
        "\n",
        "\n",
        "history = model.fit(training_generator,\n",
        "                              validation_data=validation_generator,\n",
        "                              use_multiprocessing=True,\n",
        "                              workers=6,\n",
        "                              max_queue_size=10,\n",
        "                              epochs=num_epochs,\n",
        "                              verbose=1,\n",
        "                              callbacks=callbacks)\n",
        "t1 = time.time()\n",
        "print(\"Minutes elapsed: %f\" % ((t1 - t0) / 60.))\n"
      ],
      "execution_count": 54,
      "outputs": [
        {
          "output_type": "stream",
          "name": "stdout",
          "text": [
            "Epoch 1/140\n",
            "8/8 [==============================] - 21s 1s/step - loss: 0.0696 - dense_2_loss: 0.0342 - dense_3_loss: 0.0354 - dense_2_mse: 0.0342 - dense_3_mse: 0.0354 - val_loss: 0.0708 - val_dense_2_loss: 0.0355 - val_dense_3_loss: 0.0353 - val_dense_2_mse: 0.0355 - val_dense_3_mse: 0.0353\n",
            "Epoch 2/140\n",
            "8/8 [==============================] - 7s 1s/step - loss: 0.0339 - dense_2_loss: 0.0162 - dense_3_loss: 0.0177 - dense_2_mse: 0.0162 - dense_3_mse: 0.0177 - val_loss: 0.0465 - val_dense_2_loss: 0.0235 - val_dense_3_loss: 0.0230 - val_dense_2_mse: 0.0235 - val_dense_3_mse: 0.0230\n",
            "Epoch 3/140\n",
            "8/8 [==============================] - 7s 972ms/step - loss: 0.0197 - dense_2_loss: 0.0095 - dense_3_loss: 0.0101 - dense_2_mse: 0.0095 - dense_3_mse: 0.0101 - val_loss: 0.0393 - val_dense_2_loss: 0.0204 - val_dense_3_loss: 0.0189 - val_dense_2_mse: 0.0204 - val_dense_3_mse: 0.0189\n",
            "Epoch 4/140\n",
            "8/8 [==============================] - 7s 976ms/step - loss: 0.0148 - dense_2_loss: 0.0074 - dense_3_loss: 0.0074 - dense_2_mse: 0.0074 - dense_3_mse: 0.0074 - val_loss: 0.0383 - val_dense_2_loss: 0.0201 - val_dense_3_loss: 0.0183 - val_dense_2_mse: 0.0201 - val_dense_3_mse: 0.0183\n",
            "Epoch 5/140\n",
            "8/8 [==============================] - 7s 1s/step - loss: 0.0131 - dense_2_loss: 0.0065 - dense_3_loss: 0.0066 - dense_2_mse: 0.0065 - dense_3_mse: 0.0066 - val_loss: 0.0358 - val_dense_2_loss: 0.0186 - val_dense_3_loss: 0.0171 - val_dense_2_mse: 0.0186 - val_dense_3_mse: 0.0171\n",
            "Epoch 6/140\n",
            "8/8 [==============================] - 6s 860ms/step - loss: 0.0131 - dense_2_loss: 0.0065 - dense_3_loss: 0.0066 - dense_2_mse: 0.0065 - dense_3_mse: 0.0066 - val_loss: 0.0363 - val_dense_2_loss: 0.0189 - val_dense_3_loss: 0.0174 - val_dense_2_mse: 0.0189 - val_dense_3_mse: 0.0174\n",
            "Epoch 7/140\n",
            "8/8 [==============================] - 7s 966ms/step - loss: 0.0128 - dense_2_loss: 0.0064 - dense_3_loss: 0.0064 - dense_2_mse: 0.0064 - dense_3_mse: 0.0064 - val_loss: 0.0354 - val_dense_2_loss: 0.0187 - val_dense_3_loss: 0.0167 - val_dense_2_mse: 0.0187 - val_dense_3_mse: 0.0167\n",
            "Epoch 8/140\n",
            "8/8 [==============================] - 8s 1s/step - loss: 0.0124 - dense_2_loss: 0.0062 - dense_3_loss: 0.0062 - dense_2_mse: 0.0062 - dense_3_mse: 0.0062 - val_loss: 0.0345 - val_dense_2_loss: 0.0184 - val_dense_3_loss: 0.0161 - val_dense_2_mse: 0.0184 - val_dense_3_mse: 0.0161\n",
            "Epoch 9/140\n",
            "8/8 [==============================] - 7s 1s/step - loss: 0.0116 - dense_2_loss: 0.0058 - dense_3_loss: 0.0057 - dense_2_mse: 0.0058 - dense_3_mse: 0.0057 - val_loss: 0.0305 - val_dense_2_loss: 0.0164 - val_dense_3_loss: 0.0140 - val_dense_2_mse: 0.0164 - val_dense_3_mse: 0.0140\n",
            "Epoch 10/140\n",
            "8/8 [==============================] - 7s 977ms/step - loss: 0.0104 - dense_2_loss: 0.0052 - dense_3_loss: 0.0051 - dense_2_mse: 0.0052 - dense_3_mse: 0.0051 - val_loss: 0.0267 - val_dense_2_loss: 0.0145 - val_dense_3_loss: 0.0123 - val_dense_2_mse: 0.0145 - val_dense_3_mse: 0.0123\n",
            "Epoch 11/140\n",
            "8/8 [==============================] - 7s 968ms/step - loss: 0.0089 - dense_2_loss: 0.0044 - dense_3_loss: 0.0046 - dense_2_mse: 0.0044 - dense_3_mse: 0.0046 - val_loss: 0.0221 - val_dense_2_loss: 0.0112 - val_dense_3_loss: 0.0110 - val_dense_2_mse: 0.0112 - val_dense_3_mse: 0.0110\n",
            "Epoch 12/140\n",
            "8/8 [==============================] - 7s 973ms/step - loss: 0.0078 - dense_2_loss: 0.0034 - dense_3_loss: 0.0044 - dense_2_mse: 0.0034 - dense_3_mse: 0.0044 - val_loss: 0.0177 - val_dense_2_loss: 0.0080 - val_dense_3_loss: 0.0097 - val_dense_2_mse: 0.0080 - val_dense_3_mse: 0.0097\n",
            "Epoch 13/140\n",
            "8/8 [==============================] - 7s 973ms/step - loss: 0.0067 - dense_2_loss: 0.0029 - dense_3_loss: 0.0038 - dense_2_mse: 0.0029 - dense_3_mse: 0.0038 - val_loss: 0.0146 - val_dense_2_loss: 0.0064 - val_dense_3_loss: 0.0082 - val_dense_2_mse: 0.0064 - val_dense_3_mse: 0.0082\n",
            "Epoch 14/140\n",
            "8/8 [==============================] - 8s 984ms/step - loss: 0.0058 - dense_2_loss: 0.0026 - dense_3_loss: 0.0032 - dense_2_mse: 0.0026 - dense_3_mse: 0.0032 - val_loss: 0.0128 - val_dense_2_loss: 0.0062 - val_dense_3_loss: 0.0066 - val_dense_2_mse: 0.0062 - val_dense_3_mse: 0.0066\n",
            "Epoch 15/140\n",
            "8/8 [==============================] - 7s 995ms/step - loss: 0.0054 - dense_2_loss: 0.0025 - dense_3_loss: 0.0029 - dense_2_mse: 0.0025 - dense_3_mse: 0.0029 - val_loss: 0.0111 - val_dense_2_loss: 0.0057 - val_dense_3_loss: 0.0054 - val_dense_2_mse: 0.0057 - val_dense_3_mse: 0.0054\n",
            "Epoch 16/140\n",
            "8/8 [==============================] - 7s 976ms/step - loss: 0.0050 - dense_2_loss: 0.0024 - dense_3_loss: 0.0026 - dense_2_mse: 0.0024 - dense_3_mse: 0.0026 - val_loss: 0.0111 - val_dense_2_loss: 0.0056 - val_dense_3_loss: 0.0054 - val_dense_2_mse: 0.0056 - val_dense_3_mse: 0.0054\n",
            "Epoch 17/140\n",
            "8/8 [==============================] - 7s 959ms/step - loss: 0.0044 - dense_2_loss: 0.0020 - dense_3_loss: 0.0023 - dense_2_mse: 0.0020 - dense_3_mse: 0.0023 - val_loss: 0.0107 - val_dense_2_loss: 0.0055 - val_dense_3_loss: 0.0052 - val_dense_2_mse: 0.0055 - val_dense_3_mse: 0.0052\n",
            "Epoch 18/140\n",
            "8/8 [==============================] - 7s 992ms/step - loss: 0.0041 - dense_2_loss: 0.0019 - dense_3_loss: 0.0023 - dense_2_mse: 0.0019 - dense_3_mse: 0.0023 - val_loss: 0.0102 - val_dense_2_loss: 0.0053 - val_dense_3_loss: 0.0049 - val_dense_2_mse: 0.0053 - val_dense_3_mse: 0.0049\n",
            "Epoch 19/140\n",
            "8/8 [==============================] - 8s 1s/step - loss: 0.0039 - dense_2_loss: 0.0017 - dense_3_loss: 0.0022 - dense_2_mse: 0.0017 - dense_3_mse: 0.0022 - val_loss: 0.0099 - val_dense_2_loss: 0.0050 - val_dense_3_loss: 0.0049 - val_dense_2_mse: 0.0050 - val_dense_3_mse: 0.0049\n",
            "Epoch 20/140\n",
            "8/8 [==============================] - 7s 997ms/step - loss: 0.0036 - dense_2_loss: 0.0016 - dense_3_loss: 0.0020 - dense_2_mse: 0.0016 - dense_3_mse: 0.0020 - val_loss: 0.0093 - val_dense_2_loss: 0.0047 - val_dense_3_loss: 0.0046 - val_dense_2_mse: 0.0047 - val_dense_3_mse: 0.0046\n",
            "Epoch 21/140\n",
            "8/8 [==============================] - 7s 990ms/step - loss: 0.0032 - dense_2_loss: 0.0014 - dense_3_loss: 0.0018 - dense_2_mse: 0.0014 - dense_3_mse: 0.0018 - val_loss: 0.0090 - val_dense_2_loss: 0.0044 - val_dense_3_loss: 0.0047 - val_dense_2_mse: 0.0044 - val_dense_3_mse: 0.0047\n",
            "Epoch 22/140\n",
            "8/8 [==============================] - 7s 1s/step - loss: 0.0030 - dense_2_loss: 0.0013 - dense_3_loss: 0.0016 - dense_2_mse: 0.0013 - dense_3_mse: 0.0016 - val_loss: 0.0086 - val_dense_2_loss: 0.0042 - val_dense_3_loss: 0.0044 - val_dense_2_mse: 0.0042 - val_dense_3_mse: 0.0044\n",
            "Epoch 23/140\n",
            "8/8 [==============================] - 8s 1s/step - loss: 0.0027 - dense_2_loss: 0.0012 - dense_3_loss: 0.0015 - dense_2_mse: 0.0012 - dense_3_mse: 0.0015 - val_loss: 0.0084 - val_dense_2_loss: 0.0042 - val_dense_3_loss: 0.0042 - val_dense_2_mse: 0.0042 - val_dense_3_mse: 0.0042\n",
            "Epoch 24/140\n",
            "8/8 [==============================] - 7s 988ms/step - loss: 0.0026 - dense_2_loss: 0.0012 - dense_3_loss: 0.0014 - dense_2_mse: 0.0012 - dense_3_mse: 0.0014 - val_loss: 0.0080 - val_dense_2_loss: 0.0041 - val_dense_3_loss: 0.0039 - val_dense_2_mse: 0.0041 - val_dense_3_mse: 0.0039\n",
            "Epoch 25/140\n",
            "8/8 [==============================] - 7s 872ms/step - loss: 0.0024 - dense_2_loss: 0.0012 - dense_3_loss: 0.0013 - dense_2_mse: 0.0012 - dense_3_mse: 0.0013 - val_loss: 0.0081 - val_dense_2_loss: 0.0042 - val_dense_3_loss: 0.0040 - val_dense_2_mse: 0.0042 - val_dense_3_mse: 0.0040\n",
            "Epoch 26/140\n",
            "8/8 [==============================] - 8s 1s/step - loss: 0.0023 - dense_2_loss: 0.0011 - dense_3_loss: 0.0012 - dense_2_mse: 0.0011 - dense_3_mse: 0.0012 - val_loss: 0.0080 - val_dense_2_loss: 0.0041 - val_dense_3_loss: 0.0039 - val_dense_2_mse: 0.0041 - val_dense_3_mse: 0.0039\n",
            "Epoch 27/140\n",
            "8/8 [==============================] - 6s 865ms/step - loss: 0.0022 - dense_2_loss: 0.0011 - dense_3_loss: 0.0011 - dense_2_mse: 0.0011 - dense_3_mse: 0.0011 - val_loss: 0.0081 - val_dense_2_loss: 0.0042 - val_dense_3_loss: 0.0039 - val_dense_2_mse: 0.0042 - val_dense_3_mse: 0.0039\n",
            "Epoch 28/140\n",
            "8/8 [==============================] - 7s 990ms/step - loss: 0.0022 - dense_2_loss: 0.0011 - dense_3_loss: 0.0011 - dense_2_mse: 0.0011 - dense_3_mse: 0.0011 - val_loss: 0.0077 - val_dense_2_loss: 0.0039 - val_dense_3_loss: 0.0038 - val_dense_2_mse: 0.0039 - val_dense_3_mse: 0.0038\n",
            "Epoch 29/140\n",
            "8/8 [==============================] - 7s 875ms/step - loss: 0.0021 - dense_2_loss: 0.0010 - dense_3_loss: 0.0011 - dense_2_mse: 0.0010 - dense_3_mse: 0.0011 - val_loss: 0.0077 - val_dense_2_loss: 0.0039 - val_dense_3_loss: 0.0038 - val_dense_2_mse: 0.0039 - val_dense_3_mse: 0.0038\n",
            "Epoch 30/140\n",
            "8/8 [==============================] - 8s 1s/step - loss: 0.0021 - dense_2_loss: 0.0011 - dense_3_loss: 0.0011 - dense_2_mse: 0.0011 - dense_3_mse: 0.0011 - val_loss: 0.0076 - val_dense_2_loss: 0.0040 - val_dense_3_loss: 0.0036 - val_dense_2_mse: 0.0040 - val_dense_3_mse: 0.0036\n",
            "Epoch 31/140\n",
            "8/8 [==============================] - 7s 864ms/step - loss: 0.0020 - dense_2_loss: 9.9409e-04 - dense_3_loss: 0.0010 - dense_2_mse: 9.9409e-04 - dense_3_mse: 0.0010 - val_loss: 0.0077 - val_dense_2_loss: 0.0039 - val_dense_3_loss: 0.0038 - val_dense_2_mse: 0.0039 - val_dense_3_mse: 0.0038\n",
            "Epoch 32/140\n",
            "8/8 [==============================] - 7s 870ms/step - loss: 0.0019 - dense_2_loss: 9.3744e-04 - dense_3_loss: 9.9091e-04 - dense_2_mse: 9.3744e-04 - dense_3_mse: 9.9091e-04 - val_loss: 0.0077 - val_dense_2_loss: 0.0039 - val_dense_3_loss: 0.0038 - val_dense_2_mse: 0.0039 - val_dense_3_mse: 0.0038\n",
            "Epoch 33/140\n",
            "8/8 [==============================] - 7s 966ms/step - loss: 0.0018 - dense_2_loss: 9.0360e-04 - dense_3_loss: 9.4161e-04 - dense_2_mse: 9.0360e-04 - dense_3_mse: 9.4161e-04 - val_loss: 0.0075 - val_dense_2_loss: 0.0037 - val_dense_3_loss: 0.0037 - val_dense_2_mse: 0.0037 - val_dense_3_mse: 0.0037\n",
            "Epoch 34/140\n",
            "8/8 [==============================] - 7s 964ms/step - loss: 0.0018 - dense_2_loss: 8.5632e-04 - dense_3_loss: 9.0846e-04 - dense_2_mse: 8.5632e-04 - dense_3_mse: 9.0846e-04 - val_loss: 0.0076 - val_dense_2_loss: 0.0038 - val_dense_3_loss: 0.0037 - val_dense_2_mse: 0.0038 - val_dense_3_mse: 0.0037\n",
            "Epoch 35/140\n",
            "8/8 [==============================] - 7s 863ms/step - loss: 0.0017 - dense_2_loss: 8.3522e-04 - dense_3_loss: 8.9620e-04 - dense_2_mse: 8.3522e-04 - dense_3_mse: 8.9620e-04 - val_loss: 0.0075 - val_dense_2_loss: 0.0037 - val_dense_3_loss: 0.0037 - val_dense_2_mse: 0.0037 - val_dense_3_mse: 0.0037\n",
            "Epoch 36/140\n",
            "8/8 [==============================] - 7s 880ms/step - loss: 0.0017 - dense_2_loss: 8.0051e-04 - dense_3_loss: 8.7084e-04 - dense_2_mse: 8.0051e-04 - dense_3_mse: 8.7084e-04 - val_loss: 0.0076 - val_dense_2_loss: 0.0039 - val_dense_3_loss: 0.0037 - val_dense_2_mse: 0.0039 - val_dense_3_mse: 0.0037\n",
            "Epoch 37/140\n",
            "8/8 [==============================] - 7s 873ms/step - loss: 0.0017 - dense_2_loss: 8.2002e-04 - dense_3_loss: 8.9160e-04 - dense_2_mse: 8.2002e-04 - dense_3_mse: 8.9160e-04 - val_loss: 0.0078 - val_dense_2_loss: 0.0039 - val_dense_3_loss: 0.0039 - val_dense_2_mse: 0.0039 - val_dense_3_mse: 0.0039\n",
            "Epoch 38/140\n",
            "8/8 [==============================] - 6s 865ms/step - loss: 0.0016 - dense_2_loss: 7.8536e-04 - dense_3_loss: 8.4814e-04 - dense_2_mse: 7.8536e-04 - dense_3_mse: 8.4814e-04 - val_loss: 0.0078 - val_dense_2_loss: 0.0039 - val_dense_3_loss: 0.0039 - val_dense_2_mse: 0.0039 - val_dense_3_mse: 0.0039\n",
            "Epoch 39/140\n",
            "8/8 [==============================] - 6s 855ms/step - loss: 0.0017 - dense_2_loss: 8.1198e-04 - dense_3_loss: 8.7178e-04 - dense_2_mse: 8.1198e-04 - dense_3_mse: 8.7178e-04 - val_loss: 0.0076 - val_dense_2_loss: 0.0038 - val_dense_3_loss: 0.0038 - val_dense_2_mse: 0.0038 - val_dense_3_mse: 0.0038\n",
            "Epoch 40/140\n",
            "8/8 [==============================] - 7s 862ms/step - loss: 0.0017 - dense_2_loss: 8.2117e-04 - dense_3_loss: 8.8558e-04 - dense_2_mse: 8.2117e-04 - dense_3_mse: 8.8558e-04 - val_loss: 0.0079 - val_dense_2_loss: 0.0040 - val_dense_3_loss: 0.0039 - val_dense_2_mse: 0.0040 - val_dense_3_mse: 0.0039\n",
            "Epoch 41/140\n",
            "8/8 [==============================] - 7s 871ms/step - loss: 0.0016 - dense_2_loss: 7.9898e-04 - dense_3_loss: 8.3659e-04 - dense_2_mse: 7.9898e-04 - dense_3_mse: 8.3659e-04 - val_loss: 0.0077 - val_dense_2_loss: 0.0039 - val_dense_3_loss: 0.0037 - val_dense_2_mse: 0.0039 - val_dense_3_mse: 0.0037\n",
            "Epoch 42/140\n",
            "8/8 [==============================] - 6s 850ms/step - loss: 0.0016 - dense_2_loss: 7.3931e-04 - dense_3_loss: 8.2782e-04 - dense_2_mse: 7.3931e-04 - dense_3_mse: 8.2782e-04 - val_loss: 0.0077 - val_dense_2_loss: 0.0039 - val_dense_3_loss: 0.0038 - val_dense_2_mse: 0.0039 - val_dense_3_mse: 0.0038\n",
            "Epoch 43/140\n",
            "8/8 [==============================] - 6s 869ms/step - loss: 0.0015 - dense_2_loss: 6.9428e-04 - dense_3_loss: 7.7597e-04 - dense_2_mse: 6.9428e-04 - dense_3_mse: 7.7597e-04 - val_loss: 0.0078 - val_dense_2_loss: 0.0039 - val_dense_3_loss: 0.0038 - val_dense_2_mse: 0.0039 - val_dense_3_mse: 0.0038\n",
            "Epoch 43: early stopping\n",
            "Minutes elapsed: 6.529566\n"
          ]
        }
      ]
    },
    {
      "cell_type": "code",
      "metadata": {
        "id": "xtSAkc4Pc7xb"
      },
      "source": [
        "# save the last weights \n",
        "model.save_weights(save_last_weights)"
      ],
      "execution_count": 55,
      "outputs": []
    },
    {
      "cell_type": "code",
      "metadata": {
        "id": "DxjLnclCc7xP"
      },
      "source": [
        "# Aggregate the summary statistics\n",
        "summary_stats = pd.DataFrame({'epoch': [ i + 1 for i in history.epoch ],\n",
        "                              'train_loss': history.history['loss'],\n",
        "                              'valid_loss': history.history['val_loss']})"
      ],
      "execution_count": 56,
      "outputs": []
    },
    {
      "cell_type": "code",
      "metadata": {
        "id": "SzVb0B9fc7xS"
      },
      "source": [
        "# Aggregate the summary statistics\n",
        "summary_stats = pd.DataFrame({'epoch': [ i + 1 for i in history.epoch ],\n",
        "                              'train_loss': history.history['loss'],\n",
        "                              'valid_loss': history.history['val_loss']})"
      ],
      "execution_count": 57,
      "outputs": []
    },
    {
      "cell_type": "code",
      "metadata": {
        "id": "up8gwtvuc7xW"
      },
      "source": [
        "#summary_stats = pd.read_csv(save_summary_stats)\n",
        "summary_stats.to_csv(save_summary_stats)    "
      ],
      "execution_count": 58,
      "outputs": []
    },
    {
      "cell_type": "code",
      "metadata": {
        "id": "7HknOGkAc7xY",
        "colab": {
          "base_uri": "https://localhost:8080/",
          "height": 488
        },
        "outputId": "c282f2dc-25b5-44bb-9959-c7fce7188519"
      },
      "source": [
        "fig1 = plt.figure(figsize=(10,7))\n",
        "\n",
        "plt.plot(summary_stats.train_loss, 'b') # blue\n",
        "plt.plot(summary_stats.valid_loss, 'g') # green\n",
        "\n",
        "figname = \"LossComparation.eps\"\n",
        "\n",
        "plt.legend([\"Train Loss\", \"Val Loss\"])\n",
        "#plt.savefig(figname, format='eps')\n",
        "\n",
        "plt.grid(True, which='both')\n",
        "plt.show()\n",
        "\n",
        "\n",
        "# Find the min validation loss during the training\n",
        "min_loss, idx = min((loss, idx) for (idx, loss) in enumerate(history.history['val_loss']))\n",
        "print(\"\\n\")\n",
        "print('Minimum val_loss at epoch', '{:d}'.format(idx+1), '=', '{:.4f}'.format(min_loss))\n",
        "min_loss = round(min_loss, 4)"
      ],
      "execution_count": 59,
      "outputs": [
        {
          "output_type": "display_data",
          "data": {
            "text/plain": [
              "<Figure size 720x504 with 1 Axes>"
            ],
            "image/png": "[encoded data removed]"
          },
          "metadata": {
            "needs_background": "light"
          }
        },
        {
          "output_type": "stream",
          "name": "stdout",
          "text": [
            "\n",
            "\n",
            "Minimum val_loss at epoch 33 = 0.0075\n"
          ]
        }
      ]
    },
    {
      "cell_type": "markdown",
      "metadata": {
        "id": "OMYUDY04c7xe"
      },
      "source": [
        "# Testing"
      ]
    },
    {
      "cell_type": "code",
      "metadata": {
        "id": "q4j3CKe7TzJT"
      },
      "source": [
        "# Relative root mean square error\n",
        "def RRMSE (real, predicted):\n",
        "  a = np.linalg.norm((real-predicted), ord='fro')\n",
        "  b = np.linalg.norm(real, ord='fro')\n",
        "  return(a/b)"
      ],
      "execution_count": 60,
      "outputs": []
    },
    {
      "cell_type": "code",
      "source": [
        "def RRMSE_flat (real, predicted):  \n",
        "  a = np.linalg.norm((real-predicted).flatten(), ord=2)\n",
        "  b = np.linalg.norm(real.flatten(), ord=2)\n",
        "  return(a/b)"
      ],
      "metadata": {
        "id": "zaB9z-KpChlR"
      },
      "execution_count": 61,
      "outputs": []
    },
    {
      "cell_type": "code",
      "metadata": {
        "id": "blumb9kgc7xf",
        "colab": {
          "base_uri": "https://localhost:8080/"
        },
        "outputId": "a7f948a6-13ee-4414-d0fc-6dec5871193c"
      },
      "source": [
        "t0 = time.time()\n",
        "\n",
        "model.load_weights(save_best_weights)\n",
        "Ytest_hat_fl = model.predict(test_generator, max_queue_size=10, workers=6, use_multiprocessing=True, verbose=1)\n",
        "    \n",
        "t1 = time.time()\n",
        "print(\"Minutes elapsed: %f\" % ((t1 - t0) / 60.))"
      ],
      "execution_count": 62,
      "outputs": [
        {
          "output_type": "stream",
          "name": "stdout",
          "text": [
            "10/10 [==============================] - 1s 39ms/step\n",
            "Minutes elapsed: 0.103027\n"
          ]
        }
      ]
    },
    {
      "cell_type": "code",
      "metadata": {
        "id": "RTkCzAn87j-n",
        "colab": {
          "base_uri": "https://localhost:8080/",
          "height": 286
        },
        "outputId": "40059eb9-68cb-433d-b650-31726e4fac5b"
      },
      "source": [
        "print('Performance measures on Test data, for all time, per time-ahead lag')\n",
        "\n",
        "results_table_global = pd.DataFrame(index=['MSE','MAE','MAD','R2','SMAPE','RRMSE', 'RRMSE_FLAT'],columns=range(p))\n",
        "for i in range(p):\n",
        "    results_table_global.iloc[0,i] = mean_squared_error(Ytest_fl[i].flatten(), Ytest_hat_fl[i].flatten())\n",
        "    results_table_global.iloc[1,i] = mean_absolute_error(Ytest_fl[i].flatten(), Ytest_hat_fl[i].flatten())\n",
        "    results_table_global.iloc[2,i] = median_absolute_error(Ytest_fl[i].flatten(), Ytest_hat_fl[i].flatten())\n",
        "    results_table_global.iloc[3,i] = r2_score(Ytest_fl[i].flatten(), Ytest_hat_fl[i].flatten())\n",
        "    results_table_global.iloc[4,i] = smape(Ytest_fl[i].flatten(), Ytest_hat_fl[i].flatten())\n",
        "    results_table_global.iloc[5,i] = RRMSE( np.reshape(Ytest_fl[i].flatten(),(-1,1)), np.reshape(Ytest_hat_fl[i].flatten(),(-1,1)))\n",
        "    results_table_global.iloc[6,i] = RRMSE_flat( np.reshape(Ytest_fl[i].flatten(),(-1,1)), np.reshape(Ytest_hat_fl[i].flatten(),(-1,1)))\n",
        "\n",
        "results_table_global['mean'] = results_table_global.mean(axis=1)\n",
        "\n",
        "savename = \"errors.csv\"\n",
        "\n",
        "#results_table_global.to_csv(savename, index=True)\n",
        "\n",
        "results_table_global"
      ],
      "execution_count": 63,
      "outputs": [
        {
          "output_type": "stream",
          "name": "stdout",
          "text": [
            "Performance measures on Test data, for all time, per time-ahead lag\n"
          ]
        },
        {
          "output_type": "execute_result",
          "data": {
            "text/plain": [
              "                    0          1       mean\n",
              "MSE           0.00132   0.001361   0.001340\n",
              "MAE          0.026244   0.026721   0.026482\n",
              "MAD          0.019545   0.019878   0.019711\n",
              "R2           0.960538   0.959218   0.959878\n",
              "SMAPE       59.423297  59.220294  59.321795\n",
              "RRMSE        0.184925   0.187971   0.186448\n",
              "RRMSE_FLAT   0.184925   0.187971   0.186448"
            ],
            "text/html": [
              "\n",
              "  <div id=\"df-21549627-fc80-4294-b7d5-ec348e1dbafe\">\n",
              "    <div class=\"colab-df-container\">\n",
              "      <div>\n",
              "<style scoped>\n",
              "    .dataframe tbody tr th:only-of-type {\n",
              "        vertical-align: middle;\n",
              "    }\n",
              "\n",
              "    .dataframe tbody tr th {\n",
              "        vertical-align: top;\n",
              "    }\n",
              "\n",
              "    .dataframe thead th {\n",
              "        text-align: right;\n",
              "    }\n",
              "</style>\n",
              "<table border=\"1\" class=\"dataframe\">\n",
              "  <thead>\n",
              "    <tr style=\"text-align: right;\">\n",
              "      <th></th>\n",
              "      <th>0</th>\n",
              "      <th>1</th>\n",
              "      <th>mean</th>\n",
              "    </tr>\n",
              "  </thead>\n",
              "  <tbody>\n",
              "    <tr>\n",
              "      <th>MSE</th>\n",
              "      <td>0.00132</td>\n",
              "      <td>0.001361</td>\n",
              "      <td>0.001340</td>\n",
              "    </tr>\n",
              "    <tr>\n",
              "      <th>MAE</th>\n",
              "      <td>0.026244</td>\n",
              "      <td>0.026721</td>\n",
              "      <td>0.026482</td>\n",
              "    </tr>\n",
              "    <tr>\n",
              "      <th>MAD</th>\n",
              "      <td>0.019545</td>\n",
              "      <td>0.019878</td>\n",
              "      <td>0.019711</td>\n",
              "    </tr>\n",
              "    <tr>\n",
              "      <th>R2</th>\n",
              "      <td>0.960538</td>\n",
              "      <td>0.959218</td>\n",
              "      <td>0.959878</td>\n",
              "    </tr>\n",
              "    <tr>\n",
              "      <th>SMAPE</th>\n",
              "      <td>59.423297</td>\n",
              "      <td>59.220294</td>\n",
              "      <td>59.321795</td>\n",
              "    </tr>\n",
              "    <tr>\n",
              "      <th>RRMSE</th>\n",
              "      <td>0.184925</td>\n",
              "      <td>0.187971</td>\n",
              "      <td>0.186448</td>\n",
              "    </tr>\n",
              "    <tr>\n",
              "      <th>RRMSE_FLAT</th>\n",
              "      <td>0.184925</td>\n",
              "      <td>0.187971</td>\n",
              "      <td>0.186448</td>\n",
              "    </tr>\n",
              "  </tbody>\n",
              "</table>\n",
              "</div>\n",
              "      <button class=\"colab-df-convert\" onclick=\"convertToInteractive('df-21549627-fc80-4294-b7d5-ec348e1dbafe')\"\n",
              "              title=\"Convert this dataframe to an interactive table.\"\n",
              "              style=\"display:none;\">\n",
              "        \n",
              "  <svg xmlns=\"http://www.w3.org/2000/svg\" height=\"24px\"viewBox=\"0 0 24 24\"\n",
              "       width=\"24px\">\n",
              "    <path d=\"M0 0h24v24H0V0z\" fill=\"none\"/>\n",
              "    <path d=\"M18.56 5.44l.94 2.06.94-2.06 2.06-.94-2.06-.94-.94-2.06-.94 2.06-2.06.94zm-11 1L8.5 8.5l.94-2.06 2.06-.94-2.06-.94L8.5 2.5l-.94 2.06-2.06.94zm10 10l.94 2.06.94-2.06 2.06-.94-2.06-.94-.94-2.06-.94 2.06-2.06.94z\"/><path d=\"M17.41 7.96l-1.37-1.37c-.4-.4-.92-.59-1.43-.59-.52 0-1.04.2-1.43.59L10.3 9.45l-7.72 7.72c-.78.78-.78 2.05 0 2.83L4 21.41c.39.39.9.59 1.41.59.51 0 1.02-.2 1.41-.59l7.78-7.78 2.81-2.81c.8-.78.8-2.07 0-2.86zM5.41 20L4 18.59l7.72-7.72 1.47 1.35L5.41 20z\"/>\n",
              "  </svg>\n",
              "      </button>\n",
              "      \n",
              "  <style>\n",
              "    .colab-df-container {\n",
              "      display:flex;\n",
              "      flex-wrap:wrap;\n",
              "      gap: 12px;\n",
              "    }\n",
              "\n",
              "    .colab-df-convert {\n",
              "      background-color: #E8F0FE;\n",
              "      border: none;\n",
              "      border-radius: 50%;\n",
              "      cursor: pointer;\n",
              "      display: none;\n",
              "      fill: #1967D2;\n",
              "      height: 32px;\n",
              "      padding: 0 0 0 0;\n",
              "      width: 32px;\n",
              "    }\n",
              "\n",
              "    .colab-df-convert:hover {\n",
              "      background-color: #E2EBFA;\n",
              "      box-shadow: 0px 1px 2px rgba(60, 64, 67, 0.3), 0px 1px 3px 1px rgba(60, 64, 67, 0.15);\n",
              "      fill: #174EA6;\n",
              "    }\n",
              "\n",
              "    [theme=dark] .colab-df-convert {\n",
              "      background-color: #3B4455;\n",
              "      fill: #D2E3FC;\n",
              "    }\n",
              "\n",
              "    [theme=dark] .colab-df-convert:hover {\n",
              "      background-color: #434B5C;\n",
              "      box-shadow: 0px 1px 3px 1px rgba(0, 0, 0, 0.15);\n",
              "      filter: drop-shadow(0px 1px 2px rgba(0, 0, 0, 0.3));\n",
              "      fill: #FFFFFF;\n",
              "    }\n",
              "  </style>\n",
              "\n",
              "      <script>\n",
              "        const buttonEl =\n",
              "          document.querySelector('#df-21549627-fc80-4294-b7d5-ec348e1dbafe button.colab-df-convert');\n",
              "        buttonEl.style.display =\n",
              "          google.colab.kernel.accessAllowed ? 'block' : 'none';\n",
              "\n",
              "        async function convertToInteractive(key) {\n",
              "          const element = document.querySelector('#df-21549627-fc80-4294-b7d5-ec348e1dbafe');\n",
              "          const dataTable =\n",
              "            await google.colab.kernel.invokeFunction('convertToInteractive',\n",
              "                                                     [key], {});\n",
              "          if (!dataTable) return;\n",
              "\n",
              "          const docLinkHtml = 'Like what you see? Visit the ' +\n",
              "            '<a target=\"_blank\" href=https://colab.research.google.com/notebooks/data_table.ipynb>data table notebook</a>'\n",
              "            + ' to learn more about interactive tables.';\n",
              "          element.innerHTML = '';\n",
              "          dataTable['output_type'] = 'display_data';\n",
              "          await google.colab.output.renderOutput(dataTable, element);\n",
              "          const docLink = document.createElement('div');\n",
              "          docLink.innerHTML = docLinkHtml;\n",
              "          element.appendChild(docLink);\n",
              "        }\n",
              "      </script>\n",
              "    </div>\n",
              "  </div>\n",
              "  "
            ]
          },
          "metadata": {},
          "execution_count": 63
        }
      ]
    },
    {
      "cell_type": "code",
      "source": [
        "custom_palette = sns.color_palette(\"coolwarm\", 26)"
      ],
      "metadata": {
        "id": "S8OaZV55qV-5"
      },
      "execution_count": 64,
      "outputs": []
    },
    {
      "cell_type": "markdown",
      "source": [
        "# Plot predictions and ground truth snapshots\n",
        "Play with different values for the parameter i (by default i=70). Do not modify the values for the parameter lag, where lag = 0 and lag = 1 are the two future predictions returned by the model."
      ],
      "metadata": {
        "id": "tgnlKPJHSSzL"
      }
    },
    {
      "cell_type": "code",
      "metadata": {
        "id": "sh1A9px3mM1W",
        "colab": {
          "base_uri": "https://localhost:8080/",
          "height": 350
        },
        "outputId": "175ad505-1bb6-45de-e7a4-d8ae01ede7c1"
      },
      "source": [
        "i = 30\n",
        "lag = 0\n",
        "\n",
        "Ytest_hat_lag = np.reshape(Ytest_hat_fl[lag], (Ytest[lag].shape[0],Ytest[lag].shape[1],Ytest[lag].shape[2],Ytest[lag].shape[3]))\n",
        "Ytest_lag = np.reshape(Ytest_fl[lag], (Ytest[lag].shape[0],Ytest[lag].shape[1],Ytest[lag].shape[2],Ytest[lag].shape[3]))\n",
        "\n",
        "YMONOtest_lag = np.reshape(YMONOtest_fl[lag], (YMONOtest[lag].shape[0],YMONOtest[lag].shape[1],YMONOtest[lag].shape[2],YMONOtest[lag].shape[3]))\n",
        "\n",
        "plt.figure(figsize=(15,5))\n",
        "plt.subplot(1,2, 1)\n",
        "plt.contourf((Ytest_lag*range_val + min_val)[i,0,:,:]+YMONOtest_lag[i,0,:,:], 25, colors = custom_palette)\n",
        "plt.title('Ground Truth')\n",
        "plt.subplot(1,2, 2)\n",
        "plt.contourf((Ytest_hat_lag*range_val + min_val)[i,0,:,:]+YMONOtest_lag[i,0,:,:], 25, colors = custom_palette)\n",
        "plt.title('Prediction from RNN')\n",
        "plt.show()"
      ],
      "execution_count": 66,
      "outputs": [
        {
          "output_type": "display_data",
          "data": {
            "text/plain": [
              "<Figure size 1080x360 with 2 Axes>"
            ],
            "image/png": "[encoded data removed]"
          },
          "metadata": {
            "needs_background": "light"
          }
        }
      ]
    },
    {
      "cell_type": "code",
      "metadata": {
        "id": "niQwROsVeKy8",
        "colab": {
          "base_uri": "https://localhost:8080/",
          "height": 350
        },
        "outputId": "63987092-4812-4923-9ca8-41af4a8514a5"
      },
      "source": [
        "i = 30\n",
        "lag = 1\n",
        "\n",
        "Ytest_hat_lag = np.reshape(Ytest_hat_fl[lag], (Ytest[lag].shape[0],Ytest[lag].shape[1],Ytest[lag].shape[2],Ytest[lag].shape[3]))\n",
        "Ytest_lag = np.reshape(Ytest_fl[lag], (Ytest[lag].shape[0],Ytest[lag].shape[1],Ytest[lag].shape[2],Ytest[lag].shape[3]))\n",
        "\n",
        "YMONOtest_lag = np.reshape(YMONOtest_fl[lag], (YMONOtest[lag].shape[0],YMONOtest[lag].shape[1],YMONOtest[lag].shape[2],YMONOtest[lag].shape[3]))\n",
        "\n",
        "plt.figure(figsize=(15,5))\n",
        "plt.subplot(1,2, 1)\n",
        "plt.contourf((Ytest_lag*range_val + min_val)[i,0,:,:]+YMONOtest_lag[i,0,:,:], 25, colors = custom_palette)\n",
        "plt.title('Ground Truth')\n",
        "plt.subplot(1,2, 2)\n",
        "plt.contourf((Ytest_hat_lag*range_val + min_val)[i,0,:,:]+YMONOtest_lag[i,0,:,:], 25, colors = custom_palette)\n",
        "plt.title('Prediction from RNN')\n",
        "plt.show()"
      ],
      "execution_count": 67,
      "outputs": [
        {
          "output_type": "display_data",
          "data": {
            "text/plain": [
              "<Figure size 1080x360 with 2 Axes>"
            ],
            "image/png": "[encoded data removed]"
          },
          "metadata": {
            "needs_background": "light"
          }
        }
      ]
    },
    {
      "cell_type": "code",
      "source": [],
      "metadata": {
        "id": "h7VMu_MZ1l6E"
      },
      "execution_count": 67,
      "outputs": []
    }
  ]
}